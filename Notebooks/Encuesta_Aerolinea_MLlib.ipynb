{
 "cells": [
  {
   "cell_type": "markdown",
   "metadata": {
    "application/vnd.databricks.v1+cell": {
     "cellMetadata": {
      "byteLimit": 2048000,
      "rowLimit": 10000
     },
     "inputWidgets": {},
     "nuid": "ce47c87b-0e43-47f0-bef7-b1c6577ecf2f",
     "showTitle": true,
     "title": "Spark MLlib para generar un modelo que implemente Regresión Logística"
    }
   },
   "source": [
    "\n",
    "A partir del dataset encuesta_aerolinea.csv con resultados de una encuesta de una aerolínea, generad un modelo de Regresión Logística que permita clasificar la satisfacción del cliente entre las dos posibles alternativas que se indican en la columna (satisfaction_binary) del dataset: 1 para “satisfied” o 0 para “neutral or dissatisfied”. \n",
    "\n",
    "Se deben extraer las siguientes columnas para la generación del modelo: Gender, Age, Inflight wifi service,  Departure/Arrival time convenient, Ease of Online booking, Gate location, Food and drink, Online boarding, Seat comfort, Inflight entertainment, On-board service, Leg room service, Baggage handling, Check service, Inflight service, Cleanliness, satisfaction y satisfaction_binary.\n",
    "\n",
    "Como método de preparación del DataFrame, se elige eliminar todas las observaciones que contengan NaN, utilizando el método na.drop() de la siguiente manera: <mi_dataframe>.na.drop()\n",
    "\n",
    "La columna “satisfaction_binary” contiene la representación binaria 1 o 0 de las categorías de la columna “satisfaction”. La columna “satisfaction_binary” debe pasarse como el parámetro de labelCol al crear el objeto LogisticRegression.\n",
    "\n",
    "Las columnas categóricas (Gender) deben convertirse a una representación vectorial utilizando StringIndexer() y OneHotEncoder().\n",
    "\n",
    "**Los pasos para la implementación del modelo puede reducirse a los siguientes:**\n",
    "\n",
    "1. Extracción de las columnas requeridas en un nuevo DataFrame.\n",
    "2. Limpiar el Dataframe eliminando los NaN.\n",
    "3. Convertir columnas categóricas utilizando StringIndexer y OneHotEncoder.\n",
    "4. Generar el vector con las features para el entrenamiento del modelo con VectorAssembler()\n",
    "5. Construir el objeto LogisticRegression pasando los parámetros para featuresCol y labelCol.\n",
    "6. Construir el objeto Pipeline con los diferentes pasos de transformación.\n",
    "7. Separa el conjunto de datos en conjuntos de entrenamiento y evaluación.\n",
    "8. Entrenamos el modelo con el método fit() del Pipeline.\n",
    "9. Construimos el objeto BinaryClassificationEvaluator().\n",
    "\n",
    "10\\. Evaluar la precisión (accuracy) del modelo.\n",
    "\n",
    "11\\. Utilizar la libreria handyspark para obtener el gráfico de ROC (opcional)."
   ]
  },
  {
   "cell_type": "code",
   "execution_count": 0,
   "metadata": {
    "application/vnd.databricks.v1+cell": {
     "cellMetadata": {
      "byteLimit": 2048000,
      "rowLimit": 10000
     },
     "inputWidgets": {},
     "nuid": "8bc93ad4-2b42-4f60-a117-b86220ce8daa",
     "showTitle": true,
     "title": "Listar los archivos en el DBFS"
    }
   },
   "outputs": [
    {
     "output_type": "display_data",
     "data": {
      "text/html": [
       "<style scoped>\n",
       "  .table-result-container {\n",
       "    max-height: 300px;\n",
       "    overflow: auto;\n",
       "  }\n",
       "  table, th, td {\n",
       "    border: 1px solid black;\n",
       "    border-collapse: collapse;\n",
       "  }\n",
       "  th, td {\n",
       "    padding: 5px;\n",
       "  }\n",
       "  th {\n",
       "    text-align: left;\n",
       "  }\n",
       "</style><div class='table-result-container'><table class='table-result'><thead style='background-color: white'><tr><th>path</th><th>name</th><th>size</th><th>modificationTime</th></tr></thead><tbody><tr><td>dbfs:/FileStore/tables/encuesta_aerolinea-1.csv</td><td>encuesta_aerolinea-1.csv</td><td>11986211</td><td>1706643440000</td></tr><tr><td>dbfs:/FileStore/tables/encuesta_aerolinea.csv</td><td>encuesta_aerolinea.csv</td><td>11986211</td><td>1706643304000</td></tr><tr><td>dbfs:/FileStore/tables/encuesta_aerolinea_simplificado-1.csv</td><td>encuesta_aerolinea_simplificado-1.csv</td><td>11986211</td><td>1705509312000</td></tr><tr><td>dbfs:/FileStore/tables/encuesta_aerolinea_simplificado.csv</td><td>encuesta_aerolinea_simplificado.csv</td><td>11986211</td><td>1705509276000</td></tr><tr><td>dbfs:/FileStore/tables/proyecto/</td><td>proyecto/</td><td>0</td><td>0</td></tr></tbody></table></div>"
      ]
     },
     "metadata": {
      "application/vnd.databricks.v1+output": {
       "addedWidgets": {},
       "aggData": [],
       "aggError": "",
       "aggOverflow": false,
       "aggSchema": [],
       "aggSeriesLimitReached": false,
       "aggType": "",
       "arguments": {},
       "columnCustomDisplayInfos": {},
       "data": [
        [
         "dbfs:/FileStore/tables/encuesta_aerolinea-1.csv",
         "encuesta_aerolinea-1.csv",
         11986211,
         1706643440000
        ],
        [
         "dbfs:/FileStore/tables/encuesta_aerolinea.csv",
         "encuesta_aerolinea.csv",
         11986211,
         1706643304000
        ],
        [
         "dbfs:/FileStore/tables/encuesta_aerolinea_simplificado-1.csv",
         "encuesta_aerolinea_simplificado-1.csv",
         11986211,
         1705509312000
        ],
        [
         "dbfs:/FileStore/tables/encuesta_aerolinea_simplificado.csv",
         "encuesta_aerolinea_simplificado.csv",
         11986211,
         1705509276000
        ],
        [
         "dbfs:/FileStore/tables/proyecto/",
         "proyecto/",
         0,
         0
        ]
       ],
       "datasetInfos": [],
       "dbfsResultPath": null,
       "isJsonSchema": true,
       "metadata": {
        "isDbfsCommandResult": false
       },
       "overflow": false,
       "plotOptions": {
        "customPlotOptions": {},
        "displayType": "table",
        "pivotAggregation": null,
        "pivotColumns": null,
        "xColumns": null,
        "yColumns": null
       },
       "removedWidgets": [],
       "schema": [
        {
         "metadata": "{}",
         "name": "path",
         "type": "\"string\""
        },
        {
         "metadata": "{}",
         "name": "name",
         "type": "\"string\""
        },
        {
         "metadata": "{}",
         "name": "size",
         "type": "\"long\""
        },
        {
         "metadata": "{}",
         "name": "modificationTime",
         "type": "\"long\""
        }
       ],
       "type": "table"
      }
     },
     "output_type": "display_data"
    }
   ],
   "source": [
    "%fs\n",
    "ls dbfs:/FileStore/tables/"
   ]
  },
  {
   "cell_type": "code",
   "execution_count": 0,
   "metadata": {
    "application/vnd.databricks.v1+cell": {
     "cellMetadata": {
      "byteLimit": 2048000,
      "rowLimit": 10000
     },
     "inputWidgets": {},
     "nuid": "50fa870c-1f4c-4972-be12-3089df1f862a",
     "showTitle": true,
     "title": "Crear el RDD inicial a partir del dataset y mostrar las primeras observaciones"
    }
   },
   "outputs": [
    {
     "output_type": "display_data",
     "data": {
      "text/html": [
       "<style scoped>\n",
       "  .table-result-container {\n",
       "    max-height: 300px;\n",
       "    overflow: auto;\n",
       "  }\n",
       "  table, th, td {\n",
       "    border: 1px solid black;\n",
       "    border-collapse: collapse;\n",
       "  }\n",
       "  th, td {\n",
       "    padding: 5px;\n",
       "  }\n",
       "  th {\n",
       "    text-align: left;\n",
       "  }\n",
       "</style><div class='table-result-container'><table class='table-result'><thead style='background-color: white'><tr><th>_c0</th><th>id</th><th>Gender</th><th>Customer Type</th><th>Age</th><th>Type of Travel</th><th>Class</th><th>Flight Distance</th><th>Inflight wifi service</th><th>Departure/Arrival time convenient</th><th>Ease of Online booking</th><th>Gate location</th><th>Food and drink</th><th>Online boarding</th><th>Seat comfort</th><th>Inflight entertainment</th><th>On-board service</th><th>Leg room service</th><th>Baggage handling</th><th>Checkin service</th><th>Inflight service</th><th>Cleanliness</th><th>Departure Delay in Minutes</th><th>Arrival Delay in Minutes</th><th>satisfaction</th></tr></thead><tbody><tr><td>0</td><td>70172</td><td>Male</td><td>Loyal Customer</td><td>13</td><td>Personal Travel</td><td>Eco Plus</td><td>460</td><td>3</td><td>4</td><td>3</td><td>1</td><td>5</td><td>3</td><td>5</td><td>5</td><td>4</td><td>3</td><td>4</td><td>4</td><td>5</td><td>5</td><td>25</td><td>18</td><td>neutral or dissatisfied</td></tr><tr><td>1</td><td>5047</td><td>Male</td><td>disloyal Customer</td><td>25</td><td>Business travel</td><td>Business</td><td>235</td><td>3</td><td>2</td><td>3</td><td>3</td><td>1</td><td>3</td><td>1</td><td>1</td><td>1</td><td>5</td><td>3</td><td>1</td><td>4</td><td>1</td><td>1</td><td>6</td><td>neutral or dissatisfied</td></tr><tr><td>2</td><td>110028</td><td>Female</td><td>Loyal Customer</td><td>26</td><td>Business travel</td><td>Business</td><td>1142</td><td>2</td><td>2</td><td>2</td><td>2</td><td>5</td><td>5</td><td>5</td><td>5</td><td>4</td><td>3</td><td>4</td><td>4</td><td>4</td><td>5</td><td>0</td><td>0</td><td>satisfied</td></tr><tr><td>3</td><td>24026</td><td>Female</td><td>Loyal Customer</td><td>25</td><td>Business travel</td><td>Business</td><td>562</td><td>2</td><td>5</td><td>5</td><td>5</td><td>2</td><td>2</td><td>2</td><td>2</td><td>2</td><td>5</td><td>3</td><td>1</td><td>4</td><td>2</td><td>11</td><td>9</td><td>neutral or dissatisfied</td></tr><tr><td>4</td><td>119299</td><td>Male</td><td>Loyal Customer</td><td>61</td><td>Business travel</td><td>Business</td><td>214</td><td>3</td><td>3</td><td>3</td><td>3</td><td>4</td><td>5</td><td>5</td><td>3</td><td>3</td><td>4</td><td>4</td><td>3</td><td>3</td><td>3</td><td>0</td><td>0</td><td>satisfied</td></tr></tbody></table></div>"
      ]
     },
     "metadata": {
      "application/vnd.databricks.v1+output": {
       "addedWidgets": {},
       "aggData": [],
       "aggError": "",
       "aggOverflow": false,
       "aggSchema": [],
       "aggSeriesLimitReached": false,
       "aggType": "",
       "arguments": {},
       "columnCustomDisplayInfos": {},
       "data": [
        [
         0,
         70172,
         "Male",
         "Loyal Customer",
         13,
         "Personal Travel",
         "Eco Plus",
         460,
         3,
         4,
         3,
         1,
         5,
         3,
         5,
         5,
         4,
         3,
         4,
         4,
         5,
         5,
         25,
         18,
         "neutral or dissatisfied"
        ],
        [
         1,
         5047,
         "Male",
         "disloyal Customer",
         25,
         "Business travel",
         "Business",
         235,
         3,
         2,
         3,
         3,
         1,
         3,
         1,
         1,
         1,
         5,
         3,
         1,
         4,
         1,
         1,
         6,
         "neutral or dissatisfied"
        ],
        [
         2,
         110028,
         "Female",
         "Loyal Customer",
         26,
         "Business travel",
         "Business",
         1142,
         2,
         2,
         2,
         2,
         5,
         5,
         5,
         5,
         4,
         3,
         4,
         4,
         4,
         5,
         0,
         0,
         "satisfied"
        ],
        [
         3,
         24026,
         "Female",
         "Loyal Customer",
         25,
         "Business travel",
         "Business",
         562,
         2,
         5,
         5,
         5,
         2,
         2,
         2,
         2,
         2,
         5,
         3,
         1,
         4,
         2,
         11,
         9,
         "neutral or dissatisfied"
        ],
        [
         4,
         119299,
         "Male",
         "Loyal Customer",
         61,
         "Business travel",
         "Business",
         214,
         3,
         3,
         3,
         3,
         4,
         5,
         5,
         3,
         3,
         4,
         4,
         3,
         3,
         3,
         0,
         0,
         "satisfied"
        ]
       ],
       "datasetInfos": [],
       "dbfsResultPath": null,
       "isJsonSchema": true,
       "metadata": {},
       "overflow": false,
       "plotOptions": {
        "customPlotOptions": {},
        "displayType": "table",
        "pivotAggregation": null,
        "pivotColumns": null,
        "xColumns": null,
        "yColumns": null
       },
       "removedWidgets": [],
       "schema": [
        {
         "metadata": "{}",
         "name": "_c0",
         "type": "\"integer\""
        },
        {
         "metadata": "{}",
         "name": "id",
         "type": "\"integer\""
        },
        {
         "metadata": "{}",
         "name": "Gender",
         "type": "\"string\""
        },
        {
         "metadata": "{}",
         "name": "Customer Type",
         "type": "\"string\""
        },
        {
         "metadata": "{}",
         "name": "Age",
         "type": "\"integer\""
        },
        {
         "metadata": "{}",
         "name": "Type of Travel",
         "type": "\"string\""
        },
        {
         "metadata": "{}",
         "name": "Class",
         "type": "\"string\""
        },
        {
         "metadata": "{}",
         "name": "Flight Distance",
         "type": "\"integer\""
        },
        {
         "metadata": "{}",
         "name": "Inflight wifi service",
         "type": "\"integer\""
        },
        {
         "metadata": "{}",
         "name": "Departure/Arrival time convenient",
         "type": "\"integer\""
        },
        {
         "metadata": "{}",
         "name": "Ease of Online booking",
         "type": "\"integer\""
        },
        {
         "metadata": "{}",
         "name": "Gate location",
         "type": "\"integer\""
        },
        {
         "metadata": "{}",
         "name": "Food and drink",
         "type": "\"integer\""
        },
        {
         "metadata": "{}",
         "name": "Online boarding",
         "type": "\"integer\""
        },
        {
         "metadata": "{}",
         "name": "Seat comfort",
         "type": "\"integer\""
        },
        {
         "metadata": "{}",
         "name": "Inflight entertainment",
         "type": "\"integer\""
        },
        {
         "metadata": "{}",
         "name": "On-board service",
         "type": "\"integer\""
        },
        {
         "metadata": "{}",
         "name": "Leg room service",
         "type": "\"integer\""
        },
        {
         "metadata": "{}",
         "name": "Baggage handling",
         "type": "\"integer\""
        },
        {
         "metadata": "{}",
         "name": "Checkin service",
         "type": "\"integer\""
        },
        {
         "metadata": "{}",
         "name": "Inflight service",
         "type": "\"integer\""
        },
        {
         "metadata": "{}",
         "name": "Cleanliness",
         "type": "\"integer\""
        },
        {
         "metadata": "{}",
         "name": "Departure Delay in Minutes",
         "type": "\"integer\""
        },
        {
         "metadata": "{}",
         "name": "Arrival Delay in Minutes",
         "type": "\"integer\""
        },
        {
         "metadata": "{}",
         "name": "satisfaction",
         "type": "\"string\""
        }
       ],
       "type": "table"
      }
     },
     "output_type": "display_data"
    }
   ],
   "source": [
    "lines = sc.textFile('dbfs:/FileStore/tables/encuesta_aerolinea.csv')\n",
    "df_preview = spark.read.format(\"csv\").option(\"inferSchema\",\"true\").option(\"header\",\"true\").load(\"dbfs:/FileStore/tables/encuesta_aerolinea.csv\")\n",
    "df_limited = df_preview.limit(5)  # Limita a 5 registros\n",
    "df_limited.display()\n"
   ]
  },
  {
   "cell_type": "code",
   "execution_count": 0,
   "metadata": {
    "application/vnd.databricks.v1+cell": {
     "cellMetadata": {
      "byteLimit": 2048000,
      "rowLimit": 10000
     },
     "inputWidgets": {},
     "nuid": "cd9919d3-2af4-46be-ad02-df33420d9ee2",
     "showTitle": false,
     "title": ""
    }
   },
   "outputs": [],
   "source": [
    "from pyspark.sql.types import StructType, StructField, StringType, FloatType, TimestampType, IntegerType\n",
    "from pyspark.sql.functions import col"
   ]
  },
  {
   "cell_type": "code",
   "execution_count": 0,
   "metadata": {
    "application/vnd.databricks.v1+cell": {
     "cellMetadata": {
      "byteLimit": 2048000,
      "rowLimit": 10000
     },
     "inputWidgets": {},
     "nuid": "d9aa519f-c41e-42a6-b945-588a9d52bf07",
     "showTitle": true,
     "title": "Crear el schema para el DataFrame"
    }
   },
   "outputs": [],
   "source": [
    "schema = StructType([\n",
    "    StructField(\"C0\", IntegerType(), True),\n",
    "    StructField(\"ID\", IntegerType(), True),\n",
    "    StructField(\"gender\", StringType(), True),\n",
    "    StructField(\"customer_type\", StringType(), True),\n",
    "    StructField(\"age\", FloatType(), True),\n",
    "    StructField(\"type_of_travel\", StringType(), True),\n",
    "    StructField(\"class\", StringType(), True),\n",
    "    StructField(\"flight_distance\", FloatType(), True),\n",
    "    StructField(\"wifi\", FloatType(), True),\n",
    "    StructField(\"time_convenient\", FloatType(), True),\n",
    "    StructField(\"booking\", FloatType(), True),\n",
    "    StructField(\"gate\", FloatType(), True),\n",
    "    StructField(\"food\", FloatType(), True),\n",
    "    StructField(\"boarding\", FloatType(), True),\n",
    "    StructField(\"comfort\", FloatType(), True),\n",
    "    StructField(\"entertainment\", FloatType(), True),\n",
    "    StructField(\"on_board_service\", FloatType(), True),\n",
    "    StructField(\"room_service\", FloatType(), True),\n",
    "    StructField(\"handling\", FloatType(), True),\n",
    "    StructField(\"checking\", FloatType(), True),\n",
    "    StructField(\"inflight\", FloatType(), True),\n",
    "    StructField(\"cleanliness\", FloatType(), True),\n",
    "    StructField(\"departures_delay\", FloatType(), True),\n",
    "    StructField(\"arrivals_delay\", FloatType(), True),\n",
    "    StructField(\"satisfaction\", StringType(), True), \n",
    "])"
   ]
  },
  {
   "cell_type": "code",
   "execution_count": 0,
   "metadata": {
    "application/vnd.databricks.v1+cell": {
     "cellMetadata": {
      "byteLimit": 2048000,
      "rowLimit": 10000
     },
     "inputWidgets": {},
     "nuid": "5c0c5d1a-9e1d-4e57-b4d5-79213ff0556b",
     "showTitle": true,
     "title": "Crear el DataFrame e imprimir el esquema"
    }
   },
   "outputs": [],
   "source": [
    "df_raw = spark.read.format(\"csv\").option(\"header\", True).schema(schema).load('dbfs:/FileStore/tables/encuesta_aerolinea.csv')\n",
    "df = df_raw.na.drop()"
   ]
  },
  {
   "cell_type": "markdown",
   "metadata": {
    "application/vnd.databricks.v1+cell": {
     "cellMetadata": {
      "byteLimit": 2048000,
      "rowLimit": 10000
     },
     "inputWidgets": {},
     "nuid": "11d67059-f453-4c22-9b2d-b0977c83e51f",
     "showTitle": true,
     "title": "MLlib"
    }
   },
   "source": [
    "\n",
    "MLlib es la biblioteca de aprendizaje automático (machine learning) de Apache Spark. Está diseñada para simplificar la construcción de aplicaciones de aprendizaje automático a gran escala, integrándose de manera fluida con el resto del ecosistema de Spark. \n",
    "\n",
    "MLlib proporciona una amplia variedad de algoritmos y utilidades comunes de aprendizaje automático, incluyendo clasificación, regresión, clustering, filtrado colaborativo (como sistemas de recomendación), reducción de dimensionalidad, y selección de modelos. Aprovecha la distribución de datos y el procesamiento en paralelo de Spark, lo que la hace adecuada para manejar grandes volúmenes de datos de manera eficiente.\n",
    "\n",
    "Aunque MLlib está escrita en Scala, es accesible desde otros lenguajes de programación soportados por Spark, como Python (a través de PySpark) y Java.\n",
    "\n",
    "Por lo tanto, MLlib es una biblioteca robusta y versátil para realizar aprendizaje automático en plataformas distribuidas, aprovechando la potencia y escala de Apache Spark. Es especialmente útil para aplicaciones que requieren manejar grandes conjuntos de datos y realizar operaciones de aprendizaje automático complejas."
   ]
  },
  {
   "cell_type": "code",
   "execution_count": 0,
   "metadata": {
    "application/vnd.databricks.v1+cell": {
     "cellMetadata": {
      "byteLimit": 2048000,
      "rowLimit": 10000
     },
     "inputWidgets": {},
     "nuid": "78e9427b-1051-4355-9ecd-4e01cd0897ce",
     "showTitle": true,
     "title": "1. Extracción de las Columnas Requeridas"
    }
   },
   "outputs": [],
   "source": [
    "from pyspark.sql.functions import when\n",
    "\n",
    "# Seleccionar las columnas necesarias\n",
    "selected_columns = [\n",
    "    \"gender\", \"age\", \"wifi\", \"time_convenient\", \"booking\",\n",
    "    \"gate\", \"food\", \"boarding\", \"comfort\", \"entertainment\",\n",
    "    \"on_board_service\", \"room_service\", \"handling\", \"checking\",\n",
    "    \"inflight\", \"cleanliness\", \"satisfaction\"\n",
    "]\n",
    "\n",
    "df_selected = df.select(selected_columns)\n",
    "\n",
    "# Convertir la columna 'satisfaction' en binaria\n",
    "df_selected = df_selected.withColumn(\n",
    "    \"satisfaction_binary\", \n",
    "    when(col(\"satisfaction\") == \"satisfied\", 1).otherwise(0)\n",
    ")\n"
   ]
  },
  {
   "cell_type": "code",
   "execution_count": 0,
   "metadata": {
    "application/vnd.databricks.v1+cell": {
     "cellMetadata": {
      "byteLimit": 2048000,
      "rowLimit": 10000
     },
     "inputWidgets": {},
     "nuid": "c26d1419-4cb3-42b4-99ab-3a3726d10485",
     "showTitle": true,
     "title": "2.  Transformación de Características"
    }
   },
   "outputs": [],
   "source": [
    "from pyspark.ml.feature import StringIndexer, OneHotEncoder, VectorAssembler\n",
    "from pyspark.ml import Pipeline\n",
    "\n",
    "# Indexar y codificar las columnas categóricas\n",
    "gender_indexer = StringIndexer(inputCol=\"gender\", outputCol=\"genderIndex\")\n",
    "gender_encoder = OneHotEncoder(inputCol=\"genderIndex\", outputCol=\"genderVec\")\n",
    "\n",
    "# Asssembler de todas las características en un vector\n",
    "assembler_inputs = [\"genderVec\"] + selected_columns[1:-2]  # excluyendo la columna 'satisfaction' y 'satisfaction_binary'\n",
    "assembler = VectorAssembler(inputCols=assembler_inputs, outputCol=\"features\")\n"
   ]
  },
  {
   "cell_type": "markdown",
   "metadata": {
    "application/vnd.databricks.v1+cell": {
     "cellMetadata": {
      "byteLimit": 2048000,
      "rowLimit": 10000
     },
     "inputWidgets": {},
     "nuid": "1a5c1a6e-12d1-44d1-a2c0-c58adcd18962",
     "showTitle": false,
     "title": ""
    }
   },
   "source": [
    "\n",
    "En esta parte, se trabaja con la transformación de características, específicamente indexando y codificando las variables categóricas y combinando todas las características relevantes en un solo vector.\n",
    "\n",
    "1. **Importar las funciones necesarias de PySpark ML**:\n",
    "\n",
    "   - `StringIndexer`, `OneHotEncoder`, y `VectorAssembler` son transformadores de PySpark ML que ayudan a convertir datos en formatos adecuados para modelos de aprendizaje automático.\n",
    "   - `Pipeline` es una forma de encadenar múltiples transformaciones y estimadores, lo que facilita la construcción y gestión de flujos de trabajo de aprendizaje automático.\n",
    "\n",
    "2. **Indexar y codificar las columnas categóricas**:\n",
    "\n",
    "   - `StringIndexer`: Convierte la columna categórica 'gender' en índices numéricos. Esto es necesario porque muchos algoritmos de aprendizaje automático prefieren trabajar con números en lugar de texto.\n",
    "   - `OneHotEncoder`: Transforma los índices numéricos generados por `StringIndexer` en un formato de codificación one-hot. En la codificación one-hot, cada categoría única en la columna se representa como un vector binario.\n",
    "\n",
    "3. **Assembler de todas las características en un vector**:\n",
    "\n",
    "   - Aquí, se crea una lista `assembler_inputs` que contiene el nombre de la columna codificada ('genderVec') y todas las otras columnas seleccionadas, excepto 'satisfaction' y 'satisfaction_binary'.\n",
    "   - `VectorAssembler` se utiliza para combinar todas estas columnas en una única columna de características llamada 'features'. Esto es importante porque los modelos de aprendizaje automático en PySpark, como la regresión logística, esperan que los datos de entrada estén en un único vector de características.\n",
    "\n",
    "Estas operaciones están preparando los datos para ser utilizados en un modelo de aprendizaje automático, asegurando que todas las variables estén en el formato adecuado y combinadas en una estructura que el modelo puede procesar eficientemente."
   ]
  },
  {
   "cell_type": "code",
   "execution_count": 0,
   "metadata": {
    "application/vnd.databricks.v1+cell": {
     "cellMetadata": {
      "byteLimit": 2048000,
      "rowLimit": 10000
     },
     "inputWidgets": {},
     "nuid": "75758d70-b72c-4578-8733-6e755fa52bc5",
     "showTitle": true,
     "title": "3. Construcción del Modelo"
    }
   },
   "outputs": [],
   "source": [
    "#Configura y agrega la regresión logística al pipeline.\n",
    "\n",
    "from pyspark.ml.classification import LogisticRegression\n",
    "\n",
    "# Configurar la regresión logística\n",
    "lr = LogisticRegression(labelCol=\"satisfaction_binary\", featuresCol=\"features\")\n",
    "\n",
    "\n",
    "# Creación del pipeline\n",
    "preprocessing_stages = [gender_indexer, gender_encoder, assembler,lr]\n",
    "pipeline = Pipeline(stages=preprocessing_stages)\n"
   ]
  },
  {
   "cell_type": "markdown",
   "metadata": {
    "application/vnd.databricks.v1+cell": {
     "cellMetadata": {
      "byteLimit": 2048000,
      "rowLimit": 10000
     },
     "inputWidgets": {},
     "nuid": "61971586-75f9-40bd-9d8e-1818ed4ed6c2",
     "showTitle": false,
     "title": ""
    }
   },
   "source": [
    "\n",
    "Aquí, se configura el estimador de regresión logística y se integra junto con las etapas de preprocesamiento previas en un solo pipeline. Veamos cada paso en detalle:\n",
    "\n",
    "1. **Importar LogisticRegression de PySpark ML**:\n",
    "   `LogisticRegression` es la clase de PySpark ML que proporciona la implementación del algoritmo de regresión logística para la clasificación binaria.\n",
    "\n",
    "2. **Configurar la regresión logística**:\n",
    "\n",
    "   Aquí, se crea una instancia del modelo de regresión logística (`lr`). \n",
    "   - `labelCol=\"satisfaction_binary\"` indica que la columna 'satisfaction_binary' será utilizada como la etiqueta (o variable dependiente) para el modelo. Esta es la columna que se transformó anteriormente a formato binario.\n",
    "   - `featuresCol=\"features\"` especifica que la columna 'features' contiene las características (o variables independientes) que el modelo usará para hacer predicciones. Esta columna fue generada por el `VectorAssembler` y contiene todas las características relevantes en un formato vectorial.\n",
    "\n",
    "3. **Creación del pipeline**:\n",
    "   - Aquí, se crea una lista `preprocessing_stages` que incluye todas las etapas de preprocesamiento (`gender_indexer`, `gender_encoder`, `assembler`) y el modelo de regresión logística (`lr`).\n",
    "   - Luego, se crea un objeto `Pipeline` con estas etapas. En PySpark, un `Pipeline` es una secuencia de transformadores y estimadores (como modelos de aprendizaje automático) que se ejecutan en un orden específico. Este enfoque facilita la gestión del flujo de trabajo, ya que permite que los datos pasen a través de todas las etapas de preprocesamiento y modelización de manera eficiente y ordenada.\n",
    "\n",
    "Este código finaliza la configuración del flujo de trabajo para el modelo de regresión logística. Una vez que el `Pipeline` está configurado, puedes entrenarlo con un conjunto de datos y luego usarlo para hacer predicciones."
   ]
  },
  {
   "cell_type": "code",
   "execution_count": 0,
   "metadata": {
    "application/vnd.databricks.v1+cell": {
     "cellMetadata": {
      "byteLimit": 2048000,
      "rowLimit": 10000
     },
     "inputWidgets": {},
     "nuid": "50d07405-d4a9-4257-a8ee-8a82fff13ea6",
     "showTitle": true,
     "title": "4. Entrenamiento y Evaluación del Modelo"
    }
   },
   "outputs": [
    {
     "output_type": "stream",
     "name": "stdout",
     "output_type": "stream",
     "text": [
      "Área bajo la curva ROC: 0.8770348006347932\n"
     ]
    }
   ],
   "source": [
    "# Dividir en conjunto de entrenamiento y prueba\n",
    "train_data, test_data = df_selected.randomSplit([0.7, 0.3], seed=42)\n",
    "\n",
    "# Entrenar el modelo\n",
    "model = pipeline.fit(train_data)\n",
    "\n",
    "# Realizar predicciones\n",
    "predictions = model.transform(test_data)\n",
    "\n",
    "# Evaluar el modelo\n",
    "from pyspark.ml.evaluation import BinaryClassificationEvaluator\n",
    "\n",
    "evaluator = BinaryClassificationEvaluator(labelCol=\"satisfaction_binary\", metricName=\"areaUnderROC\")\n",
    "auc = evaluator.evaluate(predictions)\n",
    "print(f\"Área bajo la curva ROC: {auc}\")\n"
   ]
  },
  {
   "cell_type": "markdown",
   "metadata": {
    "application/vnd.databricks.v1+cell": {
     "cellMetadata": {
      "byteLimit": 2048000,
      "rowLimit": 10000
     },
     "inputWidgets": {},
     "nuid": "e8ea8d49-347b-4520-b4ae-d2ab8ede3304",
     "showTitle": false,
     "title": ""
    }
   },
   "source": [
    "\n",
    "Este último fragmento de código completa el flujo de trabajo del modelo de regresión logística en PySpark, abarcando la división de los datos, el entrenamiento del modelo, la realización de predicciones y la evaluación del modelo. Expliquemos cada paso:\n",
    "\n",
    "1. **Dividir en conjunto de entrenamiento y prueba**:\n",
    "\n",
    "   Aquí, se divide el DataFrame `df_selected` en dos subconjuntos: uno para entrenamiento (`train_data`) y otro para pruebas (`test_data`). La división se hace de forma que el 70% de los datos se asignan al entrenamiento y el 30% a las pruebas. El `seed` se establece para garantizar la reproducibilidad de los resultados.\n",
    "\n",
    "2. **Entrenar el modelo**:\n",
    "   ```python\n",
    "   model = pipeline.fit(train_data)\n",
    "   ```\n",
    "   Esta línea entrena el `pipeline`, que incluye todas las etapas de preprocesamiento y el modelo de regresión logística, utilizando el conjunto de datos de entrenamiento (`train_data`).\n",
    "\n",
    "3. **Realizar predicciones**:\n",
    "  \n",
    "   Una vez que el modelo está entrenado, se utiliza para hacer predicciones en el conjunto de datos de prueba (`test_data`). El resultado, `predictions`, es un DataFrame que incluye las predicciones del modelo.\n",
    "\n",
    "4. **Evaluar el modelo**:\n",
    " \n",
    "   - Aquí, se importa `BinaryClassificationEvaluator` de PySpark ML, una clase que proporciona herramientas para evaluar modelos de clasificación binaria.\n",
    "   - Se cre un evaluador `evaluator` configurado para usar la métrica \"areaUnderROC\" (área bajo la curva ROC). La curva ROC es una herramienta común para evaluar el rendimiento de los modelos de clasificación binaria.\n",
    "   - Finalmente, se utiliza el evaluador para calcular el AUC (área bajo la curva ROC) en las predicciones realizadas. Un valor más alto de AUC indica generalmente un mejor rendimiento del modelo.\n",
    "\n",
    "Este flujo de trabajo completo demuestra cómo preparar datos, configurar un modelo de regresión logística, entrenarlo y evaluarlo usando PySpark. El área bajo la curva ROC es una métrica útil para comprender el rendimiento general del modelo en términos de su capacidad para distinguir entre las clases."
   ]
  },
  {
   "cell_type": "code",
   "execution_count": 0,
   "metadata": {
    "application/vnd.databricks.v1+cell": {
     "cellMetadata": {
      "byteLimit": 2048000,
      "rowLimit": 10000
     },
     "inputWidgets": {},
     "nuid": "0bfb9edb-42d9-4d4c-8859-4a64e96830d9",
     "showTitle": true,
     "title": "5. Visualización de ROC (Opcional con HandySpark)"
    }
   },
   "outputs": [
    {
     "output_type": "stream",
     "name": "stdout",
     "output_type": "stream",
     "text": [
      "Collecting handyspark\r\n  Downloading handyspark-0.2.2a1-py2.py3-none-any.whl (39 kB)\r\nRequirement already satisfied: numpy in /databricks/python3/lib/python3.9/site-packages (from handyspark) (1.21.5)\r\nRequirement already satisfied: scipy in /databricks/python3/lib/python3.9/site-packages (from handyspark) (1.7.3)\r\nCollecting findspark\r\n  Downloading findspark-2.0.1-py2.py3-none-any.whl (4.4 kB)\r\nRequirement already satisfied: matplotlib in /databricks/python3/lib/python3.9/site-packages (from handyspark) (3.5.1)\r\nRequirement already satisfied: pandas in /databricks/python3/lib/python3.9/site-packages (from handyspark) (1.4.2)\r\nRequirement already satisfied: scikit-learn in /databricks/python3/lib/python3.9/site-packages (from handyspark) (1.0.2)\r\nCollecting pyspark\r\n  Downloading pyspark-3.5.0.tar.gz (316.9 MB)\r\n\u001B[?25l\r\u001B[K     |                                | 10 kB 23.9 MB/s eta 0:00:14\r\u001B[K     |                                | 20 kB 22.0 MB/s eta 0:00:15\r\u001B[K     |                                | 30 kB 27.3 MB/s eta 0:00:12\r\u001B[K     |                                | 40 kB 30.6 MB/s eta 0:00:11\r\u001B[K     |                                | 51 kB 7.2 MB/s eta 0:00:45\r\u001B[K     |                                | 61 kB 8.3 MB/s eta 0:00:39\r\u001B[K     |                                | 71 kB 9.1 MB/s eta 0:00:35\r\u001B[K     |                                | 81 kB 10.1 MB/s eta 0:00:32\r\u001B[K     |                                | 92 kB 11.1 MB/s eta 0:00:29\r\u001B[K     |                                | 102 kB 7.2 MB/s eta 0:00:44\r\u001B[K     |                                | 112 kB 7.2 MB/s eta 0:00:44\r\u001B[K     |                                | 122 kB 7.2 MB/s eta 0:00:44\r\u001B[K     |                                | 133 kB 7.2 MB/s eta 0:00:44\r\u001B[K     |                                | 143 kB 7.2 MB/s eta 0:00:44\r\u001B[K     |                                | 153 kB 7.2 MB/s eta 0:00:44\r\u001B[K     |                                | 163 kB 7.2 MB/s eta 0:00:44\r\u001B[K     |                                | 174 kB 7.2 MB/s eta 0:00:44\r\u001B[K     |                                | 184 kB 7.2 MB/s eta 0:00:44\r\u001B[K     |                                | 194 kB 7.2 MB/s eta 0:00:44\r\u001B[K     |                                | 204 kB 7.2 MB/s eta 0:00:44\r\u001B[K     |                                | 215 kB 7.2 MB/s eta 0:00:44\r\u001B[K     |                                | 225 kB 7.2 MB/s eta 0:00:44\r\u001B[K     |                                | 235 kB 7.2 MB/s eta 0:00:44\r\u001B[K     |                                | 245 kB 7.2 MB/s eta 0:00:44\r\u001B[K     |                                | 256 kB 7.2 MB/s eta 0:00:44\r\u001B[K     |                                | 266 kB 7.2 MB/s eta 0:00:44\r\u001B[K     |                                | 276 kB 7.2 MB/s eta 0:00:44\r\u001B[K     |                                | 286 kB 7.2 MB/s eta 0:00:44\r\u001B[K     |                                | 296 kB 7.2 MB/s eta 0:00:44\r\u001B[K     |                                | 307 kB 7.2 MB/s eta 0:00:44\r\u001B[K     |                                | 317 kB 7.2 MB/s eta 0:00:44\r\u001B[K     |                                | 327 kB 7.2 MB/s eta 0:00:44\r\u001B[K     |                                | 337 kB 7.2 MB/s eta 0:00:44\r\u001B[K     |                                | 348 kB 7.2 MB/s eta 0:00:44\r\u001B[K     |                                | 358 kB 7.2 MB/s eta 0:00:44\r\u001B[K     |                                | 368 kB 7.2 MB/s eta 0:00:44\r\u001B[K     |                                | 378 kB 7.2 MB/s eta 0:00:44\r\u001B[K     |                                | 389 kB 7.2 MB/s eta 0:00:44\r\u001B[K     |                                | 399 kB 7.2 MB/s eta 0:00:44\r\u001B[K     |                                | 409 kB 7.2 MB/s eta 0:00:44\r\u001B[K     |                                | 419 kB 7.2 MB/s eta 0:00:44\r\u001B[K     |                                | 430 kB 7.2 MB/s eta 0:00:44\r\u001B[K     |                                | 440 kB 7.2 MB/s eta 0:00:44\r\u001B[K     |                                | 450 kB 7.2 MB/s eta 0:00:44\r\u001B[K     |                                | 460 kB 7.2 MB/s eta 0:00:44\r\u001B[K     |                                | 471 kB 7.2 MB/s eta 0:00:44\r\u001B[K     |                                | 481 kB 7.2 MB/s eta 0:00:44\r\u001B[K     |                                | 491 kB 7.2 MB/s eta 0:00:44\r\u001B[K     |                                | 501 kB 7.2 MB/s eta 0:00:44\r\u001B[K     |                                | 512 kB 7.2 MB/s eta 0:00:44\r\u001B[K     |                                | 522 kB 7.2 MB/s eta 0:00:44\r\u001B[K     |                                | 532 kB 7.2 MB/s eta 0:00:44\r\u001B[K     |                                | 542 kB 7.2 MB/s eta 0:00:44\r\u001B[K     |                                | 552 kB 7.2 MB/s eta 0:00:44\r\u001B[K     |                                | 563 kB 7.2 MB/s eta 0:00:44\r\u001B[K     |                                | 573 kB 7.2 MB/s eta 0:00:44\r\u001B[K     |                                | 583 kB 7.2 MB/s eta 0:00:44\r\u001B[K     |                                | 593 kB 7.2 MB/s eta 0:00:44\r\u001B[K     |                                | 604 kB 7.2 MB/s eta 0:00:44\r\u001B[K     |                                | 614 kB 7.2 MB/s eta 0:00:44\r\u001B[K     |                                | 624 kB 7.2 MB/s eta 0:00:44\r\u001B[K     |                                | 634 kB 7.2 MB/s eta 0:00:44\r\u001B[K     |                                | 645 kB 7.2 MB/s eta 0:00:44\r\u001B[K     |                                | 655 kB 7.2 MB/s eta 0:00:44\r\u001B[K     |                                | 665 kB 7.2 MB/s eta 0:00:44\r\u001B[K     |                                | 675 kB 7.2 MB/s eta 0:00:44\r\u001B[K     |                                | 686 kB 7.2 MB/s eta 0:00:44\r\u001B[K     |                                | 696 kB 7.2 MB/s eta 0:00:44\r\u001B[K     |                                | 706 kB 7.2 MB/s eta 0:00:44\r\u001B[K     |                                | 716 kB 7.2 MB/s eta 0:00:44\r\u001B[K     |                                | 727 kB 7.2 MB/s eta 0:00:44\r\u001B[K     |                                | 737 kB 7.2 MB/s eta 0:00:44\r\u001B[K     |                                | 747 kB 7.2 MB/s eta 0:00:44\r\u001B[K     |                                | 757 kB 7.2 MB/s eta 0:00:44\r\u001B[K     |                                | 768 kB 7.2 MB/s eta 0:00:44\r\u001B[K     |                                | 778 kB 7.2 MB/s eta 0:00:44\r\u001B[K     |                                | 788 kB 7.2 MB/s eta 0:00:44\r\u001B[K     |                                | 798 kB 7.2 MB/s eta 0:00:44\r\u001B[K     |                                | 808 kB 7.2 MB/s eta 0:00:44\r\u001B[K     |                                | 819 kB 7.2 MB/s eta 0:00:44\r\u001B[K     |                                | 829 kB 7.2 MB/s eta 0:00:44\r\u001B[K     |                                | 839 kB 7.2 MB/s eta 0:00:44\r\u001B[K     |                                | 849 kB 7.2 MB/s eta 0:00:44\r\u001B[K     |                                | 860 kB 7.2 MB/s eta 0:00:44\r\u001B[K     |                                | 870 kB 7.2 MB/s eta 0:00:44\r\u001B[K     |                                | 880 kB 7.2 MB/s eta 0:00:44\r\u001B[K     |                                | 890 kB 7.2 MB/s eta 0:00:44\r\u001B[K     |                                | 901 kB 7.2 MB/s eta 0:00:44\r\u001B[K     |                                | 911 kB 7.2 MB/s eta 0:00:44\r\u001B[K     |                                | 921 kB 7.2 MB/s eta 0:00:44\r\u001B[K     |                                | 931 kB 7.2 MB/s eta 0:00:44\r\u001B[K     |                                | 942 kB 7.2 MB/s eta 0:00:44\r\u001B[K     |                                | 952 kB 7.2 MB/s eta 0:00:44\r\u001B[K     |                                | 962 kB 7.2 MB/s eta 0:00:44\r\u001B[K     |                                | 972 kB 7.2 MB/s eta 0:00:44\r\u001B[K     |                                | 983 kB 7.2 MB/s eta 0:00:44\r\u001B[K     |                                | 993 kB 7.2 MB/s eta 0:00:44\r\u001B[K     |                                | 1.0 MB 7.2 MB/s eta 0:00:44\r\u001B[K     |                                | 1.0 MB 7.2 MB/s eta 0:00:44\r\u001B[K     |                                | 1.0 MB 7.2 MB/s eta 0:00:44\r\u001B[K     |                                | 1.0 MB 7.2 MB/s eta 0:00:44\r\u001B[K     |                                | 1.0 MB 7.2 MB/s eta 0:00:44\r\u001B[K     |                                | 1.1 MB 7.2 MB/s eta 0:00:44\r\u001B[K     |                                | 1.1 MB 7.2 MB/s eta 0:00:44\r\u001B[K     |                                | 1.1 MB 7.2 MB/s eta 0:00:44\r\u001B[K     |                                | 1.1 MB 7.2 MB/s eta 0:00:44\r\u001B[K     |                                | 1.1 MB 7.2 MB/s eta 0:00:44\r\u001B[K     |▏                               | 1.1 MB 7.2 MB/s eta 0:00:44\r\u001B[K     |▏                               | 1.1 MB 7.2 MB/s eta 0:00:44\r\u001B[K     |▏                               | 1.1 MB 7.2 MB/s eta 0:00:44\r\u001B[K     |▏                               | 1.1 MB 7.2 MB/s eta 0:00:44\r\u001B[K     |▏                               | 1.1 MB 7.2 MB/s eta 0:00:44\r\u001B[K     |▏                               | 1.2 MB 7.2 MB/s eta 0:00:44\r\u001B[K     |▏                               | 1.2 MB 7.2 MB/s eta 0:00:44\r\u001B[K     |▏                               | 1.2 MB 7.2 MB/s eta 0:00:44\r\u001B[K     |▏                               | 1.2 MB 7.2 MB/s eta 0:00:44\r\u001B[K     |▏                               | 1.2 MB 7.2 MB/s eta 0:00:44\r\u001B[K     |▏                               | 1.2 MB 7.2 MB/s eta 0:00:44\r\u001B[K     |▏                               | 1.2 MB 7.2 MB/s eta 0:00:44\r\u001B[K     |▏                               | 1.2 MB 7.2 MB/s eta 0:00:44\r\u001B[K     |▏                               | 1.2 MB 7.2 MB/s eta 0:00:44\r\u001B[K     |▏                               | 1.2 MB 7.2 MB/s eta 0:00:44\r\u001B[K     |▏                               | 1.3 MB 7.2 MB/s eta 0:00:44\r\u001B[K     |▏                               | 1.3 MB 7.2 MB/s eta 0:00:44\r\u001B[K     |▏                               | 1.3 MB 7.2 MB/s eta 0:00:44\r\u001B[K     |▏                               | 1.3 MB 7.2 MB/s eta 0:00:44\r\u001B[K     |▏                               | 1.3 MB 7.2 MB/s eta 0:00:44\r\u001B[K     |▏                               | 1.3 MB 7.2 MB/s eta 0:00:44\r\u001B[K     |▏                               | 1.3 MB 7.2 MB/s eta 0:00:44\r\u001B[K     |▏                               | 1.3 MB 7.2 MB/s eta 0:00:44\r\u001B[K     |▏                               | 1.3 MB 7.2 MB/s eta 0:00:44\r\u001B[K     |▏                               | 1.4 MB 7.2 MB/s eta 0:00:44\r\u001B[K     |▏                               | 1.4 MB 7.2 MB/s eta 0:00:44\r\u001B[K     |▏                               | 1.4 MB 7.2 MB/s eta 0:00:44\r\u001B[K     |▏                               | 1.4 MB 7.2 MB/s eta 0:00:44\r\u001B[K     |▏                               | 1.4 MB 7.2 MB/s eta 0:00:44\r\u001B[K     |▏                               | 1.4 MB 7.2 MB/s eta 0:00:44\r\u001B[K     |▏                               | 1.4 MB 7.2 MB/s eta 0:00:44\r\u001B[K     |▏                               | 1.4 MB 7.2 MB/s eta 0:00:44\r\u001B[K     |▏                               | 1.4 MB 7.2 MB/s eta 0:00:44\r\u001B[K     |▏                               | 1.4 MB 7.2 MB/s eta 0:00:44\r\u001B[K     |▏                               | 1.5 MB 7.2 MB/s eta 0:00:44\r\u001B[K     |▏                               | 1.5 MB 7.2 MB/s eta 0:00:44\r\u001B[K     |▏                               | 1.5 MB 7.2 MB/s eta 0:00:44\r\u001B[K     |▏                               | 1.5 MB 7.2 MB/s eta 0:00:44\r\u001B[K     |▏                               | 1.5 MB 7.2 MB/s eta 0:00:44\r\u001B[K     |▏                               | 1.5 MB 7.2 MB/s eta 0:00:44\r\u001B[K     |▏                               | 1.5 MB 7.2 MB/s eta 0:00:44\r\u001B[K     |▏                               | 1.5 MB 7.2 MB/s eta 0:00:44\r\u001B[K     |▏                               | 1.5 MB 7.2 MB/s eta 0:00:44\r\u001B[K     |▏                               | 1.5 MB 7.2 MB/s eta 0:00:44\r\u001B[K     |▏                               | 1.6 MB 7.2 MB/s eta 0:00:44\r\u001B[K     |▏                               | 1.6 MB 7.2 MB/s eta 0:00:44\r\u001B[K     |▏                               | 1.6 MB 7.2 MB/s eta 0:00:44\r\u001B[K     |▏                               | 1.6 MB 7.2 MB/s eta 0:00:44\r\u001B[K     |▏                               | 1.6 MB 7.2 MB/s eta 0:00:44\r\u001B[K     |▏                               | 1.6 MB 7.2 MB/s eta 0:00:44\r\u001B[K     |▏                               | 1.6 MB 7.2 MB/s eta 0:00:44\r\u001B[K     |▏                               | 1.6 MB 7.2 MB/s eta 0:00:44\r\u001B[K     |▏                               | 1.6 MB 7.2 MB/s eta 0:00:44\r\u001B[K     |▏                               | 1.6 MB 7.2 MB/s eta 0:00:44\r\u001B[K     |▏                               | 1.7 MB 7.2 MB/s eta 0:00:44\r\u001B[K     |▏                               | 1.7 MB 7.2 MB/s eta 0:00:44\r\u001B[K     |▏                               | 1.7 MB 7.2 MB/s eta 0:00:44\r\u001B[K     |▏                               | 1.7 MB 7.2 MB/s eta 0:00:44\r\u001B[K     |▏                               | 1.7 MB 7.2 MB/s eta 0:00:44\r\u001B[K     |▏                               | 1.7 MB 7.2 MB/s eta 0:00:44\r\u001B[K     |▏                               | 1.7 MB 7.2 MB/s eta 0:00:44\r\u001B[K     |▏                               | 1.7 MB 7.2 MB/s eta 0:00:44\r\u001B[K     |▏                               | 1.7 MB 7.2 MB/s eta 0:00:44\r\u001B[K     |▏                               | 1.8 MB 7.2 MB/s eta 0:00:44\r\u001B[K     |▏                               | 1.8 MB 7.2 MB/s eta 0:00:44\r\u001B[K     |▏                               | 1.8 MB 7.2 MB/s eta 0:00:44\r\u001B[K     |▏                               | 1.8 MB 7.2 MB/s eta 0:00:44\r\u001B[K     |▏                               | 1.8 MB 7.2 MB/s eta 0:00:44\r\u001B[K     |▏                               | 1.8 MB 7.2 MB/s eta 0:00:44\r\u001B[K     |▏                               | 1.8 MB 7.2 MB/s eta 0:00:44\r\u001B[K     |▏                               | 1.8 MB 7.2 MB/s eta 0:00:44\r\u001B[K     |▏                               | 1.8 MB 7.2 MB/s eta 0:00:44\r\u001B[K     |▏                               | 1.8 MB 7.2 MB/s eta 0:00:44\r\u001B[K     |▏                               | 1.9 MB 7.2 MB/s eta 0:00:44\r\u001B[K     |▏                               | 1.9 MB 7.2 MB/s eta 0:00:44\r\u001B[K     |▏                               | 1.9 MB 7.2 MB/s eta 0:00:44\r\u001B[K     |▏                               | 1.9 MB 7.2 MB/s eta 0:00:44\r\u001B[K     |▏                               | 1.9 MB 7.2 MB/s eta 0:00:44\r\u001B[K     |▏                               | 1.9 MB 7.2 MB/s eta 0:00:44\r\u001B[K     |▏                               | 1.9 MB 7.2 MB/s eta 0:00:44\r\u001B[K     |▏                               | 1.9 MB 7.2 MB/s eta 0:00:44\r\u001B[K     |▏                               | 1.9 MB 7.2 MB/s eta 0:00:44\r\u001B[K     |▏                               | 1.9 MB 7.2 MB/s eta 0:00:44\r\u001B[K     |▏                               | 2.0 MB 7.2 MB/s eta 0:00:44\r\u001B[K     |▏                               | 2.0 MB 7.2 MB/s eta 0:00:44\r\u001B[K     |▏                               | 2.0 MB 7.2 MB/s eta 0:00:44\r\u001B[K     |▏                               | 2.0 MB 7.2 MB/s eta 0:00:44\r\u001B[K     |▏                               | 2.0 MB 7.2 MB/s eta 0:00:44\r\u001B[K     |▏                               | 2.0 MB 7.2 MB/s eta 0:00:44\r\u001B[K     |▏                               | 2.0 MB 7.2 MB/s eta 0:00:44\r\u001B[K     |▏                               | 2.0 MB 7.2 MB/s eta 0:00:44\r\u001B[K     |▏                               | 2.0 MB 7.2 MB/s eta 0:00:44\r\u001B[K     |▏                               | 2.0 MB 7.2 MB/s eta 0:00:44\r\u001B[K     |▏                               | 2.1 MB 7.2 MB/s eta 0:00:44\r\u001B[K     |▏                               | 2.1 MB 7.2 MB/s eta 0:00:44\r\u001B[K     |▏                               | 2.1 MB 7.2 MB/s eta 0:00:44\r\u001B[K     |▏                               | 2.1 MB 7.2 MB/s eta 0:00:44\r\u001B[K     |▏                               | 2.1 MB 7.2 MB/s eta 0:00:44\r\u001B[K     |▏                               | 2.1 MB 7.2 MB/s eta 0:00:44\r\u001B[K     |▏                               | 2.1 MB 7.2 MB/s eta 0:00:44\r\u001B[K     |▏                               | 2.1 MB 7.2 MB/s eta 0:00:44\r\u001B[K     |▏                               | 2.1 MB 7.2 MB/s eta 0:00:44\r\u001B[K     |▏                               | 2.2 MB 7.2 MB/s eta 0:00:44\r\u001B[K     |▏                               | 2.2 MB 7.2 MB/s eta 0:00:44\r\u001B[K     |▏                               | 2.2 MB 7.2 MB/s eta 0:00:44\r\u001B[K     |▏                               | 2.2 MB 7.2 MB/s eta 0:00:44\r\u001B[K     |▏                               | 2.2 MB 7.2 MB/s eta 0:00:44\r\u001B[K     |▎                               | 2.2 MB 7.2 MB/s eta 0:00:44\r\u001B[K     |▎                               | 2.2 MB 7.2 MB/s eta 0:00:44\r\u001B[K     |▎                               | 2.2 MB 7.2 MB/s eta 0:00:44\r\u001B[K     |▎                               | 2.2 MB 7.2 MB/s eta 0:00:44\r\u001B[K     |▎                               | 2.2 MB 7.2 MB/s eta 0:00:44\r\u001B[K     |▎                               | 2.3 MB 7.2 MB/s eta 0:00:44\r\u001B[K     |▎                               | 2.3 MB 7.2 MB/s eta 0:00:44\r\u001B[K     |▎                               | 2.3 MB 7.2 MB/s eta 0:00:44\r\u001B[K     |▎                               | 2.3 MB 7.2 MB/s eta 0:00:44\r\u001B[K     |▎                               | 2.3 MB 7.2 MB/s eta 0:00:44\r\u001B[K     |▎                               | 2.3 MB 7.2 MB/s eta 0:00:44\r\u001B[K     |▎                               | 2.3 MB 7.2 MB/s eta 0:00:44\r\u001B[K     |▎                               | 2.3 MB 7.2 MB/s eta 0:00:44\r\u001B[K     |▎                               | 2.3 MB 7.2 MB/s eta 0:00:44\r\u001B[K     |▎                               | 2.3 MB 7.2 MB/s eta 0:00:44\r\u001B[K     |▎                               | 2.4 MB 7.2 MB/s eta 0:00:44\r\u001B[K     |▎                               | 2.4 MB 7.2 MB/s eta 0:00:44\r\u001B[K     |▎                               | 2.4 MB 7.2 MB/s eta 0:00:44\r\u001B[K     |▎                               | 2.4 MB 7.2 MB/s eta 0:00:44\r\u001B[K     |▎                               | 2.4 MB 7.2 MB/s eta 0:00:44\r\u001B[K     |▎                               | 2.4 MB 7.2 MB/s eta 0:00:44\r\u001B[K     |▎                               | 2.4 MB 7.2 MB/s eta 0:00:44\r\u001B[K     |▎                               | 2.4 MB 7.2 MB/s eta 0:00:44\r\u001B[K     |▎                               | 2.4 MB 7.2 MB/s eta 0:00:44\r\u001B[K     |▎                               | 2.4 MB 7.2 MB/s eta 0:00:44\r\u001B[K     |▎                               | 2.5 MB 7.2 MB/s eta 0:00:44\r\u001B[K     |▎                               | 2.5 MB 7.2 MB/s eta 0:00:44\r\u001B[K     |▎                               | 2.5 MB 7.2 MB/s eta 0:00:44\r\u001B[K     |▎                               | 2.5 MB 7.2 MB/s eta 0:00:44\r\u001B[K     |▎                               | 2.5 MB 7.2 MB/s eta 0:00:44\r\u001B[K     |▎                               | 2.5 MB 7.2 MB/s eta 0:00:44\r\u001B[K     |▎                               | 2.5 MB 7.2 MB/s eta 0:00:44\r\u001B[K     |▎                               | 2.5 MB 7.2 MB/s eta 0:00:44\r\u001B[K     |▎                               | 2.5 MB 7.2 MB/s eta 0:00:44\r\u001B[K     |▎                               | 2.5 MB 7.2 MB/s eta 0:00:44\r\u001B[K     |▎                               | 2.6 MB 7.2 MB/s eta 0:00:44\r\u001B[K     |▎                               | 2.6 MB 7.2 MB/s eta 0:00:44\r\u001B[K     |▎                               | 2.6 MB 7.2 MB/s eta 0:00:44\r\u001B[K     |▎                               | 2.6 MB 7.2 MB/s eta 0:00:44\r\u001B[K     |▎                               | 2.6 MB 7.2 MB/s eta 0:00:44\r\u001B[K     |▎                               | 2.6 MB 7.2 MB/s eta 0:00:44\r\u001B[K     |▎                               | 2.6 MB 7.2 MB/s eta 0:00:44\r\u001B[K     |▎                               | 2.6 MB 7.2 MB/s eta 0:00:44\r\u001B[K     |▎                               | 2.6 MB 7.2 MB/s eta 0:00:44\r\u001B[K     |▎                               | 2.7 MB 7.2 MB/s eta 0:00:44\r\u001B[K     |▎                               | 2.7 MB 7.2 MB/s eta 0:00:44\r\u001B[K     |▎                               | 2.7 MB 7.2 MB/s eta 0:00:44\r\u001B[K     |▎                               | 2.7 MB 7.2 MB/s eta 0:00:44\r\u001B[K     |▎                               | 2.7 MB 7.2 MB/s eta 0:00:44\r\u001B[K     |▎                               | 2.7 MB 7.2 MB/s eta 0:00:44\r\u001B[K     |▎                               | 2.7 MB 7.2 MB/s eta 0:00:44\r\u001B[K     |▎                               | 2.7 MB 7.2 MB/s eta 0:00:44\r\u001B[K     |▎                               | 2.7 MB 7.2 MB/s eta 0:00:44\r\u001B[K     |▎                               | 2.7 MB 7.2 MB/s eta 0:00:44\r\u001B[K     |▎                               | 2.8 MB 7.2 MB/s eta 0:00:44\r\u001B[K     |▎                               | 2.8 MB 7.2 MB/s eta 0:00:44\r\u001B[K     |▎                               | 2.8 MB 7.2 MB/s eta 0:00:44\r\u001B[K     |▎                               | 2.8 MB 7.2 MB/s eta 0:00:44\r\u001B[K     |▎                               | 2.8 MB 7.2 MB/s eta 0:00:44\r\u001B[K     |▎                               | 2.8 MB 7.2 MB/s eta 0:00:44\r\u001B[K     |▎                               | 2.8 MB 7.2 MB/s eta 0:00:44\r\u001B[K     |▎                               | 2.8 MB 7.2 MB/s eta 0:00:44\r\u001B[K     |▎                               | 2.8 MB 7.2 MB/s eta 0:00:44\r\u001B[K     |▎                               | 2.8 MB 7.2 MB/s eta 0:00:44\r\u001B[K     |▎                               | 2.9 MB 7.2 MB/s eta 0:00:44\r\u001B[K     |▎                               | 2.9 MB 7.2 MB/s eta 0:00:44\r\u001B[K     |▎                               | 2.9 MB 7.2 MB/s eta 0:00:44\r\u001B[K     |▎                               | 2.9 MB 7.2 MB/s eta 0:00:44\r\u001B[K     |▎                               | 2.9 MB 7.2 MB/s eta 0:00:44\r\u001B[K     |▎                               | 2.9 MB 7.2 MB/s eta 0:00:44\r\u001B[K     |▎                               | 2.9 MB 7.2 MB/s eta 0:00:44\r\u001B[K     |▎                               | 2.9 MB 7.2 MB/s eta 0:00:44\r\u001B[K     |▎                               | 2.9 MB 7.2 MB/s eta 0:00:44\r\u001B[K     |▎                               | 2.9 MB 7.2 MB/s eta 0:00:44\r\u001B[K     |▎                               | 3.0 MB 7.2 MB/s eta 0:00:44\r\u001B[K     |▎                               | 3.0 MB 7.2 MB/s eta 0:00:44\r\u001B[K     |▎                               | 3.0 MB 7.2 MB/s eta 0:00:44\r\u001B[K     |▎                               | 3.0 MB 7.2 MB/s eta 0:00:44\r\u001B[K     |▎                               | 3.0 MB 7.2 MB/s eta 0:00:44\r\u001B[K     |▎                               | 3.0 MB 7.2 MB/s eta 0:00:44\r\u001B[K     |▎                               | 3.0 MB 7.2 MB/s eta 0:00:44\r\u001B[K     |▎                               | 3.0 MB 7.2 MB/s eta 0:00:44\r\u001B[K     |▎                               | 3.0 MB 7.2 MB/s eta 0:00:44\r\u001B[K     |▎                               | 3.1 MB 7.2 MB/s eta 0:00:44\r\u001B[K     |▎                               | 3.1 MB 7.2 MB/s eta 0:00:44\r\u001B[K     |▎                               | 3.1 MB 7.2 MB/s eta 0:00:44\r\u001B[K     |▎                               | 3.1 MB 7.2 MB/s eta 0:00:44\r\u001B[K     |▎                               | 3.1 MB 7.2 MB/s eta 0:00:44\r\u001B[K     |▎                               | 3.1 MB 7.2 MB/s eta 0:00:44\r\u001B[K     |▎                               | 3.1 MB 7.2 MB/s eta 0:00:44\r\u001B[K     |▎                               | 3.1 MB 7.2 MB/s eta 0:00:44\r\u001B[K     |▎                               | 3.1 MB 7.2 MB/s eta 0:00:44\r\u001B[K     |▎                               | 3.1 MB 7.2 MB/s eta 0:00:44\r\u001B[K     |▎                               | 3.2 MB 7.2 MB/s eta 0:00:44\r\u001B[K     |▎                               | 3.2 MB 7.2 MB/s eta 0:00:44\r\u001B[K     |▎                               | 3.2 MB 7.2 MB/s eta 0:00:44\r\u001B[K     |▎                               | 3.2 MB 7.2 MB/s eta 0:00:44\r\u001B[K     |▎                               | 3.2 MB 7.2 MB/s eta 0:00:44\r\u001B[K     |▎                               | 3.2 MB 7.2 MB/s eta 0:00:44\r\u001B[K     |▎                               | 3.2 MB 7.2 MB/s eta 0:00:44\r\u001B[K     |▎                               | 3.2 MB 7.2 MB/s eta 0:00:44\r\u001B[K     |▎                               | 3.2 MB 7.2 MB/s eta 0:00:44\r\u001B[K     |▎                               | 3.2 MB 7.2 MB/s eta 0:00:44\r\u001B[K     |▎                               | 3.3 MB 7.2 MB/s eta 0:00:44\r\u001B[K     |▎                               | 3.3 MB 7.2 MB/s eta 0:00:44\r\u001B[K     |▎                               | 3.3 MB 7.2 MB/s eta 0:00:44\r\u001B[K     |▎                               | 3.3 MB 7.2 MB/s eta 0:00:44\r\u001B[K     |▎                               | 3.3 MB 7.2 MB/s eta 0:00:44\r\u001B[K     |▍                               | 3.3 MB 7.2 MB/s eta 0:00:44\r\u001B[K     |▍                               | 3.3 MB 7.2 MB/s eta 0:00:44\r\u001B[K     |▍                               | 3.3 MB 7.2 MB/s eta 0:00:44\r\u001B[K     |▍                               | 3.3 MB 7.2 MB/s eta 0:00:44\r\u001B[K     |▍                               | 3.3 MB 7.2 MB/s eta 0:00:44\r\u001B[K     |▍                               | 3.4 MB 7.2 MB/s eta 0:00:44\r\u001B[K     |▍                               | 3.4 MB 7.2 MB/s eta 0:00:44\r\u001B[K     |▍                               | 3.4 MB 7.2 MB/s eta 0:00:44\r\u001B[K     |▍                               | 3.4 MB 7.2 MB/s eta 0:00:44\r\u001B[K     |▍                               | 3.4 MB 7.2 MB/s eta 0:00:44\r\u001B[K     |▍                               | 3.4 MB 7.2 MB/s eta 0:00:44\r\u001B[K     |▍                               | 3.4 MB 7.2 MB/s eta 0:00:44\r\u001B[K     |▍                               | 3.4 MB 7.2 MB/s eta 0:00:44\r\u001B[K     |▍                               | 3.4 MB 7.2 MB/s eta 0:00:44\r\u001B[K     |▍                               | 3.5 MB 7.2 MB/s eta 0:00:44\r\u001B[K     |▍                               | 3.5 MB 7.2 MB/s eta 0:00:44\r\u001B[K     |▍                               | 3.5 MB 7.2 MB/s eta 0:00:44\r\u001B[K     |▍                               | 3.5 MB 7.2 MB/s eta 0:00:44\r\u001B[K     |▍                     \n\n*** WARNING: max output size exceeded, skipping output. ***\n\n  |███████████████████████████████▊| 314.1 MB 18.6 MB/s eta 0:00:01\r\u001B[K     |███████████████████████████████▊| 314.1 MB 18.6 MB/s eta 0:00:01\r\u001B[K     |███████████████████████████████▊| 314.1 MB 18.6 MB/s eta 0:00:01\r\u001B[K     |███████████████████████████████▊| 314.1 MB 18.6 MB/s eta 0:00:01\r\u001B[K     |███████████████████████████████▊| 314.1 MB 18.6 MB/s eta 0:00:01\r\u001B[K     |███████████████████████████████▊| 314.1 MB 18.6 MB/s eta 0:00:01\r\u001B[K     |███████████████████████████████▊| 314.1 MB 18.6 MB/s eta 0:00:01\r\u001B[K     |███████████████████████████████▊| 314.1 MB 18.6 MB/s eta 0:00:01\r\u001B[K     |███████████████████████████████▊| 314.1 MB 18.6 MB/s eta 0:00:01\r\u001B[K     |███████████████████████████████▊| 314.2 MB 18.6 MB/s eta 0:00:01\r\u001B[K     |███████████████████████████████▊| 314.2 MB 18.6 MB/s eta 0:00:01\r\u001B[K     |███████████████████████████████▊| 314.2 MB 18.6 MB/s eta 0:00:01\r\u001B[K     |███████████████████████████████▊| 314.2 MB 18.6 MB/s eta 0:00:01\r\u001B[K     |███████████████████████████████▊| 314.2 MB 18.6 MB/s eta 0:00:01\r\u001B[K     |███████████████████████████████▊| 314.2 MB 18.6 MB/s eta 0:00:01\r\u001B[K     |███████████████████████████████▊| 314.2 MB 18.6 MB/s eta 0:00:01\r\u001B[K     |███████████████████████████████▊| 314.2 MB 18.6 MB/s eta 0:00:01\r\u001B[K     |███████████████████████████████▊| 314.2 MB 18.6 MB/s eta 0:00:01\r\u001B[K     |███████████████████████████████▊| 314.2 MB 18.6 MB/s eta 0:00:01\r\u001B[K     |███████████████████████████████▊| 314.3 MB 18.6 MB/s eta 0:00:01\r\u001B[K     |███████████████████████████████▊| 314.3 MB 18.6 MB/s eta 0:00:01\r\u001B[K     |███████████████████████████████▊| 314.3 MB 18.6 MB/s eta 0:00:01\r\u001B[K     |███████████████████████████████▊| 314.3 MB 18.6 MB/s eta 0:00:01\r\u001B[K     |███████████████████████████████▊| 314.3 MB 18.6 MB/s eta 0:00:01\r\u001B[K     |███████████████████████████████▊| 314.3 MB 18.6 MB/s eta 0:00:01\r\u001B[K     |███████████████████████████████▊| 314.3 MB 18.6 MB/s eta 0:00:01\r\u001B[K     |███████████████████████████████▊| 314.3 MB 18.6 MB/s eta 0:00:01\r\u001B[K     |███████████████████████████████▊| 314.3 MB 18.6 MB/s eta 0:00:01\r\u001B[K     |███████████████████████████████▊| 314.3 MB 18.6 MB/s eta 0:00:01\r\u001B[K     |███████████████████████████████▊| 314.4 MB 18.6 MB/s eta 0:00:01\r\u001B[K     |███████████████████████████████▊| 314.4 MB 18.6 MB/s eta 0:00:01\r\u001B[K     |███████████████████████████████▊| 314.4 MB 18.6 MB/s eta 0:00:01\r\u001B[K     |███████████████████████████████▊| 314.4 MB 18.6 MB/s eta 0:00:01\r\u001B[K     |███████████████████████████████▊| 314.4 MB 18.6 MB/s eta 0:00:01\r\u001B[K     |███████████████████████████████▊| 314.4 MB 18.6 MB/s eta 0:00:01\r\u001B[K     |███████████████████████████████▊| 314.4 MB 18.6 MB/s eta 0:00:01\r\u001B[K     |███████████████████████████████▊| 314.4 MB 18.6 MB/s eta 0:00:01\r\u001B[K     |███████████████████████████████▊| 314.4 MB 18.6 MB/s eta 0:00:01\r\u001B[K     |███████████████████████████████▊| 314.4 MB 18.6 MB/s eta 0:00:01\r\u001B[K     |███████████████████████████████▊| 314.5 MB 18.6 MB/s eta 0:00:01\r\u001B[K     |███████████████████████████████▊| 314.5 MB 18.6 MB/s eta 0:00:01\r\u001B[K     |███████████████████████████████▊| 314.5 MB 18.6 MB/s eta 0:00:01\r\u001B[K     |███████████████████████████████▊| 314.5 MB 18.6 MB/s eta 0:00:01\r\u001B[K     |███████████████████████████████▊| 314.5 MB 18.6 MB/s eta 0:00:01\r\u001B[K     |███████████████████████████████▊| 314.5 MB 18.6 MB/s eta 0:00:01\r\u001B[K     |███████████████████████████████▊| 314.5 MB 18.6 MB/s eta 0:00:01\r\u001B[K     |███████████████████████████████▊| 314.5 MB 18.6 MB/s eta 0:00:01\r\u001B[K     |███████████████████████████████▊| 314.5 MB 18.6 MB/s eta 0:00:01\r\u001B[K     |███████████████████████████████▊| 314.6 MB 18.6 MB/s eta 0:00:01\r\u001B[K     |███████████████████████████████▊| 314.6 MB 18.6 MB/s eta 0:00:01\r\u001B[K     |███████████████████████████████▊| 314.6 MB 18.6 MB/s eta 0:00:01\r\u001B[K     |███████████████████████████████▊| 314.6 MB 18.6 MB/s eta 0:00:01\r\u001B[K     |███████████████████████████████▊| 314.6 MB 18.6 MB/s eta 0:00:01\r\u001B[K     |███████████████████████████████▊| 314.6 MB 18.6 MB/s eta 0:00:01\r\u001B[K     |███████████████████████████████▊| 314.6 MB 18.6 MB/s eta 0:00:01\r\u001B[K     |███████████████████████████████▊| 314.6 MB 18.6 MB/s eta 0:00:01\r\u001B[K     |███████████████████████████████▊| 314.6 MB 18.6 MB/s eta 0:00:01\r\u001B[K     |███████████████████████████████▊| 314.6 MB 18.6 MB/s eta 0:00:01\r\u001B[K     |███████████████████████████████▊| 314.7 MB 18.6 MB/s eta 0:00:01\r\u001B[K     |███████████████████████████████▊| 314.7 MB 18.6 MB/s eta 0:00:01\r\u001B[K     |███████████████████████████████▊| 314.7 MB 18.6 MB/s eta 0:00:01\r\u001B[K     |███████████████████████████████▊| 314.7 MB 18.6 MB/s eta 0:00:01\r\u001B[K     |███████████████████████████████▉| 314.7 MB 18.6 MB/s eta 0:00:01\r\u001B[K     |███████████████████████████████▉| 314.7 MB 18.6 MB/s eta 0:00:01\r\u001B[K     |███████████████████████████████▉| 314.7 MB 18.6 MB/s eta 0:00:01\r\u001B[K     |███████████████████████████████▉| 314.7 MB 18.6 MB/s eta 0:00:01\r\u001B[K     |███████████████████████████████▉| 314.7 MB 18.6 MB/s eta 0:00:01\r\u001B[K     |███████████████████████████████▉| 314.7 MB 18.6 MB/s eta 0:00:01\r\u001B[K     |███████████████████████████████▉| 314.8 MB 18.6 MB/s eta 0:00:01\r\u001B[K     |███████████████████████████████▉| 314.8 MB 18.6 MB/s eta 0:00:01\r\u001B[K     |███████████████████████████████▉| 314.8 MB 18.6 MB/s eta 0:00:01\r\u001B[K     |███████████████████████████████▉| 314.8 MB 18.6 MB/s eta 0:00:01\r\u001B[K     |███████████████████████████████▉| 314.8 MB 18.6 MB/s eta 0:00:01\r\u001B[K     |███████████████████████████████▉| 314.8 MB 18.6 MB/s eta 0:00:01\r\u001B[K     |███████████████████████████████▉| 314.8 MB 18.6 MB/s eta 0:00:01\r\u001B[K     |███████████████████████████████▉| 314.8 MB 18.6 MB/s eta 0:00:01\r\u001B[K     |███████████████████████████████▉| 314.8 MB 18.6 MB/s eta 0:00:01\r\u001B[K     |███████████████████████████████▉| 314.8 MB 18.6 MB/s eta 0:00:01\r\u001B[K     |███████████████████████████████▉| 314.9 MB 18.6 MB/s eta 0:00:01\r\u001B[K     |███████████████████████████████▉| 314.9 MB 18.6 MB/s eta 0:00:01\r\u001B[K     |███████████████████████████████▉| 314.9 MB 18.6 MB/s eta 0:00:01\r\u001B[K     |███████████████████████████████▉| 314.9 MB 18.6 MB/s eta 0:00:01\r\u001B[K     |███████████████████████████████▉| 314.9 MB 18.6 MB/s eta 0:00:01\r\u001B[K     |███████████████████████████████▉| 314.9 MB 18.6 MB/s eta 0:00:01\r\u001B[K     |███████████████████████████████▉| 314.9 MB 18.6 MB/s eta 0:00:01\r\u001B[K     |███████████████████████████████▉| 314.9 MB 18.6 MB/s eta 0:00:01\r\u001B[K     |███████████████████████████████▉| 314.9 MB 18.6 MB/s eta 0:00:01\r\u001B[K     |███████████████████████████████▉| 315.0 MB 18.6 MB/s eta 0:00:01\r\u001B[K     |███████████████████████████████▉| 315.0 MB 18.6 MB/s eta 0:00:01\r\u001B[K     |███████████████████████████████▉| 315.0 MB 18.6 MB/s eta 0:00:01\r\u001B[K     |███████████████████████████████▉| 315.0 MB 18.6 MB/s eta 0:00:01\r\u001B[K     |███████████████████████████████▉| 315.0 MB 18.6 MB/s eta 0:00:01\r\u001B[K     |███████████████████████████████▉| 315.0 MB 18.6 MB/s eta 0:00:01\r\u001B[K     |███████████████████████████████▉| 315.0 MB 18.6 MB/s eta 0:00:01\r\u001B[K     |███████████████████████████████▉| 315.0 MB 18.6 MB/s eta 0:00:01\r\u001B[K     |███████████████████████████████▉| 315.0 MB 18.6 MB/s eta 0:00:01\r\u001B[K     |███████████████████████████████▉| 315.0 MB 18.6 MB/s eta 0:00:01\r\u001B[K     |███████████████████████████████▉| 315.1 MB 18.6 MB/s eta 0:00:01\r\u001B[K     |███████████████████████████████▉| 315.1 MB 18.6 MB/s eta 0:00:01\r\u001B[K     |███████████████████████████████▉| 315.1 MB 18.6 MB/s eta 0:00:01\r\u001B[K     |███████████████████████████████▉| 315.1 MB 18.6 MB/s eta 0:00:01\r\u001B[K     |███████████████████████████████▉| 315.1 MB 18.6 MB/s eta 0:00:01\r\u001B[K     |███████████████████████████████▉| 315.1 MB 18.6 MB/s eta 0:00:01\r\u001B[K     |███████████████████████████████▉| 315.1 MB 18.6 MB/s eta 0:00:01\r\u001B[K     |███████████████████████████████▉| 315.1 MB 18.6 MB/s eta 0:00:01\r\u001B[K     |███████████████████████████████▉| 315.1 MB 18.6 MB/s eta 0:00:01\r\u001B[K     |███████████████████████████████▉| 315.1 MB 18.6 MB/s eta 0:00:01\r\u001B[K     |███████████████████████████████▉| 315.2 MB 18.6 MB/s eta 0:00:01\r\u001B[K     |███████████████████████████████▉| 315.2 MB 18.6 MB/s eta 0:00:01\r\u001B[K     |███████████████████████████████▉| 315.2 MB 18.6 MB/s eta 0:00:01\r\u001B[K     |███████████████████████████████▉| 315.2 MB 18.6 MB/s eta 0:00:01\r\u001B[K     |███████████████████████████████▉| 315.2 MB 18.6 MB/s eta 0:00:01\r\u001B[K     |███████████████████████████████▉| 315.2 MB 18.6 MB/s eta 0:00:01\r\u001B[K     |███████████████████████████████▉| 315.2 MB 18.6 MB/s eta 0:00:01\r\u001B[K     |███████████████████████████████▉| 315.2 MB 18.6 MB/s eta 0:00:01\r\u001B[K     |███████████████████████████████▉| 315.2 MB 18.6 MB/s eta 0:00:01\r\u001B[K     |███████████████████████████████▉| 315.2 MB 18.6 MB/s eta 0:00:01\r\u001B[K     |███████████████████████████████▉| 315.3 MB 18.6 MB/s eta 0:00:01\r\u001B[K     |███████████████████████████████▉| 315.3 MB 18.6 MB/s eta 0:00:01\r\u001B[K     |███████████████████████████████▉| 315.3 MB 18.6 MB/s eta 0:00:01\r\u001B[K     |███████████████████████████████▉| 315.3 MB 18.6 MB/s eta 0:00:01\r\u001B[K     |███████████████████████████████▉| 315.3 MB 18.6 MB/s eta 0:00:01\r\u001B[K     |███████████████████████████████▉| 315.3 MB 18.6 MB/s eta 0:00:01\r\u001B[K     |███████████████████████████████▉| 315.3 MB 18.6 MB/s eta 0:00:01\r\u001B[K     |███████████████████████████████▉| 315.3 MB 18.6 MB/s eta 0:00:01\r\u001B[K     |███████████████████████████████▉| 315.3 MB 18.6 MB/s eta 0:00:01\r\u001B[K     |███████████████████████████████▉| 315.4 MB 18.6 MB/s eta 0:00:01\r\u001B[K     |███████████████████████████████▉| 315.4 MB 18.6 MB/s eta 0:00:01\r\u001B[K     |███████████████████████████████▉| 315.4 MB 18.6 MB/s eta 0:00:01\r\u001B[K     |███████████████████████████████▉| 315.4 MB 18.6 MB/s eta 0:00:01\r\u001B[K     |███████████████████████████████▉| 315.4 MB 18.6 MB/s eta 0:00:01\r\u001B[K     |███████████████████████████████▉| 315.4 MB 18.6 MB/s eta 0:00:01\r\u001B[K     |███████████████████████████████▉| 315.4 MB 18.6 MB/s eta 0:00:01\r\u001B[K     |███████████████████████████████▉| 315.4 MB 18.6 MB/s eta 0:00:01\r\u001B[K     |███████████████████████████████▉| 315.4 MB 18.6 MB/s eta 0:00:01\r\u001B[K     |███████████████████████████████▉| 315.4 MB 18.6 MB/s eta 0:00:01\r\u001B[K     |███████████████████████████████▉| 315.5 MB 18.6 MB/s eta 0:00:01\r\u001B[K     |███████████████████████████████▉| 315.5 MB 18.6 MB/s eta 0:00:01\r\u001B[K     |███████████████████████████████▉| 315.5 MB 18.6 MB/s eta 0:00:01\r\u001B[K     |███████████████████████████████▉| 315.5 MB 18.6 MB/s eta 0:00:01\r\u001B[K     |███████████████████████████████▉| 315.5 MB 18.6 MB/s eta 0:00:01\r\u001B[K     |███████████████████████████████▉| 315.5 MB 18.6 MB/s eta 0:00:01\r\u001B[K     |███████████████████████████████▉| 315.5 MB 18.6 MB/s eta 0:00:01\r\u001B[K     |███████████████████████████████▉| 315.5 MB 18.6 MB/s eta 0:00:01\r\u001B[K     |███████████████████████████████▉| 315.5 MB 18.6 MB/s eta 0:00:01\r\u001B[K     |███████████████████████████████▉| 315.5 MB 18.6 MB/s eta 0:00:01\r\u001B[K     |███████████████████████████████▉| 315.6 MB 18.6 MB/s eta 0:00:01\r\u001B[K     |███████████████████████████████▉| 315.6 MB 18.6 MB/s eta 0:00:01\r\u001B[K     |███████████████████████████████▉| 315.6 MB 18.6 MB/s eta 0:00:01\r\u001B[K     |███████████████████████████████▉| 315.6 MB 18.6 MB/s eta 0:00:01\r\u001B[K     |███████████████████████████████▉| 315.6 MB 18.6 MB/s eta 0:00:01\r\u001B[K     |███████████████████████████████▉| 315.6 MB 18.6 MB/s eta 0:00:01\r\u001B[K     |███████████████████████████████▉| 315.6 MB 18.6 MB/s eta 0:00:01\r\u001B[K     |███████████████████████████████▉| 315.6 MB 18.6 MB/s eta 0:00:01\r\u001B[K     |███████████████████████████████▉| 315.6 MB 18.6 MB/s eta 0:00:01\r\u001B[K     |███████████████████████████████▉| 315.6 MB 18.6 MB/s eta 0:00:01\r\u001B[K     |███████████████████████████████▉| 315.7 MB 18.6 MB/s eta 0:00:01\r\u001B[K     |███████████████████████████████▉| 315.7 MB 18.6 MB/s eta 0:00:01\r\u001B[K     |███████████████████████████████▉| 315.7 MB 18.6 MB/s eta 0:00:01\r\u001B[K     |███████████████████████████████▉| 315.7 MB 18.6 MB/s eta 0:00:01\r\u001B[K     |███████████████████████████████▉| 315.7 MB 18.6 MB/s eta 0:00:01\r\u001B[K     |███████████████████████████████▉| 315.7 MB 18.6 MB/s eta 0:00:01\r\u001B[K     |███████████████████████████████▉| 315.7 MB 18.6 MB/s eta 0:00:01\r\u001B[K     |███████████████████████████████▉| 315.7 MB 18.6 MB/s eta 0:00:01\r\u001B[K     |███████████████████████████████▉| 315.7 MB 18.6 MB/s eta 0:00:01\r\u001B[K     |███████████████████████████████▉| 315.8 MB 18.6 MB/s eta 0:00:01\r\u001B[K     |███████████████████████████████▉| 315.8 MB 18.6 MB/s eta 0:00:01\r\u001B[K     |███████████████████████████████▉| 315.8 MB 18.6 MB/s eta 0:00:01\r\u001B[K     |███████████████████████████████▉| 315.8 MB 18.6 MB/s eta 0:00:01\r\u001B[K     |████████████████████████████████| 315.8 MB 18.6 MB/s eta 0:00:01\r\u001B[K     |████████████████████████████████| 315.8 MB 18.6 MB/s eta 0:00:01\r\u001B[K     |████████████████████████████████| 315.8 MB 18.6 MB/s eta 0:00:01\r\u001B[K     |████████████████████████████████| 315.8 MB 18.6 MB/s eta 0:00:01\r\u001B[K     |████████████████████████████████| 315.8 MB 18.6 MB/s eta 0:00:01\r\u001B[K     |████████████████████████████████| 315.8 MB 18.6 MB/s eta 0:00:01\r\u001B[K     |████████████████████████████████| 315.9 MB 18.6 MB/s eta 0:00:01\r\u001B[K     |████████████████████████████████| 315.9 MB 18.6 MB/s eta 0:00:01\r\u001B[K     |████████████████████████████████| 315.9 MB 18.6 MB/s eta 0:00:01\r\u001B[K     |████████████████████████████████| 315.9 MB 18.6 MB/s eta 0:00:01\r\u001B[K     |████████████████████████████████| 315.9 MB 18.6 MB/s eta 0:00:01\r\u001B[K     |████████████████████████████████| 315.9 MB 18.6 MB/s eta 0:00:01\r\u001B[K     |████████████████████████████████| 315.9 MB 18.6 MB/s eta 0:00:01\r\u001B[K     |████████████████████████████████| 315.9 MB 18.6 MB/s eta 0:00:01\r\u001B[K     |████████████████████████████████| 315.9 MB 18.6 MB/s eta 0:00:01\r\u001B[K     |████████████████████████████████| 315.9 MB 18.6 MB/s eta 0:00:01\r\u001B[K     |████████████████████████████████| 316.0 MB 18.6 MB/s eta 0:00:01\r\u001B[K     |████████████████████████████████| 316.0 MB 18.6 MB/s eta 0:00:01\r\u001B[K     |████████████████████████████████| 316.0 MB 18.6 MB/s eta 0:00:01\r\u001B[K     |████████████████████████████████| 316.0 MB 18.6 MB/s eta 0:00:01\r\u001B[K     |████████████████████████████████| 316.0 MB 18.6 MB/s eta 0:00:01\r\u001B[K     |████████████████████████████████| 316.0 MB 18.6 MB/s eta 0:00:01\r\u001B[K     |████████████████████████████████| 316.0 MB 18.6 MB/s eta 0:00:01\r\u001B[K     |████████████████████████████████| 316.0 MB 18.6 MB/s eta 0:00:01\r\u001B[K     |████████████████████████████████| 316.0 MB 18.6 MB/s eta 0:00:01\r\u001B[K     |████████████████████████████████| 316.0 MB 18.6 MB/s eta 0:00:01\r\u001B[K     |████████████████████████████████| 316.1 MB 18.6 MB/s eta 0:00:01\r\u001B[K     |████████████████████████████████| 316.1 MB 18.6 MB/s eta 0:00:01\r\u001B[K     |████████████████████████████████| 316.1 MB 18.6 MB/s eta 0:00:01\r\u001B[K     |████████████████████████████████| 316.1 MB 18.6 MB/s eta 0:00:01\r\u001B[K     |████████████████████████████████| 316.1 MB 18.6 MB/s eta 0:00:01\r\u001B[K     |████████████████████████████████| 316.1 MB 18.6 MB/s eta 0:00:01\r\u001B[K     |████████████████████████████████| 316.1 MB 18.6 MB/s eta 0:00:01\r\u001B[K     |████████████████████████████████| 316.1 MB 18.6 MB/s eta 0:00:01\r\u001B[K     |████████████████████████████████| 316.1 MB 18.6 MB/s eta 0:00:01\r\u001B[K     |████████████████████████████████| 316.1 MB 18.6 MB/s eta 0:00:01\r\u001B[K     |████████████████████████████████| 316.2 MB 18.6 MB/s eta 0:00:01\r\u001B[K     |████████████████████████████████| 316.2 MB 18.6 MB/s eta 0:00:01\r\u001B[K     |████████████████████████████████| 316.2 MB 18.6 MB/s eta 0:00:01\r\u001B[K     |████████████████████████████████| 316.2 MB 18.6 MB/s eta 0:00:01\r\u001B[K     |████████████████████████████████| 316.2 MB 18.6 MB/s eta 0:00:01\r\u001B[K     |████████████████████████████████| 316.2 MB 18.6 MB/s eta 0:00:01\r\u001B[K     |████████████████████████████████| 316.2 MB 18.6 MB/s eta 0:00:01\r\u001B[K     |████████████████████████████████| 316.2 MB 18.6 MB/s eta 0:00:01\r\u001B[K     |████████████████████████████████| 316.2 MB 18.6 MB/s eta 0:00:01\r\u001B[K     |████████████████████████████████| 316.3 MB 18.6 MB/s eta 0:00:01\r\u001B[K     |████████████████████████████████| 316.3 MB 18.6 MB/s eta 0:00:01\r\u001B[K     |████████████████████████████████| 316.3 MB 18.6 MB/s eta 0:00:01\r\u001B[K     |████████████████████████████████| 316.3 MB 18.6 MB/s eta 0:00:01\r\u001B[K     |████████████████████████████████| 316.3 MB 18.6 MB/s eta 0:00:01\r\u001B[K     |████████████████████████████████| 316.3 MB 18.6 MB/s eta 0:00:01\r\u001B[K     |████████████████████████████████| 316.3 MB 18.6 MB/s eta 0:00:01\r\u001B[K     |████████████████████████████████| 316.3 MB 18.6 MB/s eta 0:00:01\r\u001B[K     |████████████████████████████████| 316.3 MB 18.6 MB/s eta 0:00:01\r\u001B[K     |████████████████████████████████| 316.3 MB 18.6 MB/s eta 0:00:01\r\u001B[K     |████████████████████████████████| 316.4 MB 18.6 MB/s eta 0:00:01\r\u001B[K     |████████████████████████████████| 316.4 MB 18.6 MB/s eta 0:00:01\r\u001B[K     |████████████████████████████████| 316.4 MB 18.6 MB/s eta 0:00:01\r\u001B[K     |████████████████████████████████| 316.4 MB 18.6 MB/s eta 0:00:01\r\u001B[K     |████████████████████████████████| 316.4 MB 18.6 MB/s eta 0:00:01\r\u001B[K     |████████████████████████████████| 316.4 MB 18.6 MB/s eta 0:00:01\r\u001B[K     |████████████████████████████████| 316.4 MB 18.6 MB/s eta 0:00:01\r\u001B[K     |████████████████████████████████| 316.4 MB 18.6 MB/s eta 0:00:01\r\u001B[K     |████████████████████████████████| 316.4 MB 18.6 MB/s eta 0:00:01\r\u001B[K     |████████████████████████████████| 316.4 MB 18.6 MB/s eta 0:00:01\r\u001B[K     |████████████████████████████████| 316.5 MB 18.6 MB/s eta 0:00:01\r\u001B[K     |████████████████████████████████| 316.5 MB 18.6 MB/s eta 0:00:01\r\u001B[K     |████████████████████████████████| 316.5 MB 18.6 MB/s eta 0:00:01\r\u001B[K     |████████████████████████████████| 316.5 MB 18.6 MB/s eta 0:00:01\r\u001B[K     |████████████████████████████████| 316.5 MB 18.6 MB/s eta 0:00:01\r\u001B[K     |████████████████████████████████| 316.5 MB 18.6 MB/s eta 0:00:01\r\u001B[K     |████████████████████████████████| 316.5 MB 18.6 MB/s eta 0:00:01\r\u001B[K     |████████████████████████████████| 316.5 MB 18.6 MB/s eta 0:00:01\r\u001B[K     |████████████████████████████████| 316.5 MB 18.6 MB/s eta 0:00:01\r\u001B[K     |████████████████████████████████| 316.5 MB 18.6 MB/s eta 0:00:01\r\u001B[K     |████████████████████████████████| 316.6 MB 18.6 MB/s eta 0:00:01\r\u001B[K     |████████████████████████████████| 316.6 MB 18.6 MB/s eta 0:00:01\r\u001B[K     |████████████████████████████████| 316.6 MB 18.6 MB/s eta 0:00:01\r\u001B[K     |████████████████████████████████| 316.6 MB 18.6 MB/s eta 0:00:01\r\u001B[K     |████████████████████████████████| 316.6 MB 18.6 MB/s eta 0:00:01\r\u001B[K     |████████████████████████████████| 316.6 MB 18.6 MB/s eta 0:00:01\r\u001B[K     |████████████████████████████████| 316.6 MB 18.6 MB/s eta 0:00:01\r\u001B[K     |████████████████████████████████| 316.6 MB 18.6 MB/s eta 0:00:01\r\u001B[K     |████████████████████████████████| 316.6 MB 18.6 MB/s eta 0:00:01\r\u001B[K     |████████████████████████████████| 316.7 MB 18.6 MB/s eta 0:00:01\r\u001B[K     |████████████████████████████████| 316.7 MB 18.6 MB/s eta 0:00:01\r\u001B[K     |████████████████████████████████| 316.7 MB 18.6 MB/s eta 0:00:01\r\u001B[K     |████████████████████████████████| 316.7 MB 18.6 MB/s eta 0:00:01\r\u001B[K     |████████████████████████████████| 316.7 MB 18.6 MB/s eta 0:00:01\r\u001B[K     |████████████████████████████████| 316.7 MB 18.6 MB/s eta 0:00:01\r\u001B[K     |████████████████████████████████| 316.7 MB 18.6 MB/s eta 0:00:01\r\u001B[K     |████████████████████████████████| 316.7 MB 18.6 MB/s eta 0:00:01\r\u001B[K     |████████████████████████████████| 316.7 MB 18.6 MB/s eta 0:00:01\r\u001B[K     |████████████████████████████████| 316.7 MB 18.6 MB/s eta 0:00:01\r\u001B[K     |████████████████████████████████| 316.8 MB 18.6 MB/s eta 0:00:01\r\u001B[K     |████████████████████████████████| 316.8 MB 18.6 MB/s eta 0:00:01\r\u001B[K     |████████████████████████████████| 316.8 MB 18.6 MB/s eta 0:00:01\r\u001B[K     |████████████████████████████████| 316.8 MB 18.6 MB/s eta 0:00:01\r\u001B[K     |████████████████████████████████| 316.8 MB 18.6 MB/s eta 0:00:01\r\u001B[K     |████████████████████████████████| 316.8 MB 18.6 MB/s eta 0:00:01\r\u001B[K     |████████████████████████████████| 316.8 MB 18.6 MB/s eta 0:00:01\r\u001B[K     |████████████████████████████████| 316.8 MB 18.6 MB/s eta 0:00:01\r\u001B[K     |████████████████████████████████| 316.8 MB 18.6 MB/s eta 0:00:01\r\u001B[K     |████████████████████████████████| 316.8 MB 18.6 MB/s eta 0:00:01\r\u001B[K     |████████████████████████████████| 316.9 MB 18.6 MB/s eta 0:00:01\r\u001B[K     |████████████████████████████████| 316.9 MB 18.6 MB/s eta 0:00:01\r\u001B[K     |████████████████████████████████| 316.9 MB 18.6 MB/s eta 0:00:01\r\u001B[K     |████████████████████████████████| 316.9 MB 18.6 MB/s eta 0:00:01\r\u001B[K     |████████████████████████████████| 316.9 MB 5.2 kB/s \r\n\u001B[?25hRequirement already satisfied: pyarrow in /databricks/python3/lib/python3.9/site-packages (from handyspark) (7.0.0)\r\nRequirement already satisfied: seaborn in /databricks/python3/lib/python3.9/site-packages (from handyspark) (0.11.2)\r\nRequirement already satisfied: packaging>=20.0 in /databricks/python3/lib/python3.9/site-packages (from matplotlib->handyspark) (21.3)\r\nRequirement already satisfied: python-dateutil>=2.7 in /databricks/python3/lib/python3.9/site-packages (from matplotlib->handyspark) (2.8.2)\r\nRequirement already satisfied: fonttools>=4.22.0 in /databricks/python3/lib/python3.9/site-packages (from matplotlib->handyspark) (4.25.0)\r\nRequirement already satisfied: kiwisolver>=1.0.1 in /databricks/python3/lib/python3.9/site-packages (from matplotlib->handyspark) (1.3.2)\r\nRequirement already satisfied: pyparsing>=2.2.1 in /databricks/python3/lib/python3.9/site-packages (from matplotlib->handyspark) (3.0.4)\r\nRequirement already satisfied: cycler>=0.10 in /databricks/python3/lib/python3.9/site-packages (from matplotlib->handyspark) (0.11.0)\r\nRequirement already satisfied: pillow>=6.2.0 in /databricks/python3/lib/python3.9/site-packages (from matplotlib->handyspark) (9.0.1)\r\nRequirement already satisfied: six>=1.5 in /databricks/python3/lib/python3.9/site-packages (from python-dateutil>=2.7->matplotlib->handyspark) (1.16.0)\r\nRequirement already satisfied: pytz>=2020.1 in /databricks/python3/lib/python3.9/site-packages (from pandas->handyspark) (2021.3)\r\nCollecting py4j==0.10.9.7\r\n  Downloading py4j-0.10.9.7-py2.py3-none-any.whl (200 kB)\r\n\u001B[?25l\r\u001B[K     |█▋                              | 10 kB 28.8 MB/s eta 0:00:01\r\u001B[K     |███▎                            | 20 kB 34.3 MB/s eta 0:00:01\r\u001B[K     |█████                           | 30 kB 40.1 MB/s eta 0:00:01\r\u001B[K     |██████▌                         | 40 kB 43.3 MB/s eta 0:00:01\r\u001B[K     |████████▏                       | 51 kB 40.9 MB/s eta 0:00:01\r\u001B[K     |█████████▉                      | 61 kB 41.6 MB/s eta 0:00:01\r\u001B[K     |███████████▍                    | 71 kB 43.2 MB/s eta 0:00:01\r\u001B[K     |█████████████                   | 81 kB 45.0 MB/s eta 0:00:01\r\u001B[K     |██████████████▊                 | 92 kB 46.1 MB/s eta 0:00:01\r\u001B[K     |████████████████▍               | 102 kB 45.6 MB/s eta 0:00:01\r\u001B[K     |██████████████████              | 112 kB 45.6 MB/s eta 0:00:01\r\u001B[K     |███████████████████▋            | 122 kB 45.6 MB/s eta 0:00:01\r\u001B[K     |█████████████████████▎          | 133 kB 45.6 MB/s eta 0:00:01\r\u001B[K     |██████████████████████▉         | 143 kB 45.6 MB/s eta 0:00:01\r\u001B[K     |████████████████████████▌       | 153 kB 45.6 MB/s eta 0:00:01\r\u001B[K     |██████████████████████████▏     | 163 kB 45.6 MB/s eta 0:00:01\r\u001B[K     |███████████████████████████▉    | 174 kB 45.6 MB/s eta 0:00:01\r\u001B[K     |█████████████████████████████▍  | 184 kB 45.6 MB/s eta 0:00:01\r\u001B[K     |███████████████████████████████ | 194 kB 45.6 MB/s eta 0:00:01\r\u001B[K     |████████████████████████████████| 200 kB 45.6 MB/s \r\n\u001B[?25hRequirement already satisfied: threadpoolctl>=2.0.0 in /databricks/python3/lib/python3.9/site-packages (from scikit-learn->handyspark) (2.2.0)\r\nRequirement already satisfied: joblib>=0.11 in /databricks/python3/lib/python3.9/site-packages (from scikit-learn->handyspark) (1.1.1)\r\nBuilding wheels for collected packages: pyspark\r\n  Building wheel for pyspark (setup.py) ... \u001B[?25l-\b \b\\\b \b|\b \b/\b \b-\b \b\\\b \b|\b \b/\b \b-\b \b\\\b \b|\b \b/\b \b-\b \b\\\b \b|\b \b/\b \b-\b \b\\\b \b|\b \b/\b \b-\b \b\\\b \b|\b \b/\b \b-\b \b\\\b \b|\b \b/\b \b-\b \b\\\b \b|\b \b/\b \b-\b \b\\\b \b|\b \b/\b \b-\b \b\\\b \b|\b \b/\b \b-\b \b\\\b \b|\b \b/\b \b-\b \b\\\b \b|\b \b/\b \b-\b \b\\\b \b|\b \b/\b \b-\b \b\\\b \b|\b \b/\b \b-\b \b\\\b \b|\b \b/\b \b-\b \b\\\b \b|\b \b/\b \b-\b \b\\\b \b|\b \b/\b \b-\b \b\\\b \b|\b \b/\b \b-\b \b\\\b \b|\b \b/\b \b-\b \b\\\b \b|\b \b/\b \b-\b \b\\\b \b|\b \bdone\r\n\u001B[?25h  Created wheel for pyspark: filename=pyspark-3.5.0-py2.py3-none-any.whl size=317425366 sha256=cc7380e43cee88f9c76d591a13ed1af80093307d690bd1f1c843d07bee2ec15d\r\n  Stored in directory: /root/.cache/pip/wheels/57/bd/14/ce9e21f2649298678d011fb8f71ed38ee70b42b94fef0be142\r\nSuccessfully built pyspark\r\nInstalling collected packages: py4j, pyspark, findspark, handyspark\r\nSuccessfully installed findspark-2.0.1 handyspark-0.2.2a1 py4j-0.10.9.7 pyspark-3.5.0\r\n\u001B[33mWARNING: You are using pip version 21.2.4; however, version 24.0 is available.\r\nYou should consider upgrading via the '/local_disk0/.ephemeral_nfs/envs/pythonEnv-7f0d7d08-a495-47a2-afdd-8b51e13a3909/bin/python -m pip install --upgrade pip' command.\u001B[0m\r\n"
     ]
    },
    {
     "output_type": "stream",
     "name": "stderr",
     "output_type": "stream",
     "text": [
      "/databricks/spark/python/pyspark/sql/context.py:165: FutureWarning: Deprecated in 3.0.0. Use SparkSession.builder.getOrCreate() instead.\n  warnings.warn(\n/databricks/spark/python/pyspark/sql/context.py:165: FutureWarning: Deprecated in 3.0.0. Use SparkSession.builder.getOrCreate() instead.\n  warnings.warn(\n"
     ]
    },
    {
     "output_type": "stream",
     "name": "stdout",
     "output_type": "stream",
     "text": [
      "Out[11]: <AxesSubplot:title={'center':'Precision-Recall Curve'}, xlabel='Recall', ylabel='Precision'>"
     ]
    },
    {
     "output_type": "display_data",
     "data": {
      "image/png": "[encoded data removed]"
     },
     "metadata": {
      "application/vnd.databricks.v1+output": {
       "addedWidgets": {},
       "arguments": {},
       "data": "data:image/png;base64,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\n",
       "datasetInfos": [],
       "metadata": {},
       "removedWidgets": [],
       "type": "image"
      }
     },
     "output_type": "display_data"
    }
   ],
   "source": [
    "!pip install handyspark\n",
    "from pyspark.ml.evaluation import BinaryClassificationEvaluator\n",
    "from matplotlib import pyplot as plt\n",
    "from handyspark import *\n",
    "\n",
    "# Métricas\n",
    "bcm = BinaryClassificationMetrics(predictions, scoreCol='probability', labelCol='satisfaction_binary')\n",
    "\n",
    "\n",
    "fig, axs = plt.subplots(1, 2, figsize=(12, 4))\n",
    "bcm.plot_roc_curve(ax=axs[0])\n",
    "bcm.plot_pr_curve(ax=axs[1])"
   ]
  }
 ],
 "metadata": {
  "application/vnd.databricks.v1+notebook": {
   "dashboards": [],
   "language": "python",
   "notebookMetadata": {
    "mostRecentlyExecutedCommandWithImplicitDF": {
     "commandId": 1918739696469564,
     "dataframes": [
      "_sqldf"
     ]
    },
    "pythonIndentUnit": 4
   },
   "notebookName": "Encuesta_Aerolinea_MLlib",
   "widgets": {}
  }
 },
 "nbformat": 4,
 "nbformat_minor": 0
}
