{
 "cells": [
  {
   "cell_type": "markdown",
   "metadata": {
    "application/vnd.databricks.v1+cell": {
     "cellMetadata": {
      "byteLimit": 2048000,
      "rowLimit": 10000
     },
     "inputWidgets": {},
     "nuid": "ce47c87b-0e43-47f0-bef7-b1c6577ecf2f",
     "showTitle": true,
     "title": "Spark MLlib para generar un modelo que implemente Regresión Logística"
    }
   },
   "source": [
    "\n",
    "A partir del dataset encuesta_aerolinea.csv con resultados de una encuesta de una aerolínea, generad un modelo de Regresión Logística que permita clasificar la satisfacción del cliente entre las dos posibles alternativas que se indican en la columna (satisfaction_binary) del dataset: 1 para “satisfied” o 0 para “neutral or dissatisfied”. \n",
    "\n",
    "Se deben extraer las siguientes columnas para la generación del modelo: Gender, Age, Inflight wifi service,  Departure/Arrival time convenient, Ease of Online booking, Gate location, Food and drink, Online boarding, Seat comfort, Inflight entertainment, On-board service, Leg room service, Baggage handling, Check service, Inflight service, Cleanliness, satisfaction y satisfaction_binary.\n",
    "\n",
    "Como método de preparación del DataFrame, se elige eliminar todas las observaciones que contengan NaN, utilizando el método na.drop() de la siguiente manera: <mi_dataframe>.na.drop()\n",
    "\n",
    "La columna “satisfaction_binary” contiene la representación binaria 1 o 0 de las categorías de la columna “satisfaction”. La columna “satisfaction_binary” debe pasarse como el parámetro de labelCol al crear el objeto LogisticRegression.\n",
    "\n",
    "Las columnas categóricas (Gender) deben convertirse a una representación vectorial utilizando StringIndexer() y OneHotEncoder().\n",
    "\n",
    "**Los pasos para la implementación del modelo puede reducirse a los siguientes:**\n",
    "\n",
    "1. Extracción de las columnas requeridas en un nuevo DataFrame.\n",
    "2. Limpiar el Dataframe eliminando los NaN.\n",
    "3. Convertir columnas categóricas utilizando StringIndexer y OneHotEncoder.\n",
    "4. Generar el vector con las features para el entrenamiento del modelo con VectorAssembler()\n",
    "5. Construir el objeto LogisticRegression pasando los parámetros para featuresCol y labelCol.\n",
    "6. Construir el objeto Pipeline con los diferentes pasos de transformación.\n",
    "7. Separa el conjunto de datos en conjuntos de entrenamiento y evaluación.\n",
    "8. Entrenamos el modelo con el método fit() del Pipeline.\n",
    "9. Construimos el objeto BinaryClassificationEvaluator().\n",
    "\n",
    "10\\. Evaluar la precisión (accuracy) del modelo.\n",
    "\n",
    "11\\. Utilizar la libreria handyspark para obtener el gráfico de ROC (opcional)."
   ]
  },
  {
   "cell_type": "code",
   "execution_count": 0,
   "metadata": {
    "application/vnd.databricks.v1+cell": {
     "cellMetadata": {
      "byteLimit": 2048000,
      "rowLimit": 10000
     },
     "inputWidgets": {},
     "nuid": "8bc93ad4-2b42-4f60-a117-b86220ce8daa",
     "showTitle": true,
     "title": "Listar los archivos en el DBFS"
    }
   },
   "outputs": [
    {
     "output_type": "display_data",
     "data": {
      "text/html": [
       "<style scoped>\n",
       "  .table-result-container {\n",
       "    max-height: 300px;\n",
       "    overflow: auto;\n",
       "  }\n",
       "  table, th, td {\n",
       "    border: 1px solid black;\n",
       "    border-collapse: collapse;\n",
       "  }\n",
       "  th, td {\n",
       "    padding: 5px;\n",
       "  }\n",
       "  th {\n",
       "    text-align: left;\n",
       "  }\n",
       "</style><div class='table-result-container'><table class='table-result'><thead style='background-color: white'><tr><th>path</th><th>name</th><th>size</th><th>modificationTime</th></tr></thead><tbody><tr><td>dbfs:/FileStore/tables/encuesta_aerolinea-1.csv</td><td>encuesta_aerolinea-1.csv</td><td>11986211</td><td>1706643440000</td></tr><tr><td>dbfs:/FileStore/tables/encuesta_aerolinea.csv</td><td>encuesta_aerolinea.csv</td><td>11986211</td><td>1706643304000</td></tr><tr><td>dbfs:/FileStore/tables/encuesta_aerolinea_simplificado-1.csv</td><td>encuesta_aerolinea_simplificado-1.csv</td><td>11986211</td><td>1705509312000</td></tr><tr><td>dbfs:/FileStore/tables/encuesta_aerolinea_simplificado.csv</td><td>encuesta_aerolinea_simplificado.csv</td><td>11986211</td><td>1705509276000</td></tr></tbody></table></div>"
      ]
     },
     "metadata": {
      "application/vnd.databricks.v1+output": {
       "addedWidgets": {},
       "aggData": [],
       "aggError": "",
       "aggOverflow": false,
       "aggSchema": [],
       "aggSeriesLimitReached": false,
       "aggType": "",
       "arguments": {},
       "columnCustomDisplayInfos": {},
       "data": [
        [
         "dbfs:/FileStore/tables/encuesta_aerolinea-1.csv",
         "encuesta_aerolinea-1.csv",
         11986211,
         1706643440000
        ],
        [
         "dbfs:/FileStore/tables/encuesta_aerolinea.csv",
         "encuesta_aerolinea.csv",
         11986211,
         1706643304000
        ],
        [
         "dbfs:/FileStore/tables/encuesta_aerolinea_simplificado-1.csv",
         "encuesta_aerolinea_simplificado-1.csv",
         11986211,
         1705509312000
        ],
        [
         "dbfs:/FileStore/tables/encuesta_aerolinea_simplificado.csv",
         "encuesta_aerolinea_simplificado.csv",
         11986211,
         1705509276000
        ]
       ],
       "datasetInfos": [],
       "dbfsResultPath": null,
       "isJsonSchema": true,
       "metadata": {
        "isDbfsCommandResult": false
       },
       "overflow": false,
       "plotOptions": {
        "customPlotOptions": {},
        "displayType": "table",
        "pivotAggregation": null,
        "pivotColumns": null,
        "xColumns": null,
        "yColumns": null
       },
       "removedWidgets": [],
       "schema": [
        {
         "metadata": "{}",
         "name": "path",
         "type": "\"string\""
        },
        {
         "metadata": "{}",
         "name": "name",
         "type": "\"string\""
        },
        {
         "metadata": "{}",
         "name": "size",
         "type": "\"long\""
        },
        {
         "metadata": "{}",
         "name": "modificationTime",
         "type": "\"long\""
        }
       ],
       "type": "table"
      }
     },
     "output_type": "display_data"
    }
   ],
   "source": [
    "%fs\n",
    "ls dbfs:/FileStore/tables/"
   ]
  },
  {
   "cell_type": "code",
   "execution_count": 0,
   "metadata": {
    "application/vnd.databricks.v1+cell": {
     "cellMetadata": {
      "byteLimit": 2048000,
      "rowLimit": 10000
     },
     "inputWidgets": {},
     "nuid": "50fa870c-1f4c-4972-be12-3089df1f862a",
     "showTitle": true,
     "title": "Crear el RDD inicial a partir del dataset y mostrar las primeras observaciones"
    }
   },
   "outputs": [
    {
     "output_type": "display_data",
     "data": {
      "text/html": [
       "<style scoped>\n",
       "  .table-result-container {\n",
       "    max-height: 300px;\n",
       "    overflow: auto;\n",
       "  }\n",
       "  table, th, td {\n",
       "    border: 1px solid black;\n",
       "    border-collapse: collapse;\n",
       "  }\n",
       "  th, td {\n",
       "    padding: 5px;\n",
       "  }\n",
       "  th {\n",
       "    text-align: left;\n",
       "  }\n",
       "</style><div class='table-result-container'><table class='table-result'><thead style='background-color: white'><tr><th>_c0</th><th>id</th><th>Gender</th><th>Customer Type</th><th>Age</th><th>Type of Travel</th><th>Class</th><th>Flight Distance</th><th>Inflight wifi service</th><th>Departure/Arrival time convenient</th><th>Ease of Online booking</th><th>Gate location</th><th>Food and drink</th><th>Online boarding</th><th>Seat comfort</th><th>Inflight entertainment</th><th>On-board service</th><th>Leg room service</th><th>Baggage handling</th><th>Checkin service</th><th>Inflight service</th><th>Cleanliness</th><th>Departure Delay in Minutes</th><th>Arrival Delay in Minutes</th><th>satisfaction</th></tr></thead><tbody><tr><td>0</td><td>70172</td><td>Male</td><td>Loyal Customer</td><td>13</td><td>Personal Travel</td><td>Eco Plus</td><td>460</td><td>3</td><td>4</td><td>3</td><td>1</td><td>5</td><td>3</td><td>5</td><td>5</td><td>4</td><td>3</td><td>4</td><td>4</td><td>5</td><td>5</td><td>25</td><td>18</td><td>neutral or dissatisfied</td></tr><tr><td>1</td><td>5047</td><td>Male</td><td>disloyal Customer</td><td>25</td><td>Business travel</td><td>Business</td><td>235</td><td>3</td><td>2</td><td>3</td><td>3</td><td>1</td><td>3</td><td>1</td><td>1</td><td>1</td><td>5</td><td>3</td><td>1</td><td>4</td><td>1</td><td>1</td><td>6</td><td>neutral or dissatisfied</td></tr><tr><td>2</td><td>110028</td><td>Female</td><td>Loyal Customer</td><td>26</td><td>Business travel</td><td>Business</td><td>1142</td><td>2</td><td>2</td><td>2</td><td>2</td><td>5</td><td>5</td><td>5</td><td>5</td><td>4</td><td>3</td><td>4</td><td>4</td><td>4</td><td>5</td><td>0</td><td>0</td><td>satisfied</td></tr><tr><td>3</td><td>24026</td><td>Female</td><td>Loyal Customer</td><td>25</td><td>Business travel</td><td>Business</td><td>562</td><td>2</td><td>5</td><td>5</td><td>5</td><td>2</td><td>2</td><td>2</td><td>2</td><td>2</td><td>5</td><td>3</td><td>1</td><td>4</td><td>2</td><td>11</td><td>9</td><td>neutral or dissatisfied</td></tr><tr><td>4</td><td>119299</td><td>Male</td><td>Loyal Customer</td><td>61</td><td>Business travel</td><td>Business</td><td>214</td><td>3</td><td>3</td><td>3</td><td>3</td><td>4</td><td>5</td><td>5</td><td>3</td><td>3</td><td>4</td><td>4</td><td>3</td><td>3</td><td>3</td><td>0</td><td>0</td><td>satisfied</td></tr></tbody></table></div>"
      ]
     },
     "metadata": {
      "application/vnd.databricks.v1+output": {
       "addedWidgets": {},
       "aggData": [],
       "aggError": "",
       "aggOverflow": false,
       "aggSchema": [],
       "aggSeriesLimitReached": false,
       "aggType": "",
       "arguments": {},
       "columnCustomDisplayInfos": {},
       "data": [
        [
         0,
         70172,
         "Male",
         "Loyal Customer",
         13,
         "Personal Travel",
         "Eco Plus",
         460,
         3,
         4,
         3,
         1,
         5,
         3,
         5,
         5,
         4,
         3,
         4,
         4,
         5,
         5,
         25,
         18,
         "neutral or dissatisfied"
        ],
        [
         1,
         5047,
         "Male",
         "disloyal Customer",
         25,
         "Business travel",
         "Business",
         235,
         3,
         2,
         3,
         3,
         1,
         3,
         1,
         1,
         1,
         5,
         3,
         1,
         4,
         1,
         1,
         6,
         "neutral or dissatisfied"
        ],
        [
         2,
         110028,
         "Female",
         "Loyal Customer",
         26,
         "Business travel",
         "Business",
         1142,
         2,
         2,
         2,
         2,
         5,
         5,
         5,
         5,
         4,
         3,
         4,
         4,
         4,
         5,
         0,
         0,
         "satisfied"
        ],
        [
         3,
         24026,
         "Female",
         "Loyal Customer",
         25,
         "Business travel",
         "Business",
         562,
         2,
         5,
         5,
         5,
         2,
         2,
         2,
         2,
         2,
         5,
         3,
         1,
         4,
         2,
         11,
         9,
         "neutral or dissatisfied"
        ],
        [
         4,
         119299,
         "Male",
         "Loyal Customer",
         61,
         "Business travel",
         "Business",
         214,
         3,
         3,
         3,
         3,
         4,
         5,
         5,
         3,
         3,
         4,
         4,
         3,
         3,
         3,
         0,
         0,
         "satisfied"
        ]
       ],
       "datasetInfos": [],
       "dbfsResultPath": null,
       "isJsonSchema": true,
       "metadata": {},
       "overflow": false,
       "plotOptions": {
        "customPlotOptions": {},
        "displayType": "table",
        "pivotAggregation": null,
        "pivotColumns": null,
        "xColumns": null,
        "yColumns": null
       },
       "removedWidgets": [],
       "schema": [
        {
         "metadata": "{}",
         "name": "_c0",
         "type": "\"integer\""
        },
        {
         "metadata": "{}",
         "name": "id",
         "type": "\"integer\""
        },
        {
         "metadata": "{}",
         "name": "Gender",
         "type": "\"string\""
        },
        {
         "metadata": "{}",
         "name": "Customer Type",
         "type": "\"string\""
        },
        {
         "metadata": "{}",
         "name": "Age",
         "type": "\"integer\""
        },
        {
         "metadata": "{}",
         "name": "Type of Travel",
         "type": "\"string\""
        },
        {
         "metadata": "{}",
         "name": "Class",
         "type": "\"string\""
        },
        {
         "metadata": "{}",
         "name": "Flight Distance",
         "type": "\"integer\""
        },
        {
         "metadata": "{}",
         "name": "Inflight wifi service",
         "type": "\"integer\""
        },
        {
         "metadata": "{}",
         "name": "Departure/Arrival time convenient",
         "type": "\"integer\""
        },
        {
         "metadata": "{}",
         "name": "Ease of Online booking",
         "type": "\"integer\""
        },
        {
         "metadata": "{}",
         "name": "Gate location",
         "type": "\"integer\""
        },
        {
         "metadata": "{}",
         "name": "Food and drink",
         "type": "\"integer\""
        },
        {
         "metadata": "{}",
         "name": "Online boarding",
         "type": "\"integer\""
        },
        {
         "metadata": "{}",
         "name": "Seat comfort",
         "type": "\"integer\""
        },
        {
         "metadata": "{}",
         "name": "Inflight entertainment",
         "type": "\"integer\""
        },
        {
         "metadata": "{}",
         "name": "On-board service",
         "type": "\"integer\""
        },
        {
         "metadata": "{}",
         "name": "Leg room service",
         "type": "\"integer\""
        },
        {
         "metadata": "{}",
         "name": "Baggage handling",
         "type": "\"integer\""
        },
        {
         "metadata": "{}",
         "name": "Checkin service",
         "type": "\"integer\""
        },
        {
         "metadata": "{}",
         "name": "Inflight service",
         "type": "\"integer\""
        },
        {
         "metadata": "{}",
         "name": "Cleanliness",
         "type": "\"integer\""
        },
        {
         "metadata": "{}",
         "name": "Departure Delay in Minutes",
         "type": "\"integer\""
        },
        {
         "metadata": "{}",
         "name": "Arrival Delay in Minutes",
         "type": "\"integer\""
        },
        {
         "metadata": "{}",
         "name": "satisfaction",
         "type": "\"string\""
        }
       ],
       "type": "table"
      }
     },
     "output_type": "display_data"
    }
   ],
   "source": [
    "lines = sc.textFile('dbfs:/FileStore/tables/encuesta_aerolinea.csv')\n",
    "df_preview = spark.read.format(\"csv\").option(\"inferSchema\",\"true\").option(\"header\",\"true\").load(\"dbfs:/FileStore/tables/encuesta_aerolinea.csv\")\n",
    "df_limited = df_preview.limit(5)  # Limita a 5 registros\n",
    "df_limited.display()\n"
   ]
  },
  {
   "cell_type": "code",
   "execution_count": 0,
   "metadata": {
    "application/vnd.databricks.v1+cell": {
     "cellMetadata": {
      "byteLimit": 2048000,
      "rowLimit": 10000
     },
     "inputWidgets": {},
     "nuid": "cd9919d3-2af4-46be-ad02-df33420d9ee2",
     "showTitle": false,
     "title": ""
    }
   },
   "outputs": [],
   "source": [
    "from pyspark.sql.types import StructType, StructField, StringType, FloatType, TimestampType, IntegerType"
   ]
  },
  {
   "cell_type": "code",
   "execution_count": 0,
   "metadata": {
    "application/vnd.databricks.v1+cell": {
     "cellMetadata": {
      "byteLimit": 2048000,
      "rowLimit": 10000
     },
     "inputWidgets": {},
     "nuid": "d9aa519f-c41e-42a6-b945-588a9d52bf07",
     "showTitle": true,
     "title": "Crear el schema para el DataFrame"
    }
   },
   "outputs": [],
   "source": [
    "schema = StructType([\n",
    "    StructField(\"C0\", IntegerType(), True),\n",
    "    StructField(\"ID\", IntegerType(), True),\n",
    "    StructField(\"gender\", StringType(), True),\n",
    "    StructField(\"customer_type\", StringType(), True),\n",
    "    StructField(\"age\", FloatType(), True),\n",
    "    StructField(\"type_of_travel\", StringType(), True),\n",
    "    StructField(\"class\", StringType(), True),\n",
    "    StructField(\"flight_distance\", FloatType(), True),\n",
    "    StructField(\"wifi\", FloatType(), True),\n",
    "    StructField(\"time_convenient\", FloatType(), True),\n",
    "    StructField(\"booking\", FloatType(), True),\n",
    "    StructField(\"gate\", FloatType(), True),\n",
    "    StructField(\"food\", FloatType(), True),\n",
    "    StructField(\"boarding\", FloatType(), True),\n",
    "    StructField(\"comfort\", FloatType(), True),\n",
    "    StructField(\"entertainment\", FloatType(), True),\n",
    "    StructField(\"on_board_service\", FloatType(), True),\n",
    "    StructField(\"room_service\", FloatType(), True),\n",
    "    StructField(\"handling\", FloatType(), True),\n",
    "    StructField(\"checking\", FloatType(), True),\n",
    "    StructField(\"inflight\", FloatType(), True),\n",
    "    StructField(\"cleanliness\", FloatType(), True),\n",
    "    StructField(\"departures_delay\", FloatType(), True),\n",
    "    StructField(\"arrivals_delay\", FloatType(), True),\n",
    "    StructField(\"satisfaction\", StringType(), True), \n",
    "])"
   ]
  },
  {
   "cell_type": "code",
   "execution_count": 0,
   "metadata": {
    "application/vnd.databricks.v1+cell": {
     "cellMetadata": {
      "byteLimit": 2048000,
      "rowLimit": 10000
     },
     "inputWidgets": {},
     "nuid": "5c0c5d1a-9e1d-4e57-b4d5-79213ff0556b",
     "showTitle": true,
     "title": "Crear el DataFrame e imprimir el esquema"
    }
   },
   "outputs": [],
   "source": [
    "df_raw = spark.read.format(\"csv\").option(\"header\", True).schema(schema).load('dbfs:/FileStore/tables/encuesta_aerolinea.csv')\n",
    "df = df_raw.na.drop()"
   ]
  },
  {
   "cell_type": "markdown",
   "metadata": {
    "application/vnd.databricks.v1+cell": {
     "cellMetadata": {},
     "inputWidgets": {},
     "nuid": "11d67059-f453-4c22-9b2d-b0977c83e51f",
     "showTitle": true,
     "title": "MLlib"
    }
   },
   "source": [
    "\n",
    "MLlib es la biblioteca de aprendizaje automático (machine learning) de Apache Spark. Está diseñada para simplificar la construcción de aplicaciones de aprendizaje automático a gran escala, integrándose de manera fluida con el resto del ecosistema de Spark. \n",
    "\n",
    "MLlib proporciona una amplia variedad de algoritmos y utilidades comunes de aprendizaje automático, incluyendo clasificación, regresión, clustering, filtrado colaborativo (como sistemas de recomendación), reducción de dimensionalidad, y selección de modelos. Aprovecha la distribución de datos y el procesamiento en paralelo de Spark, lo que la hace adecuada para manejar grandes volúmenes de datos de manera eficiente.\n",
    "\n",
    "Aunque MLlib está escrita en Scala, es accesible desde otros lenguajes de programación soportados por Spark, como Python (a través de PySpark) y Java.\n",
    "\n",
    "Por lo tanto, MLlib es una biblioteca robusta y versátil para realizar aprendizaje automático en plataformas distribuidas, aprovechando la potencia y escala de Apache Spark. Es especialmente útil para aplicaciones que requieren manejar grandes conjuntos de datos y realizar operaciones de aprendizaje automático complejas."
   ]
  },
  {
   "cell_type": "code",
   "execution_count": 0,
   "metadata": {
    "application/vnd.databricks.v1+cell": {
     "cellMetadata": {
      "byteLimit": 2048000,
      "rowLimit": 10000
     },
     "inputWidgets": {},
     "nuid": "78e9427b-1051-4355-9ecd-4e01cd0897ce",
     "showTitle": true,
     "title": "1. Extracción de las Columnas Requeridas"
    }
   },
   "outputs": [],
   "source": [
    "from pyspark.sql.functions import when\n",
    "\n",
    "# Seleccionar las columnas necesarias\n",
    "selected_columns = [\n",
    "    \"gender\", \"age\", \"wifi\", \"time_convenient\", \"booking\",\n",
    "    \"gate\", \"food\", \"boarding\", \"comfort\", \"entertainment\",\n",
    "    \"on_board_service\", \"room_service\", \"handling\", \"checking\",\n",
    "    \"inflight\", \"cleanliness\", \"satisfaction\"\n",
    "]\n",
    "\n",
    "df_selected = df.select(selected_columns)\n",
    "\n",
    "# Convertir la columna 'satisfaction' en binaria\n",
    "df_selected = df_selected.withColumn(\n",
    "    \"satisfaction_binary\", \n",
    "    when(col(\"satisfaction\") == \"satisfied\", 1).otherwise(0)\n",
    ")\n"
   ]
  },
  {
   "cell_type": "code",
   "execution_count": 0,
   "metadata": {
    "application/vnd.databricks.v1+cell": {
     "cellMetadata": {
      "byteLimit": 2048000,
      "rowLimit": 10000
     },
     "inputWidgets": {},
     "nuid": "c26d1419-4cb3-42b4-99ab-3a3726d10485",
     "showTitle": true,
     "title": "2.  Transformación de Características"
    }
   },
   "outputs": [],
   "source": [
    "from pyspark.ml.feature import StringIndexer, OneHotEncoder, VectorAssembler\n",
    "from pyspark.ml import Pipeline\n",
    "\n",
    "# Indexar y codificar las columnas categóricas\n",
    "gender_indexer = StringIndexer(inputCol=\"gender\", outputCol=\"genderIndex\")\n",
    "gender_encoder = OneHotEncoder(inputCol=\"genderIndex\", outputCol=\"genderVec\")\n",
    "\n",
    "# Asssembler de todas las características en un vector\n",
    "assembler_inputs = [\"genderVec\"] + selected_columns[1:-2]  # excluyendo la columna 'satisfaction' y 'satisfaction_binary'\n",
    "assembler = VectorAssembler(inputCols=assembler_inputs, outputCol=\"features\")\n"
   ]
  },
  {
   "cell_type": "markdown",
   "metadata": {
    "application/vnd.databricks.v1+cell": {
     "cellMetadata": {},
     "inputWidgets": {},
     "nuid": "1a5c1a6e-12d1-44d1-a2c0-c58adcd18962",
     "showTitle": false,
     "title": ""
    }
   },
   "source": [
    "\n",
    "En esta parte, se trabaja con la transformación de características, específicamente indexando y codificando las variables categóricas y combinando todas las características relevantes en un solo vector.\n",
    "\n",
    "1. **Importar las funciones necesarias de PySpark ML**:\n",
    "\n",
    "   - `StringIndexer`, `OneHotEncoder`, y `VectorAssembler` son transformadores de PySpark ML que ayudan a convertir datos en formatos adecuados para modelos de aprendizaje automático.\n",
    "   - `Pipeline` es una forma de encadenar múltiples transformaciones y estimadores, lo que facilita la construcción y gestión de flujos de trabajo de aprendizaje automático.\n",
    "\n",
    "2. **Indexar y codificar las columnas categóricas**:\n",
    "\n",
    "   - `StringIndexer`: Convierte la columna categórica 'gender' en índices numéricos. Esto es necesario porque muchos algoritmos de aprendizaje automático prefieren trabajar con números en lugar de texto.\n",
    "   - `OneHotEncoder`: Transforma los índices numéricos generados por `StringIndexer` en un formato de codificación one-hot. En la codificación one-hot, cada categoría única en la columna se representa como un vector binario.\n",
    "\n",
    "3. **Assembler de todas las características en un vector**:\n",
    "\n",
    "   - Aquí, se crea una lista `assembler_inputs` que contiene el nombre de la columna codificada ('genderVec') y todas las otras columnas seleccionadas, excepto 'satisfaction' y 'satisfaction_binary'.\n",
    "   - `VectorAssembler` se utiliza para combinar todas estas columnas en una única columna de características llamada 'features'. Esto es importante porque los modelos de aprendizaje automático en PySpark, como la regresión logística, esperan que los datos de entrada estén en un único vector de características.\n",
    "\n",
    "Estas operaciones están preparando los datos para ser utilizados en un modelo de aprendizaje automático, asegurando que todas las variables estén en el formato adecuado y combinadas en una estructura que el modelo puede procesar eficientemente."
   ]
  },
  {
   "cell_type": "code",
   "execution_count": 0,
   "metadata": {
    "application/vnd.databricks.v1+cell": {
     "cellMetadata": {
      "byteLimit": 2048000,
      "rowLimit": 10000
     },
     "inputWidgets": {},
     "nuid": "75758d70-b72c-4578-8733-6e755fa52bc5",
     "showTitle": true,
     "title": "3. Construcción del Modelo"
    }
   },
   "outputs": [],
   "source": [
    "#Configura y agrega la regresión logística al pipeline.\n",
    "\n",
    "from pyspark.ml.classification import LogisticRegression\n",
    "\n",
    "# Configurar la regresión logística\n",
    "lr = LogisticRegression(labelCol=\"satisfaction_binary\", featuresCol=\"features\")\n",
    "\n",
    "\n",
    "# Creación del pipeline\n",
    "preprocessing_stages = [gender_indexer, gender_encoder, assembler,lr]\n",
    "pipeline = Pipeline(stages=preprocessing_stages)\n"
   ]
  },
  {
   "cell_type": "markdown",
   "metadata": {
    "application/vnd.databricks.v1+cell": {
     "cellMetadata": {},
     "inputWidgets": {},
     "nuid": "61971586-75f9-40bd-9d8e-1818ed4ed6c2",
     "showTitle": false,
     "title": ""
    }
   },
   "source": [
    "\n",
    "Aquí, se configura el estimador de regresión logística y se integra junto con las etapas de preprocesamiento previas en un solo pipeline. Veamos cada paso en detalle:\n",
    "\n",
    "1. **Importar LogisticRegression de PySpark ML**:\n",
    "   `LogisticRegression` es la clase de PySpark ML que proporciona la implementación del algoritmo de regresión logística para la clasificación binaria.\n",
    "\n",
    "2. **Configurar la regresión logística**:\n",
    "\n",
    "   Aquí, se crea una instancia del modelo de regresión logística (`lr`). \n",
    "   - `labelCol=\"satisfaction_binary\"` indica que la columna 'satisfaction_binary' será utilizada como la etiqueta (o variable dependiente) para el modelo. Esta es la columna que se transformó anteriormente a formato binario.\n",
    "   - `featuresCol=\"features\"` especifica que la columna 'features' contiene las características (o variables independientes) que el modelo usará para hacer predicciones. Esta columna fue generada por el `VectorAssembler` y contiene todas las características relevantes en un formato vectorial.\n",
    "\n",
    "3. **Creación del pipeline**:\n",
    "   - Aquí, se crea una lista `preprocessing_stages` que incluye todas las etapas de preprocesamiento (`gender_indexer`, `gender_encoder`, `assembler`) y el modelo de regresión logística (`lr`).\n",
    "   - Luego, se crea un objeto `Pipeline` con estas etapas. En PySpark, un `Pipeline` es una secuencia de transformadores y estimadores (como modelos de aprendizaje automático) que se ejecutan en un orden específico. Este enfoque facilita la gestión del flujo de trabajo, ya que permite que los datos pasen a través de todas las etapas de preprocesamiento y modelización de manera eficiente y ordenada.\n",
    "\n",
    "Este código finaliza la configuración del flujo de trabajo para el modelo de regresión logística. Una vez que el `Pipeline` está configurado, puedes entrenarlo con un conjunto de datos y luego usarlo para hacer predicciones."
   ]
  },
  {
   "cell_type": "code",
   "execution_count": 0,
   "metadata": {
    "application/vnd.databricks.v1+cell": {
     "cellMetadata": {
      "byteLimit": 2048000,
      "rowLimit": 10000
     },
     "inputWidgets": {},
     "nuid": "50d07405-d4a9-4257-a8ee-8a82fff13ea6",
     "showTitle": true,
     "title": "4. Entrenamiento y Evaluación del Modelo"
    }
   },
   "outputs": [
    {
     "output_type": "stream",
     "name": "stdout",
     "output_type": "stream",
     "text": [
      "Área bajo la curva ROC: 0.8770380437425292\n"
     ]
    }
   ],
   "source": [
    "# Dividir en conjunto de entrenamiento y prueba\n",
    "train_data, test_data = df_selected.randomSplit([0.7, 0.3], seed=42)\n",
    "\n",
    "# Entrenar el modelo\n",
    "model = pipeline.fit(train_data)\n",
    "\n",
    "# Realizar predicciones\n",
    "predictions = model.transform(test_data)\n",
    "\n",
    "# Evaluar el modelo\n",
    "from pyspark.ml.evaluation import BinaryClassificationEvaluator\n",
    "\n",
    "evaluator = BinaryClassificationEvaluator(labelCol=\"satisfaction_binary\", metricName=\"areaUnderROC\")\n",
    "auc = evaluator.evaluate(predictions)\n",
    "print(f\"Área bajo la curva ROC: {auc}\")\n"
   ]
  },
  {
   "cell_type": "markdown",
   "metadata": {
    "application/vnd.databricks.v1+cell": {
     "cellMetadata": {},
     "inputWidgets": {},
     "nuid": "e8ea8d49-347b-4520-b4ae-d2ab8ede3304",
     "showTitle": false,
     "title": ""
    }
   },
   "source": [
    "\n",
    "Este último fragmento de código completa el flujo de trabajo del modelo de regresión logística en PySpark, abarcando la división de los datos, el entrenamiento del modelo, la realización de predicciones y la evaluación del modelo. Expliquemos cada paso:\n",
    "\n",
    "1. **Dividir en conjunto de entrenamiento y prueba**:\n",
    "\n",
    "   Aquí, se divide el DataFrame `df_selected` en dos subconjuntos: uno para entrenamiento (`train_data`) y otro para pruebas (`test_data`). La división se hace de forma que el 70% de los datos se asignan al entrenamiento y el 30% a las pruebas. El `seed` se establece para garantizar la reproducibilidad de los resultados.\n",
    "\n",
    "2. **Entrenar el modelo**:\n",
    "   ```python\n",
    "   model = pipeline.fit(train_data)\n",
    "   ```\n",
    "   Esta línea entrena el `pipeline`, que incluye todas las etapas de preprocesamiento y el modelo de regresión logística, utilizando el conjunto de datos de entrenamiento (`train_data`).\n",
    "\n",
    "3. **Realizar predicciones**:\n",
    "  \n",
    "   Una vez que el modelo está entrenado, se utiliza para hacer predicciones en el conjunto de datos de prueba (`test_data`). El resultado, `predictions`, es un DataFrame que incluye las predicciones del modelo.\n",
    "\n",
    "4. **Evaluar el modelo**:\n",
    " \n",
    "   - Aquí, se importa `BinaryClassificationEvaluator` de PySpark ML, una clase que proporciona herramientas para evaluar modelos de clasificación binaria.\n",
    "   - Se cre un evaluador `evaluator` configurado para usar la métrica \"areaUnderROC\" (área bajo la curva ROC). La curva ROC es una herramienta común para evaluar el rendimiento de los modelos de clasificación binaria.\n",
    "   - Finalmente, se utiliza el evaluador para calcular el AUC (área bajo la curva ROC) en las predicciones realizadas. Un valor más alto de AUC indica generalmente un mejor rendimiento del modelo.\n",
    "\n",
    "Este flujo de trabajo completo demuestra cómo preparar datos, configurar un modelo de regresión logística, entrenarlo y evaluarlo usando PySpark. El área bajo la curva ROC es una métrica útil para comprender el rendimiento general del modelo en términos de su capacidad para distinguir entre las clases."
   ]
  },
  {
   "cell_type": "code",
   "execution_count": 0,
   "metadata": {
    "application/vnd.databricks.v1+cell": {
     "cellMetadata": {
      "byteLimit": 2048000,
      "rowLimit": 10000
     },
     "inputWidgets": {},
     "nuid": "0bfb9edb-42d9-4d4c-8859-4a64e96830d9",
     "showTitle": true,
     "title": "5. Visualización de ROC (Opcional con HandySpark)"
    }
   },
   "outputs": [
    {
     "output_type": "stream",
     "name": "stderr",
     "output_type": "stream",
     "text": [
      "/databricks/spark/python/pyspark/sql/context.py:165: FutureWarning: Deprecated in 3.0.0. Use SparkSession.builder.getOrCreate() instead.\n  warnings.warn(\n/databricks/spark/python/pyspark/sql/context.py:165: FutureWarning: Deprecated in 3.0.0. Use SparkSession.builder.getOrCreate() instead.\n  warnings.warn(\n"
     ]
    },
    {
     "output_type": "stream",
     "name": "stdout",
     "output_type": "stream",
     "text": [
      "Out[56]: <AxesSubplot:title={'center':'Precision-Recall Curve'}, xlabel='Recall', ylabel='Precision'>"
     ]
    },
    {
     "output_type": "display_data",
     "data": {
      "image/png": "[encoded data removed]"
     },
     "metadata": {
      "application/vnd.databricks.v1+output": {
       "addedWidgets": {},
       "arguments": {},
       "data": "data:image/png;base64,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\n",
       "datasetInfos": [],
       "metadata": {},
       "removedWidgets": [],
       "type": "image"
      }
     },
     "output_type": "display_data"
    }
   ],
   "source": [
    "from pyspark.ml.evaluation import BinaryClassificationEvaluator\n",
    "from matplotlib import pyplot as plt\n",
    "\n",
    "# Métricas\n",
    "bcm = BinaryClassificationMetrics(predictions, scoreCol='probability', labelCol='satisfaction_binary')\n",
    "\n",
    "\n",
    "fig, axs = plt.subplots(1, 2, figsize=(12, 4))\n",
    "bcm.plot_roc_curve(ax=axs[0])\n",
    "bcm.plot_pr_curve(ax=axs[1])"
   ]
  }
 ],
 "metadata": {
  "application/vnd.databricks.v1+notebook": {
   "dashboards": [],
   "language": "python",
   "notebookMetadata": {
    "mostRecentlyExecutedCommandWithImplicitDF": {
     "commandId": 1918739696469564,
     "dataframes": [
      "_sqldf"
     ]
    },
    "pythonIndentUnit": 4
   },
   "notebookName": "Encuesta_Aerolinea_MLlib",
   "widgets": {}
  }
 },
 "nbformat": 4,
 "nbformat_minor": 0
}
