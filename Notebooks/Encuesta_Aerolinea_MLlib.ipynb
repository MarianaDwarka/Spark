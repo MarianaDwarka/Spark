{
 "cells": [
  {
   "cell_type": "markdown",
   "metadata": {
    "application/vnd.databricks.v1+cell": {
     "cellMetadata": {
      "byteLimit": 2048000,
      "rowLimit": 10000
     },
     "inputWidgets": {},
     "nuid": "ce47c87b-0e43-47f0-bef7-b1c6577ecf2f",
     "showTitle": true,
     "title": "Spark MLlib para generar un modelo que implemente Regresión Logística"
    }
   },
   "source": [
    "\n",
    "A partir del dataset encuesta_aerolinea.csv con resultados de una encuesta de una aerolínea, generad un modelo de Regresión Logística que permita clasificar la satisfacción del cliente entre las dos posibles alternativas que se indican en la columna (satisfaction_binary) del dataset: 1 para “satisfied” o 0 para “neutral or dissatisfied”. \n",
    "\n",
    "Se deben extraer las siguientes columnas para la generación del modelo: Gender, Age, Inflight wifi service,  Departure/Arrival time convenient, Ease of Online booking, Gate location, Food and drink, Online boarding, Seat comfort, Inflight entertainment, On-board service, Leg room service, Baggage handling, Check service, Inflight service, Cleanliness, satisfaction y satisfaction_binary.\n",
    "\n",
    "Como método de preparación del DataFrame, se elige eliminar todas las observaciones que contengan NaN, utilizando el método na.drop() de la siguiente manera: <mi_dataframe>.na.drop()\n",
    "\n",
    "La columna “satisfaction_binary” contiene la representación binaria 1 o 0 de las categorías de la columna “satisfaction”. La columna “satisfaction_binary” debe pasarse como el parámetro de labelCol al crear el objeto LogisticRegression.\n",
    "\n",
    "Las columnas categóricas (Gender) deben convertirse a una representación vectorial utilizando StringIndexer() y OneHotEncoder().\n",
    "\n",
    "**Los pasos para la implementación del modelo puede reducirse a los siguientes:**\n",
    "\n",
    "1. Extracción de las columnas requeridas en un nuevo DataFrame.\n",
    "2. Limpiar el Dataframe eliminando los NaN.\n",
    "3. Convertir columnas categóricas utilizando StringIndexer y OneHotEncoder.\n",
    "4. Generar el vector con las features para el entrenamiento del modelo con VectorAssembler()\n",
    "5. Construir el objeto LogisticRegression pasando los parámetros para featuresCol y labelCol.\n",
    "6. Construir el objeto Pipeline con los diferentes pasos de transformación.\n",
    "7. Separa el conjunto de datos en conjuntos de entrenamiento y evaluación.\n",
    "8. Entrenamos el modelo con el método fit() del Pipeline.\n",
    "9. Construimos el objeto BinaryClassificationEvaluator().\n",
    "\n",
    "10\\. Evaluar la precisión (accuracy) del modelo.\n",
    "\n",
    "11\\. Utilizar la libreria handyspark para obtener el gráfico de ROC (opcional)."
   ]
  },
  {
   "cell_type": "code",
   "execution_count": 0,
   "metadata": {
    "application/vnd.databricks.v1+cell": {
     "cellMetadata": {
      "byteLimit": 2048000,
      "rowLimit": 10000
     },
     "inputWidgets": {},
     "nuid": "8bc93ad4-2b42-4f60-a117-b86220ce8daa",
     "showTitle": true,
     "title": "Listar los archivos en el DBFS"
    }
   },
   "outputs": [
    {
     "output_type": "display_data",
     "data": {
      "text/html": [
       "<style scoped>\n",
       "  .table-result-container {\n",
       "    max-height: 300px;\n",
       "    overflow: auto;\n",
       "  }\n",
       "  table, th, td {\n",
       "    border: 1px solid black;\n",
       "    border-collapse: collapse;\n",
       "  }\n",
       "  th, td {\n",
       "    padding: 5px;\n",
       "  }\n",
       "  th {\n",
       "    text-align: left;\n",
       "  }\n",
       "</style><div class='table-result-container'><table class='table-result'><thead style='background-color: white'><tr><th>path</th><th>name</th><th>size</th><th>modificationTime</th></tr></thead><tbody><tr><td>dbfs:/FileStore/tables/encuesta_aerolinea-1.csv</td><td>encuesta_aerolinea-1.csv</td><td>11986211</td><td>1706643440000</td></tr><tr><td>dbfs:/FileStore/tables/encuesta_aerolinea.csv</td><td>encuesta_aerolinea.csv</td><td>11986211</td><td>1706643304000</td></tr><tr><td>dbfs:/FileStore/tables/encuesta_aerolinea_simplificado-1.csv</td><td>encuesta_aerolinea_simplificado-1.csv</td><td>11986211</td><td>1705509312000</td></tr><tr><td>dbfs:/FileStore/tables/encuesta_aerolinea_simplificado.csv</td><td>encuesta_aerolinea_simplificado.csv</td><td>11986211</td><td>1705509276000</td></tr><tr><td>dbfs:/FileStore/tables/proyecto/</td><td>proyecto/</td><td>0</td><td>0</td></tr></tbody></table></div>"
      ]
     },
     "metadata": {
      "application/vnd.databricks.v1+output": {
       "addedWidgets": {},
       "aggData": [],
       "aggError": "",
       "aggOverflow": false,
       "aggSchema": [],
       "aggSeriesLimitReached": false,
       "aggType": "",
       "arguments": {},
       "columnCustomDisplayInfos": {},
       "data": [
        [
         "dbfs:/FileStore/tables/encuesta_aerolinea-1.csv",
         "encuesta_aerolinea-1.csv",
         11986211,
         1706643440000
        ],
        [
         "dbfs:/FileStore/tables/encuesta_aerolinea.csv",
         "encuesta_aerolinea.csv",
         11986211,
         1706643304000
        ],
        [
         "dbfs:/FileStore/tables/encuesta_aerolinea_simplificado-1.csv",
         "encuesta_aerolinea_simplificado-1.csv",
         11986211,
         1705509312000
        ],
        [
         "dbfs:/FileStore/tables/encuesta_aerolinea_simplificado.csv",
         "encuesta_aerolinea_simplificado.csv",
         11986211,
         1705509276000
        ],
        [
         "dbfs:/FileStore/tables/proyecto/",
         "proyecto/",
         0,
         0
        ]
       ],
       "datasetInfos": [],
       "dbfsResultPath": null,
       "isJsonSchema": true,
       "metadata": {
        "isDbfsCommandResult": false
       },
       "overflow": false,
       "plotOptions": {
        "customPlotOptions": {},
        "displayType": "table",
        "pivotAggregation": null,
        "pivotColumns": null,
        "xColumns": null,
        "yColumns": null
       },
       "removedWidgets": [],
       "schema": [
        {
         "metadata": "{}",
         "name": "path",
         "type": "\"string\""
        },
        {
         "metadata": "{}",
         "name": "name",
         "type": "\"string\""
        },
        {
         "metadata": "{}",
         "name": "size",
         "type": "\"long\""
        },
        {
         "metadata": "{}",
         "name": "modificationTime",
         "type": "\"long\""
        }
       ],
       "type": "table"
      }
     },
     "output_type": "display_data"
    }
   ],
   "source": [
    "%fs\n",
    "ls dbfs:/FileStore/tables/"
   ]
  },
  {
   "cell_type": "code",
   "execution_count": 0,
   "metadata": {
    "application/vnd.databricks.v1+cell": {
     "cellMetadata": {
      "byteLimit": 2048000,
      "rowLimit": 10000
     },
     "inputWidgets": {},
     "nuid": "50fa870c-1f4c-4972-be12-3089df1f862a",
     "showTitle": true,
     "title": "Crear el RDD inicial a partir del dataset y mostrar las primeras observaciones"
    }
   },
   "outputs": [
    {
     "output_type": "display_data",
     "data": {
      "text/html": [
       "<style scoped>\n",
       "  .table-result-container {\n",
       "    max-height: 300px;\n",
       "    overflow: auto;\n",
       "  }\n",
       "  table, th, td {\n",
       "    border: 1px solid black;\n",
       "    border-collapse: collapse;\n",
       "  }\n",
       "  th, td {\n",
       "    padding: 5px;\n",
       "  }\n",
       "  th {\n",
       "    text-align: left;\n",
       "  }\n",
       "</style><div class='table-result-container'><table class='table-result'><thead style='background-color: white'><tr><th>_c0</th><th>id</th><th>Gender</th><th>Customer Type</th><th>Age</th><th>Type of Travel</th><th>Class</th><th>Flight Distance</th><th>Inflight wifi service</th><th>Departure/Arrival time convenient</th><th>Ease of Online booking</th><th>Gate location</th><th>Food and drink</th><th>Online boarding</th><th>Seat comfort</th><th>Inflight entertainment</th><th>On-board service</th><th>Leg room service</th><th>Baggage handling</th><th>Checkin service</th><th>Inflight service</th><th>Cleanliness</th><th>Departure Delay in Minutes</th><th>Arrival Delay in Minutes</th><th>satisfaction</th></tr></thead><tbody><tr><td>0</td><td>70172</td><td>Male</td><td>Loyal Customer</td><td>13</td><td>Personal Travel</td><td>Eco Plus</td><td>460</td><td>3</td><td>4</td><td>3</td><td>1</td><td>5</td><td>3</td><td>5</td><td>5</td><td>4</td><td>3</td><td>4</td><td>4</td><td>5</td><td>5</td><td>25</td><td>18</td><td>neutral or dissatisfied</td></tr><tr><td>1</td><td>5047</td><td>Male</td><td>disloyal Customer</td><td>25</td><td>Business travel</td><td>Business</td><td>235</td><td>3</td><td>2</td><td>3</td><td>3</td><td>1</td><td>3</td><td>1</td><td>1</td><td>1</td><td>5</td><td>3</td><td>1</td><td>4</td><td>1</td><td>1</td><td>6</td><td>neutral or dissatisfied</td></tr><tr><td>2</td><td>110028</td><td>Female</td><td>Loyal Customer</td><td>26</td><td>Business travel</td><td>Business</td><td>1142</td><td>2</td><td>2</td><td>2</td><td>2</td><td>5</td><td>5</td><td>5</td><td>5</td><td>4</td><td>3</td><td>4</td><td>4</td><td>4</td><td>5</td><td>0</td><td>0</td><td>satisfied</td></tr><tr><td>3</td><td>24026</td><td>Female</td><td>Loyal Customer</td><td>25</td><td>Business travel</td><td>Business</td><td>562</td><td>2</td><td>5</td><td>5</td><td>5</td><td>2</td><td>2</td><td>2</td><td>2</td><td>2</td><td>5</td><td>3</td><td>1</td><td>4</td><td>2</td><td>11</td><td>9</td><td>neutral or dissatisfied</td></tr><tr><td>4</td><td>119299</td><td>Male</td><td>Loyal Customer</td><td>61</td><td>Business travel</td><td>Business</td><td>214</td><td>3</td><td>3</td><td>3</td><td>3</td><td>4</td><td>5</td><td>5</td><td>3</td><td>3</td><td>4</td><td>4</td><td>3</td><td>3</td><td>3</td><td>0</td><td>0</td><td>satisfied</td></tr></tbody></table></div>"
      ]
     },
     "metadata": {
      "application/vnd.databricks.v1+output": {
       "addedWidgets": {},
       "aggData": [],
       "aggError": "",
       "aggOverflow": false,
       "aggSchema": [],
       "aggSeriesLimitReached": false,
       "aggType": "",
       "arguments": {},
       "columnCustomDisplayInfos": {},
       "data": [
        [
         0,
         70172,
         "Male",
         "Loyal Customer",
         13,
         "Personal Travel",
         "Eco Plus",
         460,
         3,
         4,
         3,
         1,
         5,
         3,
         5,
         5,
         4,
         3,
         4,
         4,
         5,
         5,
         25,
         18,
         "neutral or dissatisfied"
        ],
        [
         1,
         5047,
         "Male",
         "disloyal Customer",
         25,
         "Business travel",
         "Business",
         235,
         3,
         2,
         3,
         3,
         1,
         3,
         1,
         1,
         1,
         5,
         3,
         1,
         4,
         1,
         1,
         6,
         "neutral or dissatisfied"
        ],
        [
         2,
         110028,
         "Female",
         "Loyal Customer",
         26,
         "Business travel",
         "Business",
         1142,
         2,
         2,
         2,
         2,
         5,
         5,
         5,
         5,
         4,
         3,
         4,
         4,
         4,
         5,
         0,
         0,
         "satisfied"
        ],
        [
         3,
         24026,
         "Female",
         "Loyal Customer",
         25,
         "Business travel",
         "Business",
         562,
         2,
         5,
         5,
         5,
         2,
         2,
         2,
         2,
         2,
         5,
         3,
         1,
         4,
         2,
         11,
         9,
         "neutral or dissatisfied"
        ],
        [
         4,
         119299,
         "Male",
         "Loyal Customer",
         61,
         "Business travel",
         "Business",
         214,
         3,
         3,
         3,
         3,
         4,
         5,
         5,
         3,
         3,
         4,
         4,
         3,
         3,
         3,
         0,
         0,
         "satisfied"
        ]
       ],
       "datasetInfos": [],
       "dbfsResultPath": null,
       "isJsonSchema": true,
       "metadata": {},
       "overflow": false,
       "plotOptions": {
        "customPlotOptions": {},
        "displayType": "table",
        "pivotAggregation": null,
        "pivotColumns": null,
        "xColumns": null,
        "yColumns": null
       },
       "removedWidgets": [],
       "schema": [
        {
         "metadata": "{}",
         "name": "_c0",
         "type": "\"integer\""
        },
        {
         "metadata": "{}",
         "name": "id",
         "type": "\"integer\""
        },
        {
         "metadata": "{}",
         "name": "Gender",
         "type": "\"string\""
        },
        {
         "metadata": "{}",
         "name": "Customer Type",
         "type": "\"string\""
        },
        {
         "metadata": "{}",
         "name": "Age",
         "type": "\"integer\""
        },
        {
         "metadata": "{}",
         "name": "Type of Travel",
         "type": "\"string\""
        },
        {
         "metadata": "{}",
         "name": "Class",
         "type": "\"string\""
        },
        {
         "metadata": "{}",
         "name": "Flight Distance",
         "type": "\"integer\""
        },
        {
         "metadata": "{}",
         "name": "Inflight wifi service",
         "type": "\"integer\""
        },
        {
         "metadata": "{}",
         "name": "Departure/Arrival time convenient",
         "type": "\"integer\""
        },
        {
         "metadata": "{}",
         "name": "Ease of Online booking",
         "type": "\"integer\""
        },
        {
         "metadata": "{}",
         "name": "Gate location",
         "type": "\"integer\""
        },
        {
         "metadata": "{}",
         "name": "Food and drink",
         "type": "\"integer\""
        },
        {
         "metadata": "{}",
         "name": "Online boarding",
         "type": "\"integer\""
        },
        {
         "metadata": "{}",
         "name": "Seat comfort",
         "type": "\"integer\""
        },
        {
         "metadata": "{}",
         "name": "Inflight entertainment",
         "type": "\"integer\""
        },
        {
         "metadata": "{}",
         "name": "On-board service",
         "type": "\"integer\""
        },
        {
         "metadata": "{}",
         "name": "Leg room service",
         "type": "\"integer\""
        },
        {
         "metadata": "{}",
         "name": "Baggage handling",
         "type": "\"integer\""
        },
        {
         "metadata": "{}",
         "name": "Checkin service",
         "type": "\"integer\""
        },
        {
         "metadata": "{}",
         "name": "Inflight service",
         "type": "\"integer\""
        },
        {
         "metadata": "{}",
         "name": "Cleanliness",
         "type": "\"integer\""
        },
        {
         "metadata": "{}",
         "name": "Departure Delay in Minutes",
         "type": "\"integer\""
        },
        {
         "metadata": "{}",
         "name": "Arrival Delay in Minutes",
         "type": "\"integer\""
        },
        {
         "metadata": "{}",
         "name": "satisfaction",
         "type": "\"string\""
        }
       ],
       "type": "table"
      }
     },
     "output_type": "display_data"
    }
   ],
   "source": [
    "lines = sc.textFile('dbfs:/FileStore/tables/encuesta_aerolinea.csv')\n",
    "df_preview = spark.read.format(\"csv\").option(\"inferSchema\",\"true\").option(\"header\",\"true\").load(\"dbfs:/FileStore/tables/encuesta_aerolinea.csv\")\n",
    "df_limited = df_preview.limit(5)  # Limita a 5 registros\n",
    "df_limited.display()\n"
   ]
  },
  {
   "cell_type": "code",
   "execution_count": 0,
   "metadata": {
    "application/vnd.databricks.v1+cell": {
     "cellMetadata": {
      "byteLimit": 2048000,
      "rowLimit": 10000
     },
     "inputWidgets": {},
     "nuid": "cd9919d3-2af4-46be-ad02-df33420d9ee2",
     "showTitle": false,
     "title": ""
    }
   },
   "outputs": [],
   "source": [
    "from pyspark.sql.types import StructType, StructField, StringType, FloatType, TimestampType, IntegerType\n",
    "from pyspark.sql.functions import col"
   ]
  },
  {
   "cell_type": "code",
   "execution_count": 0,
   "metadata": {
    "application/vnd.databricks.v1+cell": {
     "cellMetadata": {
      "byteLimit": 2048000,
      "rowLimit": 10000
     },
     "inputWidgets": {},
     "nuid": "d9aa519f-c41e-42a6-b945-588a9d52bf07",
     "showTitle": true,
     "title": "Crear el schema para el DataFrame"
    }
   },
   "outputs": [],
   "source": [
    "schema = StructType([\n",
    "    StructField(\"C0\", IntegerType(), True),\n",
    "    StructField(\"ID\", IntegerType(), True),\n",
    "    StructField(\"gender\", StringType(), True),\n",
    "    StructField(\"customer_type\", StringType(), True),\n",
    "    StructField(\"age\", FloatType(), True),\n",
    "    StructField(\"type_of_travel\", StringType(), True),\n",
    "    StructField(\"class\", StringType(), True),\n",
    "    StructField(\"flight_distance\", FloatType(), True),\n",
    "    StructField(\"wifi\", FloatType(), True),\n",
    "    StructField(\"time_convenient\", FloatType(), True),\n",
    "    StructField(\"booking\", FloatType(), True),\n",
    "    StructField(\"gate\", FloatType(), True),\n",
    "    StructField(\"food\", FloatType(), True),\n",
    "    StructField(\"boarding\", FloatType(), True),\n",
    "    StructField(\"comfort\", FloatType(), True),\n",
    "    StructField(\"entertainment\", FloatType(), True),\n",
    "    StructField(\"on_board_service\", FloatType(), True),\n",
    "    StructField(\"room_service\", FloatType(), True),\n",
    "    StructField(\"handling\", FloatType(), True),\n",
    "    StructField(\"checking\", FloatType(), True),\n",
    "    StructField(\"inflight\", FloatType(), True),\n",
    "    StructField(\"cleanliness\", FloatType(), True),\n",
    "    StructField(\"departures_delay\", FloatType(), True),\n",
    "    StructField(\"arrivals_delay\", FloatType(), True),\n",
    "    StructField(\"satisfaction\", StringType(), True), \n",
    "])"
   ]
  },
  {
   "cell_type": "code",
   "execution_count": 0,
   "metadata": {
    "application/vnd.databricks.v1+cell": {
     "cellMetadata": {
      "byteLimit": 2048000,
      "rowLimit": 10000
     },
     "inputWidgets": {},
     "nuid": "5c0c5d1a-9e1d-4e57-b4d5-79213ff0556b",
     "showTitle": true,
     "title": "Crear el DataFrame e imprimir el esquema"
    }
   },
   "outputs": [],
   "source": [
    "df_raw = spark.read.format(\"csv\").option(\"header\", True).schema(schema).load('dbfs:/FileStore/tables/encuesta_aerolinea.csv')\n",
    "df = df_raw.na.drop()"
   ]
  },
  {
   "cell_type": "markdown",
   "metadata": {
    "application/vnd.databricks.v1+cell": {
     "cellMetadata": {
      "byteLimit": 2048000,
      "rowLimit": 10000
     },
     "inputWidgets": {},
     "nuid": "11d67059-f453-4c22-9b2d-b0977c83e51f",
     "showTitle": true,
     "title": "MLlib"
    }
   },
   "source": [
    "\n",
    "MLlib es la biblioteca de aprendizaje automático (machine learning) de Apache Spark. Está diseñada para simplificar la construcción de aplicaciones de aprendizaje automático a gran escala, integrándose de manera fluida con el resto del ecosistema de Spark. \n",
    "\n",
    "MLlib proporciona una amplia variedad de algoritmos y utilidades comunes de aprendizaje automático, incluyendo clasificación, regresión, clustering, filtrado colaborativo (como sistemas de recomendación), reducción de dimensionalidad, y selección de modelos. Aprovecha la distribución de datos y el procesamiento en paralelo de Spark, lo que la hace adecuada para manejar grandes volúmenes de datos de manera eficiente.\n",
    "\n",
    "Aunque MLlib está escrita en Scala, es accesible desde otros lenguajes de programación soportados por Spark, como Python (a través de PySpark) y Java.\n",
    "\n",
    "Por lo tanto, MLlib es una biblioteca robusta y versátil para realizar aprendizaje automático en plataformas distribuidas, aprovechando la potencia y escala de Apache Spark. Es especialmente útil para aplicaciones que requieren manejar grandes conjuntos de datos y realizar operaciones de aprendizaje automático complejas."
   ]
  },
  {
   "cell_type": "code",
   "execution_count": 0,
   "metadata": {
    "application/vnd.databricks.v1+cell": {
     "cellMetadata": {
      "byteLimit": 2048000,
      "rowLimit": 10000
     },
     "inputWidgets": {},
     "nuid": "78e9427b-1051-4355-9ecd-4e01cd0897ce",
     "showTitle": true,
     "title": "1. Extracción de las Columnas Requeridas"
    }
   },
   "outputs": [],
   "source": [
    "from pyspark.sql.functions import when\n",
    "\n",
    "# Seleccionar las columnas necesarias\n",
    "selected_columns = [\n",
    "    \"gender\", \"age\", \"wifi\", \"time_convenient\", \"booking\",\n",
    "    \"gate\", \"food\", \"boarding\", \"comfort\", \"entertainment\",\n",
    "    \"on_board_service\", \"room_service\", \"handling\", \"checking\",\n",
    "    \"inflight\", \"cleanliness\", \"satisfaction\"\n",
    "]\n",
    "\n",
    "df_selected = df.select(selected_columns)\n",
    "\n",
    "# Convertir la columna 'satisfaction' en binaria\n",
    "df_selected = df_selected.withColumn(\n",
    "    \"satisfaction_binary\", \n",
    "    when(col(\"satisfaction\") == \"satisfied\", 1).otherwise(0)\n",
    ")\n"
   ]
  },
  {
   "cell_type": "code",
   "execution_count": 0,
   "metadata": {
    "application/vnd.databricks.v1+cell": {
     "cellMetadata": {
      "byteLimit": 2048000,
      "rowLimit": 10000
     },
     "inputWidgets": {},
     "nuid": "c26d1419-4cb3-42b4-99ab-3a3726d10485",
     "showTitle": true,
     "title": "2.  Transformación de Características"
    }
   },
   "outputs": [],
   "source": [
    "from pyspark.ml.feature import StringIndexer, OneHotEncoder, VectorAssembler\n",
    "from pyspark.ml import Pipeline\n",
    "\n",
    "# Indexar y codificar las columnas categóricas\n",
    "gender_indexer = StringIndexer(inputCol=\"gender\", outputCol=\"genderIndex\")\n",
    "gender_encoder = OneHotEncoder(inputCol=\"genderIndex\", outputCol=\"genderVec\")\n",
    "\n",
    "# Asssembler de todas las características en un vector\n",
    "assembler_inputs = [\"genderVec\"] + selected_columns[1:-2]  # excluyendo la columna 'satisfaction' y 'satisfaction_binary'\n",
    "assembler = VectorAssembler(inputCols=assembler_inputs, outputCol=\"features\")\n"
   ]
  },
  {
   "cell_type": "markdown",
   "metadata": {
    "application/vnd.databricks.v1+cell": {
     "cellMetadata": {
      "byteLimit": 2048000,
      "rowLimit": 10000
     },
     "inputWidgets": {},
     "nuid": "1a5c1a6e-12d1-44d1-a2c0-c58adcd18962",
     "showTitle": false,
     "title": ""
    }
   },
   "source": [
    "\n",
    "En esta parte, se trabaja con la transformación de características, específicamente indexando y codificando las variables categóricas y combinando todas las características relevantes en un solo vector.\n",
    "\n",
    "1. **Importar las funciones necesarias de PySpark ML**:\n",
    "\n",
    "   - `StringIndexer`, `OneHotEncoder`, y `VectorAssembler` son transformadores de PySpark ML que ayudan a convertir datos en formatos adecuados para modelos de aprendizaje automático.\n",
    "   - `Pipeline` es una forma de encadenar múltiples transformaciones y estimadores, lo que facilita la construcción y gestión de flujos de trabajo de aprendizaje automático.\n",
    "\n",
    "2. **Indexar y codificar las columnas categóricas**:\n",
    "\n",
    "   - `StringIndexer`: Convierte la columna categórica 'gender' en índices numéricos. Esto es necesario porque muchos algoritmos de aprendizaje automático prefieren trabajar con números en lugar de texto.\n",
    "   - `OneHotEncoder`: Transforma los índices numéricos generados por `StringIndexer` en un formato de codificación one-hot. En la codificación one-hot, cada categoría única en la columna se representa como un vector binario.\n",
    "\n",
    "3. **Assembler de todas las características en un vector**:\n",
    "\n",
    "   - Aquí, se crea una lista `assembler_inputs` que contiene el nombre de la columna codificada ('genderVec') y todas las otras columnas seleccionadas, excepto 'satisfaction' y 'satisfaction_binary'.\n",
    "   - `VectorAssembler` se utiliza para combinar todas estas columnas en una única columna de características llamada 'features'. Esto es importante porque los modelos de aprendizaje automático en PySpark, como la regresión logística, esperan que los datos de entrada estén en un único vector de características.\n",
    "\n",
    "Estas operaciones están preparando los datos para ser utilizados en un modelo de aprendizaje automático, asegurando que todas las variables estén en el formato adecuado y combinadas en una estructura que el modelo puede procesar eficientemente."
   ]
  },
  {
   "cell_type": "code",
   "execution_count": 0,
   "metadata": {
    "application/vnd.databricks.v1+cell": {
     "cellMetadata": {
      "byteLimit": 2048000,
      "rowLimit": 10000
     },
     "inputWidgets": {},
     "nuid": "75758d70-b72c-4578-8733-6e755fa52bc5",
     "showTitle": true,
     "title": "3. Construcción del Modelo"
    }
   },
   "outputs": [],
   "source": [
    "#Configura y agrega la regresión logística al pipeline.\n",
    "\n",
    "from pyspark.ml.classification import LogisticRegression\n",
    "\n",
    "# Configurar la regresión logística\n",
    "lr = LogisticRegression(labelCol=\"satisfaction_binary\", featuresCol=\"features\")\n",
    "\n",
    "\n",
    "# Creación del pipeline\n",
    "preprocessing_stages = [gender_indexer, gender_encoder, assembler,lr]\n",
    "pipeline = Pipeline(stages=preprocessing_stages)\n"
   ]
  },
  {
   "cell_type": "markdown",
   "metadata": {
    "application/vnd.databricks.v1+cell": {
     "cellMetadata": {
      "byteLimit": 2048000,
      "rowLimit": 10000
     },
     "inputWidgets": {},
     "nuid": "61971586-75f9-40bd-9d8e-1818ed4ed6c2",
     "showTitle": false,
     "title": ""
    }
   },
   "source": [
    "\n",
    "Aquí, se configura el estimador de regresión logística y se integra junto con las etapas de preprocesamiento previas en un solo pipeline. Veamos cada paso en detalle:\n",
    "\n",
    "1. **Importar LogisticRegression de PySpark ML**:\n",
    "   `LogisticRegression` es la clase de PySpark ML que proporciona la implementación del algoritmo de regresión logística para la clasificación binaria.\n",
    "\n",
    "2. **Configurar la regresión logística**:\n",
    "\n",
    "   Aquí, se crea una instancia del modelo de regresión logística (`lr`). \n",
    "   - `labelCol=\"satisfaction_binary\"` indica que la columna 'satisfaction_binary' será utilizada como la etiqueta (o variable dependiente) para el modelo. Esta es la columna que se transformó anteriormente a formato binario.\n",
    "   - `featuresCol=\"features\"` especifica que la columna 'features' contiene las características (o variables independientes) que el modelo usará para hacer predicciones. Esta columna fue generada por el `VectorAssembler` y contiene todas las características relevantes en un formato vectorial.\n",
    "\n",
    "3. **Creación del pipeline**:\n",
    "   - Aquí, se crea una lista `preprocessing_stages` que incluye todas las etapas de preprocesamiento (`gender_indexer`, `gender_encoder`, `assembler`) y el modelo de regresión logística (`lr`).\n",
    "   - Luego, se crea un objeto `Pipeline` con estas etapas. En PySpark, un `Pipeline` es una secuencia de transformadores y estimadores (como modelos de aprendizaje automático) que se ejecutan en un orden específico. Este enfoque facilita la gestión del flujo de trabajo, ya que permite que los datos pasen a través de todas las etapas de preprocesamiento y modelización de manera eficiente y ordenada.\n",
    "\n",
    "Este código finaliza la configuración del flujo de trabajo para el modelo de regresión logística. Una vez que el `Pipeline` está configurado, puedes entrenarlo con un conjunto de datos y luego usarlo para hacer predicciones."
   ]
  },
  {
   "cell_type": "code",
   "execution_count": 0,
   "metadata": {
    "application/vnd.databricks.v1+cell": {
     "cellMetadata": {
      "byteLimit": 2048000,
      "rowLimit": 10000
     },
     "inputWidgets": {},
     "nuid": "50d07405-d4a9-4257-a8ee-8a82fff13ea6",
     "showTitle": true,
     "title": "4. Entrenamiento y Evaluación del Modelo"
    }
   },
   "outputs": [
    {
     "output_type": "stream",
     "name": "stdout",
     "output_type": "stream",
     "text": [
      "Área bajo la curva ROC: 0.8770333376422552\n"
     ]
    }
   ],
   "source": [
    "# Dividir en conjunto de entrenamiento y prueba\n",
    "train_data, test_data = df_selected.randomSplit([0.7, 0.3], seed=42)\n",
    "\n",
    "# Entrenar el modelo\n",
    "model = pipeline.fit(train_data)\n",
    "\n",
    "# Realizar predicciones\n",
    "predictions = model.transform(test_data)\n",
    "\n",
    "# Evaluar el modelo\n",
    "from pyspark.ml.evaluation import BinaryClassificationEvaluator\n",
    "\n",
    "evaluator = BinaryClassificationEvaluator(labelCol=\"satisfaction_binary\", metricName=\"areaUnderROC\")\n",
    "auc = evaluator.evaluate(predictions)\n",
    "print(f\"Área bajo la curva ROC: {auc}\")\n"
   ]
  },
  {
   "cell_type": "markdown",
   "metadata": {
    "application/vnd.databricks.v1+cell": {
     "cellMetadata": {
      "byteLimit": 2048000,
      "rowLimit": 10000
     },
     "inputWidgets": {},
     "nuid": "e8ea8d49-347b-4520-b4ae-d2ab8ede3304",
     "showTitle": false,
     "title": ""
    }
   },
   "source": [
    "\n",
    "Este último fragmento de código completa el flujo de trabajo del modelo de regresión logística en PySpark, abarcando la división de los datos, el entrenamiento del modelo, la realización de predicciones y la evaluación del modelo. Expliquemos cada paso:\n",
    "\n",
    "1. **Dividir en conjunto de entrenamiento y prueba**:\n",
    "\n",
    "   Aquí, se divide el DataFrame `df_selected` en dos subconjuntos: uno para entrenamiento (`train_data`) y otro para pruebas (`test_data`). La división se hace de forma que el 70% de los datos se asignan al entrenamiento y el 30% a las pruebas. El `seed` se establece para garantizar la reproducibilidad de los resultados.\n",
    "\n",
    "2. **Entrenar el modelo**:\n",
    "   ```python\n",
    "   model = pipeline.fit(train_data)\n",
    "   ```\n",
    "   Esta línea entrena el `pipeline`, que incluye todas las etapas de preprocesamiento y el modelo de regresión logística, utilizando el conjunto de datos de entrenamiento (`train_data`).\n",
    "\n",
    "3. **Realizar predicciones**:\n",
    "  \n",
    "   Una vez que el modelo está entrenado, se utiliza para hacer predicciones en el conjunto de datos de prueba (`test_data`). El resultado, `predictions`, es un DataFrame que incluye las predicciones del modelo.\n",
    "\n",
    "4. **Evaluar el modelo**:\n",
    " \n",
    "   - Aquí, se importa `BinaryClassificationEvaluator` de PySpark ML, una clase que proporciona herramientas para evaluar modelos de clasificación binaria.\n",
    "   - Se cre un evaluador `evaluator` configurado para usar la métrica \"areaUnderROC\" (área bajo la curva ROC). La curva ROC es una herramienta común para evaluar el rendimiento de los modelos de clasificación binaria.\n",
    "   - Finalmente, se utiliza el evaluador para calcular el AUC (área bajo la curva ROC) en las predicciones realizadas. Un valor más alto de AUC indica generalmente un mejor rendimiento del modelo.\n",
    "\n",
    "Este flujo de trabajo completo demuestra cómo preparar datos, configurar un modelo de regresión logística, entrenarlo y evaluarlo usando PySpark. El área bajo la curva ROC es una métrica útil para comprender el rendimiento general del modelo en términos de su capacidad para distinguir entre las clases."
   ]
  },
  {
   "cell_type": "code",
   "execution_count": 0,
   "metadata": {
    "application/vnd.databricks.v1+cell": {
     "cellMetadata": {
      "byteLimit": 2048000,
      "rowLimit": 10000
     },
     "inputWidgets": {},
     "nuid": "0bfb9edb-42d9-4d4c-8859-4a64e96830d9",
     "showTitle": true,
     "title": "5. Visualización de ROC (Opcional con HandySpark)"
    }
   },
   "outputs": [
    {
     "output_type": "stream",
     "name": "stderr",
     "output_type": "stream",
     "text": [
      "/databricks/spark/python/pyspark/sql/context.py:165: FutureWarning: Deprecated in 3.0.0. Use SparkSession.builder.getOrCreate() instead.\n  warnings.warn(\n/databricks/spark/python/pyspark/sql/context.py:165: FutureWarning: Deprecated in 3.0.0. Use SparkSession.builder.getOrCreate() instead.\n  warnings.warn(\n"
     ]
    },
    {
     "output_type": "stream",
     "name": "stdout",
     "output_type": "stream",
     "text": [
      "Out[10]: <AxesSubplot:title={'center':'Precision-Recall Curve'}, xlabel='Recall', ylabel='Precision'>"
     ]
    },
    {
     "output_type": "display_data",
     "data": {
      "image/png": "[encoded data removed]"
     },
     "metadata": {
      "application/vnd.databricks.v1+output": {
       "addedWidgets": {},
       "arguments": {},
       "data": "data:image/png;base64,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\n",
       "datasetInfos": [],
       "metadata": {},
       "removedWidgets": [],
       "type": "image"
      }
     },
     "output_type": "display_data"
    }
   ],
   "source": [
    "!pip install handyspark\n",
    "from pyspark.ml.evaluation import BinaryClassificationEvaluator\n",
    "from matplotlib import pyplot as plt\n",
    "from handyspark import *\n",
    "\n",
    "# Métricas\n",
    "bcm = BinaryClassificationMetrics(predictions, scoreCol='probability', labelCol='satisfaction_binary')\n",
    "\n",
    "\n",
    "fig, axs = plt.subplots(1, 2, figsize=(12, 4))\n",
    "bcm.plot_roc_curve(ax=axs[0])\n",
    "bcm.plot_pr_curve(ax=axs[1])"
   ]
  }
 ],
 "metadata": {
  "application/vnd.databricks.v1+notebook": {
   "dashboards": [],
   "language": "python",
   "notebookMetadata": {
    "mostRecentlyExecutedCommandWithImplicitDF": {
     "commandId": 1918739696469564,
     "dataframes": [
      "_sqldf"
     ]
    },
    "pythonIndentUnit": 4
   },
   "notebookName": "Encuesta_Aerolinea_MLlib",
   "widgets": {}
  }
 },
 "nbformat": 4,
 "nbformat_minor": 0
}
