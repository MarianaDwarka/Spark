{
 "cells": [
  {
   "cell_type": "markdown",
   "metadata": {
    "application/vnd.databricks.v1+cell": {
     "cellMetadata": {},
     "inputWidgets": {},
     "nuid": "ce47c87b-0e43-47f0-bef7-b1c6577ecf2f",
     "showTitle": true,
     "title": "Análisis Spark DataFrame"
    }
   },
   "source": [
    "**Partiendo de los resultados obtenidos para las métricas del archivo \"Encuesta_Aerolinea_RDD\", en este segundo análisis ds hallan los resultados de las mismas métricas pero ahora utilizando Spark DataFrame**\n",
    "\n",
    "* ¿Cuántas personas consideran que el sistema de reservas online (Ease of Online booking) tiene un nivel de satisfacción igual o superior a 3 puntos? Para cada persona, indicad el Género (Gender) y la edad (Age)?\n",
    "* ¿Cuántas observaciones se registran para el vuelo de mayor distancia (Flight Distance)? Para cada observación indicad tipo de cliente (Customer Type) y tipo de viaje (Type of Travel)?\n",
    "* Filtrar las observaciones para el tipo de cliente (Customer Type) “Loyal Customer” y ordenar de manera descendente por la distancia de vuelo (Flight Distance).  Para cada observación, indicad el Género (Gender), el tipo de cliente (Customer Type y la distancia de vuelo (Flight Distance).\n",
    "* Filtrar las observaciones para el nivel de satisfaccion (satisfaction) “neutral or dissatisfied” y sumar para cada observacion el retraso en la partida (Departure Delay in Minutes) más el retraso en la llegada (Arrival  Delay in Minutes). Mostrar la suma de los retrasos mencionados, el nivel de satisfaccion (satisfaction) , el tipo de cliente (Customer Type) y la distancia de vuelo (Flight Distance).\n",
    "* Filtrar las observaciones para el nivel de satisfacción (satisfaction) “satisfied” y sumar para cada observación el retraso en la partida (Departure Delay in Minutes) más el retraso en la llegada (Arrival Delay in Minutes).  Mostrar la suma de los retrasos mencionados, el nivel de satisfacción (satisfacción), el tipo de cliente (Customer Type) y la distancia de vuelo (Flight Distance).  \n",
    "* Indicar para los resultados de las métricas 4 y 5 si observa alguna correlacion entre el nivel de satisfaccion del cliente (satisfaction) y el tipo de cliente (Customer Type) en función de los retrasos experimentados. \n",
    "\n",
    "**Análisis 2**:\n",
    "\n",
    "1. Seleccionar las observaciones para el Género (Gender), la edad (Age) y la clase (Class), ordenando por edad (Age) de manera ascendente. Mostrar las 15 primeras observaciones indicando que no se trunque el resultado.\n",
    "2. Seleccionar las observaciones para el tipo de viaje (Type of Travel), la clase (Class) y la distancia del vuelo (Flight Distance). Filtrar la selección para distancias de vuelo (Flight Distance) mayores a 1.000 kilómetros y para el servicio a bordo (On-board service) con valoraciones superiores a “algo satisfecho”. Ordenar los resultados por distancia de vuelo (Flight Distance) de manera descendente y por servicio a bordo (On-board service) de manera ascendente.\n",
    "3. Crear una nueva columna en el Dataframe llamada “AverageSatisfaction” que contenga el promedio de todas las columnas cuya metrica de satisfaccion se mida entre 0 y 5.  Seleccionar el género (Gender), la edad (Age) y la nueva columna (AverageSatisfaction), ordernar los resultados por AverageSatisfaction de manera descendente.\n",
    "Responder a las preguntas 1 a 3 de esta clase, pero utilizando ahora consultas SQL definidas de la manera spark.sql(“<mi consulta SQL>”). Opcional para aquellos que deseen profundizar en Spark SQL.\n",
    "\n",
    "\n",
    "**Consideraciones generales:**\n",
    "\n",
    "* Cada línea del archivo .csv contiene los resultados para una persona y corresponde a una observación. \n",
    "* El dataset se provee con la cabecera en la primera línea, antes de procesarlo con RDDs removed esta primera línea para hacer el proceso más simple.\n",
    "* Los niveles de satisfacción se indican en una escala del 0 al 5. La escala se indica a continuación: \n",
    "  * Valor “0”: Muy insatisfecho\n",
    "  * Valor “1”: Insatisfecho\n",
    "  * Valor “2”: Algo Insatisfecho\n",
    "  * Valor “3”: Ni satisfecho ni insatisfecho\n",
    "  * Valor “4”: Algo satisfecho\n",
    "  * Valor “5”: Muy Satisfecho\n"
   ]
  },
  {
   "cell_type": "code",
   "execution_count": 0,
   "metadata": {
    "application/vnd.databricks.v1+cell": {
     "cellMetadata": {
      "byteLimit": 2048000,
      "rowLimit": 10000
     },
     "inputWidgets": {},
     "nuid": "8bc93ad4-2b42-4f60-a117-b86220ce8daa",
     "showTitle": true,
     "title": "Listar los archivos en el DBFS"
    }
   },
   "outputs": [
    {
     "output_type": "display_data",
     "data": {
      "text/html": [
       "<style scoped>\n",
       "  .table-result-container {\n",
       "    max-height: 300px;\n",
       "    overflow: auto;\n",
       "  }\n",
       "  table, th, td {\n",
       "    border: 1px solid black;\n",
       "    border-collapse: collapse;\n",
       "  }\n",
       "  th, td {\n",
       "    padding: 5px;\n",
       "  }\n",
       "  th {\n",
       "    text-align: left;\n",
       "  }\n",
       "</style><div class='table-result-container'><table class='table-result'><thead style='background-color: white'><tr><th>path</th><th>name</th><th>size</th><th>modificationTime</th></tr></thead><tbody><tr><td>dbfs:/FileStore/tables/encuesta_aerolinea-1.csv</td><td>encuesta_aerolinea-1.csv</td><td>11986211</td><td>1706643440000</td></tr><tr><td>dbfs:/FileStore/tables/encuesta_aerolinea.csv</td><td>encuesta_aerolinea.csv</td><td>11986211</td><td>1706643304000</td></tr><tr><td>dbfs:/FileStore/tables/encuesta_aerolinea_simplificado-1.csv</td><td>encuesta_aerolinea_simplificado-1.csv</td><td>11986211</td><td>1705509312000</td></tr><tr><td>dbfs:/FileStore/tables/encuesta_aerolinea_simplificado.csv</td><td>encuesta_aerolinea_simplificado.csv</td><td>11986211</td><td>1705509276000</td></tr></tbody></table></div>"
      ]
     },
     "metadata": {
      "application/vnd.databricks.v1+output": {
       "addedWidgets": {},
       "aggData": [],
       "aggError": "",
       "aggOverflow": false,
       "aggSchema": [],
       "aggSeriesLimitReached": false,
       "aggType": "",
       "arguments": {},
       "columnCustomDisplayInfos": {},
       "data": [
        [
         "dbfs:/FileStore/tables/encuesta_aerolinea-1.csv",
         "encuesta_aerolinea-1.csv",
         11986211,
         1706643440000
        ],
        [
         "dbfs:/FileStore/tables/encuesta_aerolinea.csv",
         "encuesta_aerolinea.csv",
         11986211,
         1706643304000
        ],
        [
         "dbfs:/FileStore/tables/encuesta_aerolinea_simplificado-1.csv",
         "encuesta_aerolinea_simplificado-1.csv",
         11986211,
         1705509312000
        ],
        [
         "dbfs:/FileStore/tables/encuesta_aerolinea_simplificado.csv",
         "encuesta_aerolinea_simplificado.csv",
         11986211,
         1705509276000
        ]
       ],
       "datasetInfos": [],
       "dbfsResultPath": null,
       "isJsonSchema": true,
       "metadata": {
        "isDbfsCommandResult": false
       },
       "overflow": false,
       "plotOptions": {
        "customPlotOptions": {},
        "displayType": "table",
        "pivotAggregation": null,
        "pivotColumns": null,
        "xColumns": null,
        "yColumns": null
       },
       "removedWidgets": [],
       "schema": [
        {
         "metadata": "{}",
         "name": "path",
         "type": "\"string\""
        },
        {
         "metadata": "{}",
         "name": "name",
         "type": "\"string\""
        },
        {
         "metadata": "{}",
         "name": "size",
         "type": "\"long\""
        },
        {
         "metadata": "{}",
         "name": "modificationTime",
         "type": "\"long\""
        }
       ],
       "type": "table"
      }
     },
     "output_type": "display_data"
    }
   ],
   "source": [
    "%fs\n",
    "ls dbfs:/FileStore/tables/"
   ]
  },
  {
   "cell_type": "code",
   "execution_count": 0,
   "metadata": {
    "application/vnd.databricks.v1+cell": {
     "cellMetadata": {
      "byteLimit": 2048000,
      "rowLimit": 10000
     },
     "inputWidgets": {},
     "nuid": "50fa870c-1f4c-4972-be12-3089df1f862a",
     "showTitle": true,
     "title": "Mostrar las primeras observaciones"
    }
   },
   "outputs": [
    {
     "output_type": "display_data",
     "data": {
      "text/html": [
       "<style scoped>\n",
       "  .table-result-container {\n",
       "    max-height: 300px;\n",
       "    overflow: auto;\n",
       "  }\n",
       "  table, th, td {\n",
       "    border: 1px solid black;\n",
       "    border-collapse: collapse;\n",
       "  }\n",
       "  th, td {\n",
       "    padding: 5px;\n",
       "  }\n",
       "  th {\n",
       "    text-align: left;\n",
       "  }\n",
       "</style><div class='table-result-container'><table class='table-result'><thead style='background-color: white'><tr><th>_c0</th><th>id</th><th>Gender</th><th>Customer Type</th><th>Age</th><th>Type of Travel</th><th>Class</th><th>Flight Distance</th><th>Inflight wifi service</th><th>Departure/Arrival time convenient</th><th>Ease of Online booking</th><th>Gate location</th><th>Food and drink</th><th>Online boarding</th><th>Seat comfort</th><th>Inflight entertainment</th><th>On-board service</th><th>Leg room service</th><th>Baggage handling</th><th>Checkin service</th><th>Inflight service</th><th>Cleanliness</th><th>Departure Delay in Minutes</th><th>Arrival Delay in Minutes</th><th>satisfaction</th></tr></thead><tbody><tr><td>0</td><td>70172</td><td>Male</td><td>Loyal Customer</td><td>13</td><td>Personal Travel</td><td>Eco Plus</td><td>460</td><td>3</td><td>4</td><td>3</td><td>1</td><td>5</td><td>3</td><td>5</td><td>5</td><td>4</td><td>3</td><td>4</td><td>4</td><td>5</td><td>5</td><td>25</td><td>18</td><td>neutral or dissatisfied</td></tr><tr><td>1</td><td>5047</td><td>Male</td><td>disloyal Customer</td><td>25</td><td>Business travel</td><td>Business</td><td>235</td><td>3</td><td>2</td><td>3</td><td>3</td><td>1</td><td>3</td><td>1</td><td>1</td><td>1</td><td>5</td><td>3</td><td>1</td><td>4</td><td>1</td><td>1</td><td>6</td><td>neutral or dissatisfied</td></tr><tr><td>2</td><td>110028</td><td>Female</td><td>Loyal Customer</td><td>26</td><td>Business travel</td><td>Business</td><td>1142</td><td>2</td><td>2</td><td>2</td><td>2</td><td>5</td><td>5</td><td>5</td><td>5</td><td>4</td><td>3</td><td>4</td><td>4</td><td>4</td><td>5</td><td>0</td><td>0</td><td>satisfied</td></tr><tr><td>3</td><td>24026</td><td>Female</td><td>Loyal Customer</td><td>25</td><td>Business travel</td><td>Business</td><td>562</td><td>2</td><td>5</td><td>5</td><td>5</td><td>2</td><td>2</td><td>2</td><td>2</td><td>2</td><td>5</td><td>3</td><td>1</td><td>4</td><td>2</td><td>11</td><td>9</td><td>neutral or dissatisfied</td></tr><tr><td>4</td><td>119299</td><td>Male</td><td>Loyal Customer</td><td>61</td><td>Business travel</td><td>Business</td><td>214</td><td>3</td><td>3</td><td>3</td><td>3</td><td>4</td><td>5</td><td>5</td><td>3</td><td>3</td><td>4</td><td>4</td><td>3</td><td>3</td><td>3</td><td>0</td><td>0</td><td>satisfied</td></tr></tbody></table></div>"
      ]
     },
     "metadata": {
      "application/vnd.databricks.v1+output": {
       "addedWidgets": {},
       "aggData": [],
       "aggError": "",
       "aggOverflow": false,
       "aggSchema": [],
       "aggSeriesLimitReached": false,
       "aggType": "",
       "arguments": {},
       "columnCustomDisplayInfos": {},
       "data": [
        [
         0,
         70172,
         "Male",
         "Loyal Customer",
         13,
         "Personal Travel",
         "Eco Plus",
         460,
         3,
         4,
         3,
         1,
         5,
         3,
         5,
         5,
         4,
         3,
         4,
         4,
         5,
         5,
         25,
         18,
         "neutral or dissatisfied"
        ],
        [
         1,
         5047,
         "Male",
         "disloyal Customer",
         25,
         "Business travel",
         "Business",
         235,
         3,
         2,
         3,
         3,
         1,
         3,
         1,
         1,
         1,
         5,
         3,
         1,
         4,
         1,
         1,
         6,
         "neutral or dissatisfied"
        ],
        [
         2,
         110028,
         "Female",
         "Loyal Customer",
         26,
         "Business travel",
         "Business",
         1142,
         2,
         2,
         2,
         2,
         5,
         5,
         5,
         5,
         4,
         3,
         4,
         4,
         4,
         5,
         0,
         0,
         "satisfied"
        ],
        [
         3,
         24026,
         "Female",
         "Loyal Customer",
         25,
         "Business travel",
         "Business",
         562,
         2,
         5,
         5,
         5,
         2,
         2,
         2,
         2,
         2,
         5,
         3,
         1,
         4,
         2,
         11,
         9,
         "neutral or dissatisfied"
        ],
        [
         4,
         119299,
         "Male",
         "Loyal Customer",
         61,
         "Business travel",
         "Business",
         214,
         3,
         3,
         3,
         3,
         4,
         5,
         5,
         3,
         3,
         4,
         4,
         3,
         3,
         3,
         0,
         0,
         "satisfied"
        ]
       ],
       "datasetInfos": [],
       "dbfsResultPath": null,
       "isJsonSchema": true,
       "metadata": {},
       "overflow": false,
       "plotOptions": {
        "customPlotOptions": {},
        "displayType": "table",
        "pivotAggregation": null,
        "pivotColumns": null,
        "xColumns": null,
        "yColumns": null
       },
       "removedWidgets": [],
       "schema": [
        {
         "metadata": "{}",
         "name": "_c0",
         "type": "\"integer\""
        },
        {
         "metadata": "{}",
         "name": "id",
         "type": "\"integer\""
        },
        {
         "metadata": "{}",
         "name": "Gender",
         "type": "\"string\""
        },
        {
         "metadata": "{}",
         "name": "Customer Type",
         "type": "\"string\""
        },
        {
         "metadata": "{}",
         "name": "Age",
         "type": "\"integer\""
        },
        {
         "metadata": "{}",
         "name": "Type of Travel",
         "type": "\"string\""
        },
        {
         "metadata": "{}",
         "name": "Class",
         "type": "\"string\""
        },
        {
         "metadata": "{}",
         "name": "Flight Distance",
         "type": "\"integer\""
        },
        {
         "metadata": "{}",
         "name": "Inflight wifi service",
         "type": "\"integer\""
        },
        {
         "metadata": "{}",
         "name": "Departure/Arrival time convenient",
         "type": "\"integer\""
        },
        {
         "metadata": "{}",
         "name": "Ease of Online booking",
         "type": "\"integer\""
        },
        {
         "metadata": "{}",
         "name": "Gate location",
         "type": "\"integer\""
        },
        {
         "metadata": "{}",
         "name": "Food and drink",
         "type": "\"integer\""
        },
        {
         "metadata": "{}",
         "name": "Online boarding",
         "type": "\"integer\""
        },
        {
         "metadata": "{}",
         "name": "Seat comfort",
         "type": "\"integer\""
        },
        {
         "metadata": "{}",
         "name": "Inflight entertainment",
         "type": "\"integer\""
        },
        {
         "metadata": "{}",
         "name": "On-board service",
         "type": "\"integer\""
        },
        {
         "metadata": "{}",
         "name": "Leg room service",
         "type": "\"integer\""
        },
        {
         "metadata": "{}",
         "name": "Baggage handling",
         "type": "\"integer\""
        },
        {
         "metadata": "{}",
         "name": "Checkin service",
         "type": "\"integer\""
        },
        {
         "metadata": "{}",
         "name": "Inflight service",
         "type": "\"integer\""
        },
        {
         "metadata": "{}",
         "name": "Cleanliness",
         "type": "\"integer\""
        },
        {
         "metadata": "{}",
         "name": "Departure Delay in Minutes",
         "type": "\"integer\""
        },
        {
         "metadata": "{}",
         "name": "Arrival Delay in Minutes",
         "type": "\"integer\""
        },
        {
         "metadata": "{}",
         "name": "satisfaction",
         "type": "\"string\""
        }
       ],
       "type": "table"
      }
     },
     "output_type": "display_data"
    }
   ],
   "source": [
    "lines = sc.textFile('dbfs:/FileStore/tables/encuesta_aerolinea.csv')\n",
    "df_preview = spark.read.format(\"csv\").option(\"inferSchema\",\"true\").option(\"header\",\"true\").load(\"dbfs:/FileStore/tables/encuesta_aerolinea.csv\")\n",
    "df_limited = df_preview.limit(5)  # Limita a 5 registros\n",
    "df_limited.display()\n"
   ]
  },
  {
   "cell_type": "markdown",
   "metadata": {
    "application/vnd.databricks.v1+cell": {
     "cellMetadata": {},
     "inputWidgets": {},
     "nuid": "308e49f0-8f5b-4620-8671-8dcd2252a56d",
     "showTitle": true,
     "title": "PySpark"
    }
   },
   "source": [
    "\n",
    "PySpark es descrito como una biblioteca en el contexto de Python. Sin embargo, también se puede considerar como una API en el sentido más amplio. Veamos por qué:\n",
    "\n",
    "1. **Como Biblioteca:** PySpark es una biblioteca de Python que proporciona herramientas y funciones para interactuar con Apache Spark. En el desarrollo de software, una biblioteca es un conjunto de funciones y procedimientos que se pueden usar para realizar tareas específicas. PySpark cumple con esta definición, ya que ofrece una colección de módulos y clases para procesamiento de datos distribuidos, análisis y aprendizaje automático. En el ecosistema de Python, PySpark es una biblioteca que se importa y se utiliza en programas Python para trabajar con Spark.\n",
    "\n",
    "PySpark expone casi todas las funcionalidades de Apache Spark, como RDDs, DataFrames, Spark SQL, MLlib (para aprendizaje automático) y Spark Streaming. Esto hace que PySpark sea una herramienta poderosa para procesamiento de datos en gran escala y ciencia de datos.\n",
    "\n",
    "2. **Como API:** PySpark también se puede ver como una API en el sentido de que proporciona una \"Interfaz de Programación de Aplicaciones\". Una API, en general, es un conjunto de reglas y definiciones para acceder a las funcionalidades de un software o plataforma. En el caso de PySpark, esta API permite a los programadores de Python acceder a las funcionalidades de Apache Spark, que está escrito en Scala y ejecutado en la JVM (Máquina Virtual de Java). En un sentido más amplio, PySpark sirve como una API para interactuar con Apache Spark desde Python.\n",
    "\n",
    "#### ¿Por qué preferir usar un Data Frame en vez de un RDD?\n",
    "\n",
    "Aunque los RDDs proporcionan un control más granular sobre las operaciones de bajo nivel, los DataFrames en Spark ofrecen una forma más eficiente, optimizada y fácil de usar para el procesamiento de datos estructurados y semi-estructurados, especialmente en términos de optimización de consultas y facilidad de uso.\n",
    "\n",
    "\n"
   ]
  },
  {
   "cell_type": "code",
   "execution_count": 0,
   "metadata": {
    "application/vnd.databricks.v1+cell": {
     "cellMetadata": {
      "byteLimit": 2048000,
      "rowLimit": 10000
     },
     "inputWidgets": {},
     "nuid": "cd9919d3-2af4-46be-ad02-df33420d9ee2",
     "showTitle": false,
     "title": ""
    }
   },
   "outputs": [],
   "source": [
    "from pyspark.sql.types import StructType, StructField, StringType, FloatType, TimestampType, IntegerType\n",
    "from pyspark.sql.functions import col, expr, year, concat_ws, to_timestamp, round, array_contains, substring, to_date, max, avg"
   ]
  },
  {
   "cell_type": "code",
   "execution_count": 0,
   "metadata": {
    "application/vnd.databricks.v1+cell": {
     "cellMetadata": {
      "byteLimit": 2048000,
      "rowLimit": 10000
     },
     "inputWidgets": {},
     "nuid": "d9aa519f-c41e-42a6-b945-588a9d52bf07",
     "showTitle": true,
     "title": "Crear el schema para el DataFrame"
    }
   },
   "outputs": [],
   "source": [
    "schema = StructType([\n",
    "    StructField(\"C0\", IntegerType(), True),\n",
    "    StructField(\"ID\", IntegerType(), True),\n",
    "    StructField(\"gender\", StringType(), True),\n",
    "    StructField(\"customer_type\", StringType(), True),\n",
    "    StructField(\"age\", FloatType(), True),\n",
    "    StructField(\"type_of_travel\", StringType(), True),\n",
    "    StructField(\"class\", StringType(), True),\n",
    "    StructField(\"flight_distance\", FloatType(), True),\n",
    "    StructField(\"wifi\", FloatType(), True),\n",
    "    StructField(\"time_convenient\", FloatType(), True),\n",
    "    StructField(\"booking\", FloatType(), True),\n",
    "    StructField(\"gate\", FloatType(), True),\n",
    "    StructField(\"food\", FloatType(), True),\n",
    "    StructField(\"boarding\", FloatType(), True),\n",
    "    StructField(\"comfort\", FloatType(), True),\n",
    "    StructField(\"entertainment\", FloatType(), True),\n",
    "    StructField(\"on_board_service\", FloatType(), True),\n",
    "    StructField(\"room_service\", FloatType(), True),\n",
    "    StructField(\"handling\", FloatType(), True),\n",
    "    StructField(\"checking\", FloatType(), True),\n",
    "    StructField(\"inflight\", FloatType(), True),\n",
    "    StructField(\"cleanliness\", FloatType(), True),\n",
    "    StructField(\"departures_delay\", FloatType(), True),\n",
    "    StructField(\"arrivals_delay\", FloatType(), True),\n",
    "    StructField(\"satisfaction\", StringType(), True), \n",
    "])"
   ]
  },
  {
   "cell_type": "code",
   "execution_count": 0,
   "metadata": {
    "application/vnd.databricks.v1+cell": {
     "cellMetadata": {
      "byteLimit": 2048000,
      "rowLimit": 10000
     },
     "inputWidgets": {},
     "nuid": "5c0c5d1a-9e1d-4e57-b4d5-79213ff0556b",
     "showTitle": true,
     "title": "Crear el DataFrame e imprimir el esquema"
    }
   },
   "outputs": [
    {
     "output_type": "stream",
     "name": "stdout",
     "output_type": "stream",
     "text": [
      "root\n |-- C0: integer (nullable = true)\n |-- ID: integer (nullable = true)\n |-- gender: string (nullable = true)\n |-- customer_type: string (nullable = true)\n |-- age: float (nullable = true)\n |-- type_of_travel: string (nullable = true)\n |-- class: string (nullable = true)\n |-- flight_distance: float (nullable = true)\n |-- wifi: float (nullable = true)\n |-- time_convenient: float (nullable = true)\n |-- booking: float (nullable = true)\n |-- gate: float (nullable = true)\n |-- food: float (nullable = true)\n |-- boarding: float (nullable = true)\n |-- comfort: float (nullable = true)\n |-- entertainment: float (nullable = true)\n |-- on_board_service: float (nullable = true)\n |-- room_service: float (nullable = true)\n |-- handling: float (nullable = true)\n |-- checking: float (nullable = true)\n |-- inflight: float (nullable = true)\n |-- cleanliness: float (nullable = true)\n |-- departures_delay: float (nullable = true)\n |-- arrivals_delay: float (nullable = true)\n |-- satisfaction: string (nullable = true)\n\n"
     ]
    }
   ],
   "source": [
    "df_raw = spark.read.format(\"csv\").option(\"header\", True).schema(schema).load('dbfs:/FileStore/tables/encuesta_aerolinea.csv')\n",
    "df = df_raw.na.drop()\n",
    "df.printSchema()"
   ]
  },
  {
   "cell_type": "code",
   "execution_count": 0,
   "metadata": {
    "application/vnd.databricks.v1+cell": {
     "cellMetadata": {
      "byteLimit": 2048000,
      "rowLimit": 10000
     },
     "inputWidgets": {},
     "nuid": "8ebf6269-79b3-47c2-b465-682a5dab6d4d",
     "showTitle": true,
     "title": "Listar las columnas del DF"
    }
   },
   "outputs": [
    {
     "output_type": "stream",
     "name": "stdout",
     "output_type": "stream",
     "text": [
      "Out[49]: ['C0',\n 'ID',\n 'gender',\n 'customer_type',\n 'age',\n 'type_of_travel',\n 'class',\n 'flight_distance',\n 'wifi',\n 'time_convenient',\n 'booking',\n 'gate',\n 'food',\n 'boarding',\n 'comfort',\n 'entertainment',\n 'on_board_service',\n 'room_service',\n 'handling',\n 'checking',\n 'inflight',\n 'cleanliness',\n 'departures_delay',\n 'arrivals_delay',\n 'satisfaction']"
     ]
    }
   ],
   "source": [
    "df.columns"
   ]
  },
  {
   "cell_type": "code",
   "execution_count": 0,
   "metadata": {
    "application/vnd.databricks.v1+cell": {
     "cellMetadata": {
      "byteLimit": 2048000,
      "rowLimit": 10000
     },
     "inputWidgets": {},
     "nuid": "78e9427b-1051-4355-9ecd-4e01cd0897ce",
     "showTitle": true,
     "title": "Listar las primeras 10 filas"
    }
   },
   "outputs": [
    {
     "output_type": "stream",
     "name": "stdout",
     "output_type": "stream",
     "text": [
      "+---+------+------+-----------------+----+---------------+--------+---------------+----+---------------+-------+----+----+--------+-------+-------------+----------------+------------+--------+--------+--------+-----------+----------------+--------------+-----------------------+\n|C0 |ID    |gender|customer_type    |age |type_of_travel |class   |flight_distance|wifi|time_convenient|booking|gate|food|boarding|comfort|entertainment|on_board_service|room_service|handling|checking|inflight|cleanliness|departures_delay|arrivals_delay|satisfaction           |\n+---+------+------+-----------------+----+---------------+--------+---------------+----+---------------+-------+----+----+--------+-------+-------------+----------------+------------+--------+--------+--------+-----------+----------------+--------------+-----------------------+\n|0  |70172 |Male  |Loyal Customer   |13.0|Personal Travel|Eco Plus|460.0          |3.0 |4.0            |3.0    |1.0 |5.0 |3.0     |5.0    |5.0          |4.0             |3.0         |4.0     |4.0     |5.0     |5.0        |25.0            |18.0          |neutral or dissatisfied|\n|1  |5047  |Male  |disloyal Customer|25.0|Business travel|Business|235.0          |3.0 |2.0            |3.0    |3.0 |1.0 |3.0     |1.0    |1.0          |1.0             |5.0         |3.0     |1.0     |4.0     |1.0        |1.0             |6.0           |neutral or dissatisfied|\n|2  |110028|Female|Loyal Customer   |26.0|Business travel|Business|1142.0         |2.0 |2.0            |2.0    |2.0 |5.0 |5.0     |5.0    |5.0          |4.0             |3.0         |4.0     |4.0     |4.0     |5.0        |0.0             |0.0           |satisfied              |\n|3  |24026 |Female|Loyal Customer   |25.0|Business travel|Business|562.0          |2.0 |5.0            |5.0    |5.0 |2.0 |2.0     |2.0    |2.0          |2.0             |5.0         |3.0     |1.0     |4.0     |2.0        |11.0            |9.0           |neutral or dissatisfied|\n|4  |119299|Male  |Loyal Customer   |61.0|Business travel|Business|214.0          |3.0 |3.0            |3.0    |3.0 |4.0 |5.0     |5.0    |3.0          |3.0             |4.0         |4.0     |3.0     |3.0     |3.0        |0.0             |0.0           |satisfied              |\n|5  |111157|Female|Loyal Customer   |26.0|Personal Travel|Eco     |1180.0         |3.0 |4.0            |2.0    |1.0 |1.0 |2.0     |1.0    |1.0          |3.0             |4.0         |4.0     |4.0     |4.0     |1.0        |0.0             |0.0           |neutral or dissatisfied|\n|6  |82113 |Male  |Loyal Customer   |47.0|Personal Travel|Eco     |1276.0         |2.0 |4.0            |2.0    |3.0 |2.0 |2.0     |2.0    |2.0          |3.0             |3.0         |4.0     |3.0     |5.0     |2.0        |9.0             |23.0          |neutral or dissatisfied|\n|7  |96462 |Female|Loyal Customer   |52.0|Business travel|Business|2035.0         |4.0 |3.0            |4.0    |4.0 |5.0 |5.0     |5.0    |5.0          |5.0             |5.0         |5.0     |4.0     |5.0     |4.0        |4.0             |0.0           |satisfied              |\n|8  |79485 |Female|Loyal Customer   |41.0|Business travel|Business|853.0          |1.0 |2.0            |2.0    |2.0 |4.0 |3.0     |3.0    |1.0          |1.0             |2.0         |1.0     |4.0     |1.0     |2.0        |0.0             |0.0           |neutral or dissatisfied|\n|9  |65725 |Male  |disloyal Customer|20.0|Business travel|Eco     |1061.0         |3.0 |3.0            |3.0    |4.0 |2.0 |3.0     |3.0    |2.0          |2.0             |3.0         |4.0     |4.0     |3.0     |2.0        |0.0             |0.0           |neutral or dissatisfied|\n+---+------+------+-----------------+----+---------------+--------+---------------+----+---------------+-------+----+----+--------+-------+-------------+----------------+------------+--------+--------+--------+-----------+----------------+--------------+-----------------------+\nonly showing top 10 rows\n\n"
     ]
    }
   ],
   "source": [
    "df.show(10, truncate=False)"
   ]
  },
  {
   "cell_type": "markdown",
   "metadata": {
    "application/vnd.databricks.v1+cell": {
     "cellMetadata": {},
     "inputWidgets": {},
     "nuid": "cc1a0e47-ecad-4337-8960-a15868d90466",
     "showTitle": false,
     "title": ""
    }
   },
   "source": [
    "**1. ¿Cuántas personas consideran que el sistema de reservas online (Ease of Online booking) tiene un nivel de satisfacción igual o superior a 3 puntos? Para cada persona, indicad el Género (Gender) y la edad (Age)?**"
   ]
  },
  {
   "cell_type": "code",
   "execution_count": 0,
   "metadata": {
    "application/vnd.databricks.v1+cell": {
     "cellMetadata": {
      "byteLimit": 2048000,
      "rowLimit": 10000
     },
     "inputWidgets": {},
     "nuid": "c26d1419-4cb3-42b4-99ab-3a3726d10485",
     "showTitle": false,
     "title": ""
    }
   },
   "outputs": [
    {
     "output_type": "stream",
     "name": "stdout",
     "output_type": "stream",
     "text": [
      "Total de personas satisfechas: 57871\n+------+----+-------+\n|gender| age|booking|\n+------+----+-------+\n|  Male|13.0|    3.0|\n|  Male|25.0|    3.0|\n|Female|25.0|    5.0|\n|  Male|61.0|    3.0|\n|Female|52.0|    4.0|\n|  Male|20.0|    3.0|\n|Female|24.0|    5.0|\n|  Male|53.0|    4.0|\n|  Male|33.0|    4.0|\n|Female|26.0|    3.0|\n|Female|26.0|    3.0|\n|Female|45.0|    4.0|\n|  Male|38.0|    3.0|\n|Female|17.0|    3.0|\n|Female|43.0|    3.0|\n|Female|58.0|    4.0|\n|Female|23.0|    5.0|\n|  Male|57.0|    4.0|\n|Female|49.0|    4.0|\n|  Male|22.0|    3.0|\n+------+----+-------+\nonly showing top 20 rows\n\n"
     ]
    }
   ],
   "source": [
    "# Filtrando a través de la columna booking\n",
    "satisfied_customers_df = df.filter(col(\"booking\") >= 3).select(\"gender\", \"age\",\"booking\")\n",
    "\n",
    "total_satisfied_customers = satisfied_customers_df.count()\n",
    "print(f\"Total de personas satisfechas: {total_satisfied_customers}\")\n",
    "\n",
    "# Mostrar el resultado\n",
    "satisfied_customers_df.show()\n"
   ]
  },
  {
   "cell_type": "markdown",
   "metadata": {
    "application/vnd.databricks.v1+cell": {
     "cellMetadata": {},
     "inputWidgets": {},
     "nuid": "27aa73ff-387c-485f-bb3d-543dd338beff",
     "showTitle": false,
     "title": ""
    }
   },
   "source": [
    "**2. ¿Cuántas observaciones se registran para el vuelo de mayor distancia (Flight Distance)? Para cada observación indicad tipo de cliente (Customer Type) y tipo de viaje (Type of Travel)?**"
   ]
  },
  {
   "cell_type": "code",
   "execution_count": 0,
   "metadata": {
    "application/vnd.databricks.v1+cell": {
     "cellMetadata": {
      "byteLimit": 2048000,
      "rowLimit": 10000
     },
     "inputWidgets": {},
     "nuid": "75758d70-b72c-4578-8733-6e755fa52bc5",
     "showTitle": false,
     "title": ""
    }
   },
   "outputs": [
    {
     "output_type": "stream",
     "name": "stdout",
     "output_type": "stream",
     "text": [
      "La distancia de vuelo maxima es: 4983.0 Kilometros\n+--------------+---------------+\n| customer_type| type_of_travel|\n+--------------+---------------+\n|Loyal Customer|Personal Travel|\n|Loyal Customer|Business travel|\n|Loyal Customer|Business travel|\n|Loyal Customer|Personal Travel|\n|Loyal Customer|Business travel|\n|Loyal Customer|Business travel|\n|Loyal Customer|Business travel|\n|Loyal Customer|Personal Travel|\n|Loyal Customer|Business travel|\n|Loyal Customer|Business travel|\n|Loyal Customer|Personal Travel|\n|Loyal Customer|Personal Travel|\n+--------------+---------------+\n\nLa cantidad de observaciones a la distancia maxima de 4983.0 Kilometros corresponde a 12 viajes\n"
     ]
    }
   ],
   "source": [
    "# Encontrar el valor máximo de la distancia de vuelo\n",
    "max_flight_distance = df.agg(max(\"flight_distance\")).collect()[0][0]\n",
    "\n",
    "print(f\"La distancia de vuelo maxima es: {max_flight_distance} Kilometros\")\n",
    "\n",
    "# Filtrar el DataFrame para obtener observaciones con la máxima distancia de vuelo\n",
    "longest_flight_df = df.filter(col(\"flight_distance\") == max_flight_distance).select(\"customer_type\", \"type_of_travel\")\n",
    "\n",
    "# Mostrar el resultado\n",
    "longest_flight_df.show()\n",
    "\n",
    "# Si también necesitas el número de observaciones\n",
    "total_observations = longest_flight_df.count()\n",
    "print(f\"La cantidad de observaciones a la distancia maxima de {max_flight_distance} Kilometros corresponde a {total_observations} viajes\")\n"
   ]
  },
  {
   "cell_type": "markdown",
   "metadata": {
    "application/vnd.databricks.v1+cell": {
     "cellMetadata": {},
     "inputWidgets": {},
     "nuid": "bc6c6754-f2da-496d-9225-69ee87f5e3fd",
     "showTitle": false,
     "title": ""
    }
   },
   "source": [
    "**3. Filtrar las observaciones para el tipo de cliente (Customer Type) “Loyal Customer” y ordenar de manera descendente por la distancia de vuelo (Flight Distance).  Para cada observación, indicad el Género (Gender), el tipo de cliente (Customer Type y la distancia de vuelo (Flight Distance).**"
   ]
  },
  {
   "cell_type": "code",
   "execution_count": 0,
   "metadata": {
    "application/vnd.databricks.v1+cell": {
     "cellMetadata": {
      "byteLimit": 2048000,
      "rowLimit": 10000
     },
     "inputWidgets": {},
     "nuid": "50d07405-d4a9-4257-a8ee-8a82fff13ea6",
     "showTitle": false,
     "title": ""
    }
   },
   "outputs": [
    {
     "output_type": "stream",
     "name": "stdout",
     "output_type": "stream",
     "text": [
      "+------+--------------+---------------+\n|gender| customer_type|flight_distance|\n+------+--------------+---------------+\n|Female|Loyal Customer|         4983.0|\n|  Male|Loyal Customer|         4983.0|\n|Female|Loyal Customer|         4983.0|\n|Female|Loyal Customer|         4983.0|\n|  Male|Loyal Customer|         4983.0|\n|Female|Loyal Customer|         4983.0|\n|Female|Loyal Customer|         4983.0|\n|  Male|Loyal Customer|         4983.0|\n|Female|Loyal Customer|         4983.0|\n|Female|Loyal Customer|         4983.0|\n|Female|Loyal Customer|         4983.0|\n|Female|Loyal Customer|         4983.0|\n|Female|Loyal Customer|         4963.0|\n|  Male|Loyal Customer|         4963.0|\n|Female|Loyal Customer|         4963.0|\n|Female|Loyal Customer|         4963.0|\n|  Male|Loyal Customer|         4963.0|\n|  Male|Loyal Customer|         4963.0|\n|Female|Loyal Customer|         4963.0|\n|Female|Loyal Customer|         4963.0|\n+------+--------------+---------------+\nonly showing top 20 rows\n\n"
     ]
    }
   ],
   "source": [
    "# Filtrar por tipo de cliente 'Loyal Customer'\n",
    "loyal_customers_df = df.filter(col(\"customer_type\") == \"Loyal Customer\")\n",
    "\n",
    "# Ordenar de manera descendente por la distancia de vuelo\n",
    "ordered_loyal_customers_df = loyal_customers_df.orderBy(col(\"flight_distance\").desc())\n",
    "\n",
    "# Seleccionar las columnas requeridas\n",
    "selected_columns_df = ordered_loyal_customers_df.select(\"gender\", \"customer_type\", \"flight_distance\")\n",
    "\n",
    "# Mostrar el resultado\n",
    "selected_columns_df.show()\n"
   ]
  },
  {
   "cell_type": "markdown",
   "metadata": {
    "application/vnd.databricks.v1+cell": {
     "cellMetadata": {},
     "inputWidgets": {},
     "nuid": "0c2e6502-02bd-43a6-993d-dd867c6f2f49",
     "showTitle": false,
     "title": ""
    }
   },
   "source": [
    "\n",
    "**4.Filtrar las observaciones para el nivel de satisfaccion (satisfaction) “neutral or dissatisfied” y sumar para cada observacion el retraso en la partida (Departure Delay in Minutes) más el retraso en la llegada (Arrival  Delay in Minutes). Mostrar la suma de los retrasos mencionados, el nivel de satisfaccion (satisfaction) , el tipo de cliente (Customer Type) y la distancia de vuelo (Flight Distance).**"
   ]
  },
  {
   "cell_type": "code",
   "execution_count": 0,
   "metadata": {
    "application/vnd.databricks.v1+cell": {
     "cellMetadata": {
      "byteLimit": 2048000,
      "rowLimit": 10000
     },
     "inputWidgets": {},
     "nuid": "0bfb9edb-42d9-4d4c-8859-4a64e96830d9",
     "showTitle": false,
     "title": ""
    }
   },
   "outputs": [
    {
     "output_type": "stream",
     "name": "stdout",
     "output_type": "stream",
     "text": [
      "+-----------------+--------------------+---------------+-----------+\n|    customer_type|        satisfaction|flight_distance|total_delay|\n+-----------------+--------------------+---------------+-----------+\n|   Loyal Customer|neutral or dissat...|          460.0|       43.0|\n|disloyal Customer|neutral or dissat...|          235.0|        7.0|\n|   Loyal Customer|neutral or dissat...|          562.0|       20.0|\n|   Loyal Customer|neutral or dissat...|         1180.0|        0.0|\n|   Loyal Customer|neutral or dissat...|         1276.0|       32.0|\n|   Loyal Customer|neutral or dissat...|          853.0|        0.0|\n|disloyal Customer|neutral or dissat...|         1061.0|        0.0|\n|disloyal Customer|neutral or dissat...|         1182.0|        0.0|\n|   Loyal Customer|neutral or dissat...|          308.0|        0.0|\n|   Loyal Customer|neutral or dissat...|          834.0|       36.0|\n|   Loyal Customer|neutral or dissat...|          453.0|       78.0|\n|disloyal Customer|neutral or dissat...|          486.0|        1.0|\n|   Loyal Customer|neutral or dissat...|          460.0|       35.0|\n|   Loyal Customer|neutral or dissat...|         1174.0|        4.0|\n|   Loyal Customer|neutral or dissat...|          208.0|        0.0|\n|   Loyal Customer|neutral or dissat...|          752.0|       81.0|\n|   Loyal Customer|neutral or dissat...|         2139.0|        0.0|\n|   Loyal Customer|neutral or dissat...|          719.0|       55.0|\n|   Loyal Customer|neutral or dissat...|         3347.0|       30.0|\n|   Loyal Customer|neutral or dissat...|         2342.0|       19.0|\n+-----------------+--------------------+---------------+-----------+\nonly showing top 20 rows\n\n"
     ]
    }
   ],
   "source": [
    "# Filtrar por nivel de satisfacción 'neutral or dissatisfied'\n",
    "neutral_or_dissatisfied_df = df.filter(col(\"satisfaction\") == \"neutral or dissatisfied\")\n",
    "\n",
    "# Calcular la suma de los retrasos en la partida y llegada\n",
    "total_delay_df = neutral_or_dissatisfied_df.withColumn(\"total_delay\", col(\"departures_delay\") + col(\"arrivals_delay\"))\n",
    "\n",
    "# Seleccionar las columnas requeridas\n",
    "selected_columns_df = total_delay_df.select(\"customer_type\", \"satisfaction\", \"flight_distance\", \"total_delay\")\n",
    "\n",
    "# Mostrar el resultado\n",
    "selected_columns_df.show()\n"
   ]
  },
  {
   "cell_type": "markdown",
   "metadata": {
    "application/vnd.databricks.v1+cell": {
     "cellMetadata": {},
     "inputWidgets": {},
     "nuid": "fda6a5ea-7000-435d-b3aa-7acb89822bd5",
     "showTitle": false,
     "title": ""
    }
   },
   "source": [
    "\n",
    "**5.Filtrar las observaciones para el nivel de satisfacción (satisfaction) “satisfied” y sumar para cada observación el retraso en la partida (Departure Delay in Minutes) más el retraso en la llegada (Arrival Delay in Minutes).  Mostrar la suma de los retrasos mencionados, el nivel de satisfacción (satisfacción), el tipo de cliente (Customer Type) y la distancia de vuelo (Flight Distance).**"
   ]
  },
  {
   "cell_type": "code",
   "execution_count": 0,
   "metadata": {
    "application/vnd.databricks.v1+cell": {
     "cellMetadata": {
      "byteLimit": 2048000,
      "rowLimit": 10000
     },
     "inputWidgets": {},
     "nuid": "f30135db-4073-4cab-9e12-5c5b1340d0e8",
     "showTitle": false,
     "title": ""
    }
   },
   "outputs": [
    {
     "output_type": "stream",
     "name": "stdout",
     "output_type": "stream",
     "text": [
      "+-----------------+------------+---------------+-----------+\n|    customer_type|satisfaction|flight_distance|total_delay|\n+-----------------+------------+---------------+-----------+\n|   Loyal Customer|   satisfied|         1142.0|        0.0|\n|   Loyal Customer|   satisfied|          214.0|        0.0|\n|   Loyal Customer|   satisfied|         2035.0|        4.0|\n|   Loyal Customer|   satisfied|          946.0|        0.0|\n|   Loyal Customer|   satisfied|         2123.0|      100.0|\n|   Loyal Customer|   satisfied|         2075.0|       10.0|\n|   Loyal Customer|   satisfied|         2486.0|       12.0|\n|disloyal Customer|   satisfied|          452.0|       98.0|\n|   Loyal Customer|   satisfied|         1561.0|        0.0|\n|   Loyal Customer|   satisfied|          315.0|        8.0|\n|   Loyal Customer|   satisfied|          819.0|        0.0|\n|   Loyal Customer|   satisfied|         2611.0|      229.0|\n|   Loyal Customer|   satisfied|          302.0|       54.0|\n|   Loyal Customer|   satisfied|         1734.0|        0.0|\n|   Loyal Customer|   satisfied|          296.0|        0.0|\n|   Loyal Customer|   satisfied|         2882.0|        0.0|\n|   Loyal Customer|   satisfied|          460.0|       16.0|\n|   Loyal Customer|   satisfied|          529.0|        4.0|\n|   Loyal Customer|   satisfied|          612.0|        8.0|\n|   Loyal Customer|   satisfied|         2076.0|        1.0|\n+-----------------+------------+---------------+-----------+\nonly showing top 20 rows\n\n"
     ]
    }
   ],
   "source": [
    "# Filtrar por nivel de satisfacción 'satisfied'\n",
    "satisfied_df = df.filter(col(\"satisfaction\") == \"satisfied\")\n",
    "\n",
    "# Calcular la suma de los retrasos en la partida y llegada\n",
    "total_delay_df = satisfied_df.withColumn(\"total_delay\", col(\"departures_delay\") + col(\"arrivals_delay\"))\n",
    "\n",
    "# Seleccionar las columnas requeridas\n",
    "selected_columns_df = total_delay_df.select(\"customer_type\", \"satisfaction\", \"flight_distance\", \"total_delay\")\n",
    "\n",
    "# Mostrar el resultado\n",
    "selected_columns_df.show()\n"
   ]
  },
  {
   "cell_type": "markdown",
   "metadata": {
    "application/vnd.databricks.v1+cell": {
     "cellMetadata": {},
     "inputWidgets": {},
     "nuid": "9e5456ca-f60f-4451-a256-c300c40ede23",
     "showTitle": false,
     "title": ""
    }
   },
   "source": [
    "\n",
    "**6. Indicar para los resultados de las métricas 4 y 5 si observa alguna correlacion entre el nivel de satisfaccion del cliente (satisfaction) y el tipo de cliente (Customer Type) en función de los retrasos experimentados.**"
   ]
  },
  {
   "cell_type": "code",
   "execution_count": 0,
   "metadata": {
    "application/vnd.databricks.v1+cell": {
     "cellMetadata": {
      "byteLimit": 2048000,
      "rowLimit": 10000
     },
     "inputWidgets": {},
     "nuid": "97b2f6fb-c625-40df-be2a-2547c5074d75",
     "showTitle": false,
     "title": "Los mismos cálculos anteriores hechos desde un DF y usando pyspark"
    }
   },
   "outputs": [
    {
     "output_type": "stream",
     "name": "stdout",
     "output_type": "stream",
     "text": [
      "+-----------------+--------------------+------------------+\n|    customer_type|        satisfaction|  avg(total_delay)|\n+-----------------+--------------------+------------------+\n|   Loyal Customer|neutral or dissat...| 33.99747690921379|\n|   Loyal Customer|           satisfied|25.178151136111317|\n|disloyal Customer|neutral or dissat...|32.294154185934154|\n|disloyal Customer|           satisfied|25.426981300089047|\n+-----------------+--------------------+------------------+\n\n"
     ]
    }
   ],
   "source": [
    "# Calcular el retraso total\n",
    "df = df.withColumn(\"total_delay\", col(\"departures_delay\") + col(\"arrivals_delay\"))\n",
    "\n",
    "# Calcular las métricas promedio de retraso por tipo de cliente y nivel de satisfacción\n",
    "avg_delay_by_customer_type_and_satisfaction = df.groupBy(\"customer_type\", \"satisfaction\").avg(\"total_delay\").sort(\"customer_type\", \"satisfaction\")\n",
    "\n",
    "# Mostrar los resultados\n",
    "avg_delay_by_customer_type_and_satisfaction.show()\n",
    "\n"
   ]
  },
  {
   "cell_type": "markdown",
   "metadata": {
    "application/vnd.databricks.v1+cell": {
     "cellMetadata": {},
     "inputWidgets": {},
     "nuid": "17053b27-ad7f-4d5d-9031-15a3d5ec33ed",
     "showTitle": false,
     "title": ""
    }
   },
   "source": [
    "**Conclusión:**\n",
    "\n",
    "Los clientes que tuvieron un nivel de satisfacción como \"neutral or dissatisfied\" son los que tuvieron un promedio en el tiempo de retraso mayor a los 32 min, sin importar el Customer Type: Loyal or Disloyal\n",
    "\n",
    "Por otra parte, los clientes que puntuaron con un nivel de satisfacción como \"satisfied\" son los que tuvieron un promedio en el tiempo de retraso alrededor a los 25 min, de igual manera, sin importar el Customer Type: Loyal or Disloyal.\n",
    "\n",
    "Más allá del Customer Type: Loyal or Disloyal. Lo que hace que un cliente tenga un nivel de satisfacción como \"satisfecho o insatisfecho\" es el tiempo de retraso. A mayor tiempo de retraso es más probable que puntúe como insatisfecho."
   ]
  },
  {
   "cell_type": "markdown",
   "metadata": {
    "application/vnd.databricks.v1+cell": {
     "cellMetadata": {},
     "inputWidgets": {},
     "nuid": "60c74459-55b2-4f3f-9914-24950c93083c",
     "showTitle": true,
     "title": "Análisis 2"
    }
   },
   "source": [
    "\n",
    "1. Seleccionar las observaciones para el Género (Gender), la edad (Age) y la clase (Class), ordenando por edad (Age) de manera ascendente. Mostrar las 15 primeras observaciones indicando que no se trunque el resultado.\n",
    "2. Seleccionar las observaciones para el tipo de viaje (Type of Travel), la clase (Class) y la distancia del vuelo (Flight Distance). Filtrar la selección para distancias de vuelo (Flight Distance) mayores a 1.000 kilómetros y para el servicio a bordo (On-board service) con valoraciones superiores a “algo satisfecho”. Ordenar los resultados por distancia de vuelo (Flight Distance) de manera descendente y por servicio a bordo (On-board service) de manera ascendente.\n",
    "3. Crear una nueva columna en el Dataframe llamada “AverageSatisfaction” que contenga el promedio de todas las columnas cuya metrica de satisfaccion se mida entre 0 y 5.  Seleccionar el género (Gender), la edad (Age) y la nueva columna (AverageSatisfaction), ordernar los resultados por AverageSatisfaction de manera descendente.\n",
    "Responder a las preguntas 1 a 3 de esta clase, pero utilizando ahora consultas SQL definidas de la manera spark.sql(“<mi consulta SQL>”). \n",
    "\n",
    "#### ¿Qué es Spark SQL?\n",
    "\n",
    "Spark SQL es un módulo en Apache Spark para el procesamiento de datos estructurados y semi-estructurados. Es una interfaz para trabajar con datos tabulares (similares a tablas en bases de datos relacionales) utilizando SQL y también ofrece API en lenguajes de programación como Python (PySpark), Scala y Java.\n"
   ]
  },
  {
   "cell_type": "markdown",
   "metadata": {
    "application/vnd.databricks.v1+cell": {
     "cellMetadata": {},
     "inputWidgets": {},
     "nuid": "b7c5dd36-1bbd-4575-bcc0-6a77cf73451f",
     "showTitle": false,
     "title": ""
    }
   },
   "source": [
    "\n",
    "**1. Seleccionar las observaciones para el Género (Gender), la edad (Age) y la clase (Class), ordenando por edad (Age) de manera ascendente. Mostrar las 15 primeras observaciones indicando que no se trunque el resultado.**"
   ]
  },
  {
   "cell_type": "code",
   "execution_count": 0,
   "metadata": {
    "application/vnd.databricks.v1+cell": {
     "cellMetadata": {
      "byteLimit": 2048000,
      "rowLimit": 10000
     },
     "inputWidgets": {},
     "nuid": "603831f1-0a5c-4e6f-9ab2-2d93395183e2",
     "showTitle": false,
     "title": ""
    }
   },
   "outputs": [
    {
     "output_type": "stream",
     "name": "stdout",
     "output_type": "stream",
     "text": [
      "+------+---+--------+\n|gender|age|class   |\n+------+---+--------+\n|Male  |7.0|Eco     |\n|Female|7.0|Eco     |\n|Male  |7.0|Eco Plus|\n|Female|7.0|Eco     |\n|Female|7.0|Eco Plus|\n|Female|7.0|Eco     |\n|Female|7.0|Eco     |\n|Male  |7.0|Business|\n|Male  |7.0|Eco     |\n|Female|7.0|Eco Plus|\n|Female|7.0|Business|\n|Male  |7.0|Eco     |\n|Male  |7.0|Eco     |\n|Male  |7.0|Eco     |\n|Female|7.0|Eco     |\n+------+---+--------+\nonly showing top 15 rows\n\n"
     ]
    }
   ],
   "source": [
    "# Seleccionar las columnas y ordenar por edad de manera ascendente\n",
    "selected_df = df.select(\"gender\", \"age\", \"class\").orderBy(\"age\")\n",
    "\n",
    "# Mostrar las primeras 15 observaciones sin truncar el resultado\n",
    "selected_df.show(15, truncate=False)"
   ]
  },
  {
   "cell_type": "code",
   "execution_count": 0,
   "metadata": {
    "application/vnd.databricks.v1+cell": {
     "cellMetadata": {
      "byteLimit": 2048000,
      "rowLimit": 10000
     },
     "inputWidgets": {},
     "nuid": "d52b253f-4a11-413d-b008-17cbfeccef66",
     "showTitle": true,
     "title": "Utilizando ahora consultas SQL definidas de la manera spark.sql(“<mi consulta SQL>”)."
    }
   },
   "outputs": [
    {
     "output_type": "stream",
     "name": "stdout",
     "output_type": "stream",
     "text": [
      "+------+---+--------+\n|gender|age|class   |\n+------+---+--------+\n|Male  |7.0|Eco     |\n|Male  |7.0|Eco Plus|\n|Male  |7.0|Eco Plus|\n|Male  |7.0|Eco Plus|\n|Female|7.0|Eco     |\n|Female|7.0|Business|\n|Male  |7.0|Eco     |\n|Male  |7.0|Eco     |\n|Female|7.0|Eco Plus|\n|Female|7.0|Eco     |\n|Female|7.0|Eco     |\n|Male  |7.0|Eco     |\n|Male  |7.0|Eco     |\n|Male  |7.0|Eco     |\n|Male  |7.0|Business|\n+------+---+--------+\n\n"
     ]
    }
   ],
   "source": [
    "# Registrar el DataFrame como una tabla temporal\n",
    "df.createOrReplaceTempView(\"my_table\")\n",
    "\n",
    "# Consulta SQL para seleccionar las columnas requeridas y ordenar los resultados\n",
    "query = \"\"\"\n",
    "SELECT gender, age, class\n",
    "FROM my_table\n",
    "ORDER BY age ASC\n",
    "LIMIT 15\n",
    "\"\"\"\n",
    "\n",
    "# Ejecutar la consulta SQL y mostrar los resultados\n",
    "result_df = spark.sql(query)\n",
    "result_df.show(truncate=False)\n"
   ]
  },
  {
   "cell_type": "markdown",
   "metadata": {
    "application/vnd.databricks.v1+cell": {
     "cellMetadata": {},
     "inputWidgets": {},
     "nuid": "e39214b1-fcd4-4aa5-945c-b7a731a519c1",
     "showTitle": false,
     "title": ""
    }
   },
   "source": [
    "\n",
    "**2. Seleccionar las observaciones para el tipo de viaje (Type of Travel), la clase (Class) y la distancia del vuelo (Flight Distance). Filtrar la selección para distancias de vuelo (Flight Distance) mayores a 1.000 kilómetros y para el servicio a bordo (On-board service) con valoraciones superiores a “algo satisfecho”. Ordenar los resultados por distancia de vuelo (Flight Distance) de manera descendente y por servicio a bordo (On-board service) de manera ascendente.**"
   ]
  },
  {
   "cell_type": "code",
   "execution_count": 0,
   "metadata": {
    "application/vnd.databricks.v1+cell": {
     "cellMetadata": {
      "byteLimit": 2048000,
      "rowLimit": 10000
     },
     "inputWidgets": {},
     "nuid": "98bb6d4c-d198-4cd3-b5f4-01637dcdfd44",
     "showTitle": false,
     "title": ""
    }
   },
   "outputs": [
    {
     "output_type": "stream",
     "name": "stdout",
     "output_type": "stream",
     "text": [
      "+---------------+--------+---------------+----------------+\n| type_of_travel|   class|flight_distance|on_board_service|\n+---------------+--------+---------------+----------------+\n|Business travel|Eco Plus|         4983.0|             4.0|\n|Business travel|Business|         4983.0|             5.0|\n|Business travel|Business|         4963.0|             4.0|\n|Business travel|Business|         4963.0|             4.0|\n|Personal Travel|     Eco|         4963.0|             4.0|\n|Business travel|Business|         4963.0|             4.0|\n|Personal Travel|     Eco|         4963.0|             5.0|\n|Business travel|Eco Plus|         4817.0|             4.0|\n|Personal Travel|     Eco|         4817.0|             4.0|\n|Business travel|     Eco|         4817.0|             5.0|\n|Business travel|Business|         4502.0|             4.0|\n|Personal Travel|     Eco|         4502.0|             4.0|\n|Business travel|Business|         4502.0|             5.0|\n|Business travel|Business|         4243.0|             4.0|\n|Personal Travel|     Eco|         4243.0|             4.0|\n|Personal Travel|Eco Plus|         4243.0|             4.0|\n|Business travel|Business|         4243.0|             4.0|\n|Business travel|Business|         4243.0|             4.0|\n|Business travel|     Eco|         4243.0|             4.0|\n|Business travel|Business|         4243.0|             5.0|\n+---------------+--------+---------------+----------------+\nonly showing top 20 rows\n\n"
     ]
    }
   ],
   "source": [
    "# Seleccionar las columnas y filtrar las observaciones\n",
    "filtered_df = df.select(\"type_of_travel\", \"class\", \"flight_distance\", \"on_board_service\")\\\n",
    "                .filter((col(\"flight_distance\") > 1000) & (col(\"on_board_service\") > 3))\n",
    "\n",
    "# Ordenar por distancia de vuelo de manera descendente y servicio a bordo de manera ascendente\n",
    "ordered_df = filtered_df.orderBy(col(\"flight_distance\").desc(), col(\"on_board_service\").asc())\n",
    "\n",
    "# Mostrar los resultados\n",
    "ordered_df.show()\n"
   ]
  },
  {
   "cell_type": "code",
   "execution_count": 0,
   "metadata": {
    "application/vnd.databricks.v1+cell": {
     "cellMetadata": {
      "byteLimit": 2048000,
      "rowLimit": 10000
     },
     "inputWidgets": {},
     "nuid": "a7fd2daf-711a-4cfc-8017-2d9fb9fe211d",
     "showTitle": true,
     "title": "Utilizando ahora consultas SQL definidas de la manera spark.sql(“<mi consulta SQL>”)."
    }
   },
   "outputs": [
    {
     "output_type": "stream",
     "name": "stdout",
     "output_type": "stream",
     "text": [
      "+---------------+--------+---------------+----------------+\n| type_of_travel|   class|flight_distance|on_board_service|\n+---------------+--------+---------------+----------------+\n|Business travel|Eco Plus|         4983.0|             4.0|\n|Business travel|Business|         4983.0|             5.0|\n|Business travel|Business|         4963.0|             4.0|\n|Business travel|Business|         4963.0|             4.0|\n|Personal Travel|     Eco|         4963.0|             4.0|\n|Business travel|Business|         4963.0|             4.0|\n|Personal Travel|     Eco|         4963.0|             5.0|\n|Business travel|Eco Plus|         4817.0|             4.0|\n|Personal Travel|     Eco|         4817.0|             4.0|\n|Business travel|     Eco|         4817.0|             5.0|\n|Business travel|Business|         4502.0|             4.0|\n|Personal Travel|     Eco|         4502.0|             4.0|\n|Business travel|Business|         4502.0|             5.0|\n|Business travel|Business|         4243.0|             4.0|\n|Personal Travel|     Eco|         4243.0|             4.0|\n|Personal Travel|Eco Plus|         4243.0|             4.0|\n|Business travel|Business|         4243.0|             4.0|\n|Business travel|Business|         4243.0|             4.0|\n|Business travel|     Eco|         4243.0|             4.0|\n|Business travel|Business|         4243.0|             5.0|\n+---------------+--------+---------------+----------------+\nonly showing top 20 rows\n\n"
     ]
    }
   ],
   "source": [
    "# Registrar el DataFrame como una tabla temporal\n",
    "df.createOrReplaceTempView(\"my_table\")\n",
    "\n",
    "# Consulta SQL\n",
    "query = \"\"\"\n",
    "SELECT type_of_travel, class, flight_distance, on_board_service\n",
    "FROM my_table\n",
    "WHERE flight_distance > 1000 AND on_board_service > 3\n",
    "ORDER BY flight_distance DESC, on_board_service ASC\n",
    "\"\"\"\n",
    "\n",
    "# Ejecutar la consulta SQL\n",
    "result_df = spark.sql(query)\n",
    "\n",
    "# Mostrar los resultados\n",
    "result_df.show()\n"
   ]
  },
  {
   "cell_type": "markdown",
   "metadata": {
    "application/vnd.databricks.v1+cell": {
     "cellMetadata": {},
     "inputWidgets": {},
     "nuid": "c0b0b35a-0af3-4cac-b8d7-0c3a62420331",
     "showTitle": false,
     "title": ""
    }
   },
   "source": [
    "\n",
    "**3. Crear una nueva columna en el Dataframe llamada “AverageSatisfaction” que contenga el promedio de todas las columnas cuya metrica de satisfaccion se mida entre 0 y 5.  Seleccionar el género (Gender), la edad (Age) y la nueva columna (AverageSatisfaction), ordernar los resultados por AverageSatisfaction de manera descendente.**"
   ]
  },
  {
   "cell_type": "code",
   "execution_count": 0,
   "metadata": {
    "application/vnd.databricks.v1+cell": {
     "cellMetadata": {
      "byteLimit": 2048000,
      "rowLimit": 10000
     },
     "inputWidgets": {},
     "nuid": "f2ded37e-69d3-4c70-921b-875d83f7268c",
     "showTitle": false,
     "title": ""
    }
   },
   "outputs": [
    {
     "output_type": "stream",
     "name": "stdout",
     "output_type": "stream",
     "text": [
      "+------+----+-------------------+\n|gender| age|AverageSatisfaction|\n+------+----+-------------------+\n|Female|40.0|                5.0|\n|Female|39.0|                5.0|\n|  Male|39.0|                5.0|\n|  Male|60.0|                5.0|\n|  Male|47.0|                5.0|\n|  Male|45.0|                5.0|\n|  Male|53.0|                5.0|\n|  Male|54.0|  4.928571428571429|\n|Female|58.0|  4.928571428571429|\n|Female|40.0|  4.928571428571429|\n|Female|46.0|  4.928571428571429|\n|Female|55.0|  4.928571428571429|\n|Female|39.0|  4.928571428571429|\n|  Male|58.0|  4.928571428571429|\n|Female|55.0|  4.928571428571429|\n|  Male|30.0|  4.928571428571429|\n|  Male|52.0|  4.928571428571429|\n|Female|26.0|  4.928571428571429|\n|Female|53.0|  4.928571428571429|\n|Female|53.0|  4.928571428571429|\n+------+----+-------------------+\nonly showing top 20 rows\n\n"
     ]
    }
   ],
   "source": [
    "# Calcular el promedio de las columnas de satisfacción\n",
    "df_with_avg = df.withColumn(\"AverageSatisfaction\", ( col(\"wifi\") + col(\"time_convenient\") + col(\"booking\") + col(\"gate\") + col(\"food\") + col(\"boarding\") + col(\"comfort\") + col(\"entertainment\") + col(\"on_board_service\") + col(\"room_service\") + col(\"handling\") + col(\"checking\") + col(\"inflight\") + col(\"cleanliness\"))/14)\n",
    "\n",
    "# Seleccionar las columnas de interés y ordenar por AverageSatisfaction de manera descendente\n",
    "result_df = df_with_avg.select(\"gender\", \"age\", \"AverageSatisfaction\").orderBy(col(\"AverageSatisfaction\").desc())\n",
    "\n",
    "# Mostrar los resultados\n",
    "result_df.show()\n"
   ]
  },
  {
   "cell_type": "code",
   "execution_count": 0,
   "metadata": {
    "application/vnd.databricks.v1+cell": {
     "cellMetadata": {
      "byteLimit": 2048000,
      "rowLimit": 10000
     },
     "inputWidgets": {},
     "nuid": "0db56244-5256-4900-89f7-411ca2063ece",
     "showTitle": true,
     "title": "Utilizando ahora consultas SQL definidas de la manera spark.sql(“<mi consulta SQL>”)."
    }
   },
   "outputs": [
    {
     "output_type": "stream",
     "name": "stdout",
     "output_type": "stream",
     "text": [
      "+------+----+-------------------+\n|gender| age|AverageSatisfaction|\n+------+----+-------------------+\n|  Male|39.0|                5.0|\n|Female|39.0|                5.0|\n|Female|40.0|                5.0|\n|  Male|60.0|                5.0|\n|  Male|47.0|                5.0|\n|  Male|45.0|                5.0|\n|  Male|53.0|                5.0|\n|  Male|54.0|  4.928571428571429|\n|Female|58.0|  4.928571428571429|\n|Female|40.0|  4.928571428571429|\n|Female|46.0|  4.928571428571429|\n|Female|55.0|  4.928571428571429|\n|Female|39.0|  4.928571428571429|\n|  Male|58.0|  4.928571428571429|\n|Female|55.0|  4.928571428571429|\n|  Male|30.0|  4.928571428571429|\n|  Male|52.0|  4.928571428571429|\n|Female|26.0|  4.928571428571429|\n|Female|53.0|  4.928571428571429|\n|Female|53.0|  4.928571428571429|\n+------+----+-------------------+\nonly showing top 20 rows\n\n"
     ]
    }
   ],
   "source": [
    "# Registrar el DataFrame como una tabla temporal\n",
    "df.createOrReplaceTempView(\"my_table\")\n",
    "\n",
    "# Consulta SQL\n",
    "query = \"\"\"\n",
    "SELECT gender, age, (wifi + time_convenient + booking + gate + food + boarding + comfort + entertainment + on_board_service + room_service + handling + checking + inflight + cleanliness)/14 AS AverageSatisfaction\n",
    "FROM my_table\n",
    "ORDER BY AverageSatisfaction DESC\n",
    "\"\"\"\n",
    "\n",
    "# Ejecutar la consulta SQL\n",
    "result_df = spark.sql(query)\n",
    "\n",
    "# Mostrar los resultados\n",
    "result_df.show()\n"
   ]
  }
 ],
 "metadata": {
  "application/vnd.databricks.v1+notebook": {
   "dashboards": [],
   "language": "python",
   "notebookMetadata": {
    "mostRecentlyExecutedCommandWithImplicitDF": {
     "commandId": 3599216574696623,
     "dataframes": [
      "_sqldf"
     ]
    },
    "pythonIndentUnit": 4
   },
   "notebookName": "Encuesta_Aerolinea_DataFrame",
   "widgets": {}
  }
 },
 "nbformat": 4,
 "nbformat_minor": 0
}
